{
 "cells": [
  {
   "cell_type": "markdown",
   "metadata": {},
   "source": [
    "# Setup"
   ]
  },
  {
   "cell_type": "code",
   "execution_count": null,
   "metadata": {},
   "outputs": [],
   "source": []
  },
  {
   "cell_type": "code",
   "execution_count": 1,
   "metadata": {},
   "outputs": [],
   "source": [
    "import os\n",
    "import tarfile\n",
    "import urllib\n",
    "import numpy as np\n",
    "\n",
    "\n",
    "DOWNLOAD_ROOT = \"https://raw.githubusercontent.com/ageron/handson-ml2/master/\"\n",
    "HOUSING_PATH = os.path.join(\"datasets\", \"housing\")\n",
    "HOUSING_URL = DOWNLOAD_ROOT + \"datasets/housing/housing.tgz\"\n",
    "\n",
    "def fetch_housing_data(housing_url=HOUSING_URL, housing_path=HOUSING_PATH):\n",
    "    os.makedirs(housing_path, exist_ok=True)\n",
    "    tgz_path = os.path.join(housing_path, \"housing.tgz\")\n",
    "    urllib.request.urlretrieve(housing_url, tgz_path)\n",
    "    housing_tgz = tarfile.open(tgz_path)\n",
    "    housing_tgz.extractall(path=housing_path)\n",
    "    housing_tgz.close()"
   ]
  },
  {
   "cell_type": "code",
   "execution_count": 2,
   "metadata": {},
   "outputs": [],
   "source": [
    "fetch_housing_data()"
   ]
  },
  {
   "cell_type": "code",
   "execution_count": 3,
   "metadata": {},
   "outputs": [],
   "source": [
    "import pandas as pd\n",
    "\n",
    "def load_housing_data(housing_path=HOUSING_PATH):\n",
    "    csv_path = os.path.join(housing_path, \"housing.csv\")\n",
    "    return pd.read_csv(csv_path)"
   ]
  },
  {
   "cell_type": "code",
   "execution_count": 4,
   "metadata": {},
   "outputs": [
    {
     "data": {
      "text/html": [
       "<div>\n",
       "<style scoped>\n",
       "    .dataframe tbody tr th:only-of-type {\n",
       "        vertical-align: middle;\n",
       "    }\n",
       "\n",
       "    .dataframe tbody tr th {\n",
       "        vertical-align: top;\n",
       "    }\n",
       "\n",
       "    .dataframe thead th {\n",
       "        text-align: right;\n",
       "    }\n",
       "</style>\n",
       "<table border=\"1\" class=\"dataframe\">\n",
       "  <thead>\n",
       "    <tr style=\"text-align: right;\">\n",
       "      <th></th>\n",
       "      <th>longitude</th>\n",
       "      <th>latitude</th>\n",
       "      <th>housing_median_age</th>\n",
       "      <th>total_rooms</th>\n",
       "      <th>total_bedrooms</th>\n",
       "      <th>population</th>\n",
       "      <th>households</th>\n",
       "      <th>median_income</th>\n",
       "      <th>median_house_value</th>\n",
       "      <th>ocean_proximity</th>\n",
       "    </tr>\n",
       "  </thead>\n",
       "  <tbody>\n",
       "    <tr>\n",
       "      <th>0</th>\n",
       "      <td>-122.23</td>\n",
       "      <td>37.88</td>\n",
       "      <td>41.0</td>\n",
       "      <td>880.0</td>\n",
       "      <td>129.0</td>\n",
       "      <td>322.0</td>\n",
       "      <td>126.0</td>\n",
       "      <td>8.3252</td>\n",
       "      <td>452600.0</td>\n",
       "      <td>NEAR BAY</td>\n",
       "    </tr>\n",
       "    <tr>\n",
       "      <th>1</th>\n",
       "      <td>-122.22</td>\n",
       "      <td>37.86</td>\n",
       "      <td>21.0</td>\n",
       "      <td>7099.0</td>\n",
       "      <td>1106.0</td>\n",
       "      <td>2401.0</td>\n",
       "      <td>1138.0</td>\n",
       "      <td>8.3014</td>\n",
       "      <td>358500.0</td>\n",
       "      <td>NEAR BAY</td>\n",
       "    </tr>\n",
       "    <tr>\n",
       "      <th>2</th>\n",
       "      <td>-122.24</td>\n",
       "      <td>37.85</td>\n",
       "      <td>52.0</td>\n",
       "      <td>1467.0</td>\n",
       "      <td>190.0</td>\n",
       "      <td>496.0</td>\n",
       "      <td>177.0</td>\n",
       "      <td>7.2574</td>\n",
       "      <td>352100.0</td>\n",
       "      <td>NEAR BAY</td>\n",
       "    </tr>\n",
       "    <tr>\n",
       "      <th>3</th>\n",
       "      <td>-122.25</td>\n",
       "      <td>37.85</td>\n",
       "      <td>52.0</td>\n",
       "      <td>1274.0</td>\n",
       "      <td>235.0</td>\n",
       "      <td>558.0</td>\n",
       "      <td>219.0</td>\n",
       "      <td>5.6431</td>\n",
       "      <td>341300.0</td>\n",
       "      <td>NEAR BAY</td>\n",
       "    </tr>\n",
       "    <tr>\n",
       "      <th>4</th>\n",
       "      <td>-122.25</td>\n",
       "      <td>37.85</td>\n",
       "      <td>52.0</td>\n",
       "      <td>1627.0</td>\n",
       "      <td>280.0</td>\n",
       "      <td>565.0</td>\n",
       "      <td>259.0</td>\n",
       "      <td>3.8462</td>\n",
       "      <td>342200.0</td>\n",
       "      <td>NEAR BAY</td>\n",
       "    </tr>\n",
       "  </tbody>\n",
       "</table>\n",
       "</div>"
      ],
      "text/plain": [
       "   longitude  latitude  housing_median_age  total_rooms  total_bedrooms  \\\n",
       "0    -122.23     37.88                41.0        880.0           129.0   \n",
       "1    -122.22     37.86                21.0       7099.0          1106.0   \n",
       "2    -122.24     37.85                52.0       1467.0           190.0   \n",
       "3    -122.25     37.85                52.0       1274.0           235.0   \n",
       "4    -122.25     37.85                52.0       1627.0           280.0   \n",
       "\n",
       "   population  households  median_income  median_house_value ocean_proximity  \n",
       "0       322.0       126.0         8.3252            452600.0        NEAR BAY  \n",
       "1      2401.0      1138.0         8.3014            358500.0        NEAR BAY  \n",
       "2       496.0       177.0         7.2574            352100.0        NEAR BAY  \n",
       "3       558.0       219.0         5.6431            341300.0        NEAR BAY  \n",
       "4       565.0       259.0         3.8462            342200.0        NEAR BAY  "
      ]
     },
     "execution_count": 4,
     "metadata": {},
     "output_type": "execute_result"
    }
   ],
   "source": [
    "housing=load_housing_data()\n",
    "housing.head()"
   ]
  },
  {
   "cell_type": "code",
   "execution_count": 5,
   "metadata": {},
   "outputs": [
    {
     "data": {
      "text/plain": [
       "<1H OCEAN     9136\n",
       "INLAND        6551\n",
       "NEAR OCEAN    2658\n",
       "NEAR BAY      2290\n",
       "ISLAND           5\n",
       "Name: ocean_proximity, dtype: int64"
      ]
     },
     "execution_count": 5,
     "metadata": {},
     "output_type": "execute_result"
    }
   ],
   "source": [
    "housing[\"ocean_proximity\"].value_counts()"
   ]
  },
  {
   "cell_type": "code",
   "execution_count": 15,
   "metadata": {},
   "outputs": [],
   "source": [
    "import matplotlib as mpl\n",
    "\n",
    "mpl.rcParams.update({'font.size': 45})\n",
    "COLOR = 'white'\n",
    "mpl.rcParams['text.color'] = COLOR\n",
    "mpl.rcParams['axes.labelcolor'] = COLOR\n",
    "mpl.rcParams['xtick.color'] = COLOR\n",
    "mpl.rcParams['ytick.color'] = COLOR"
   ]
  },
  {
   "cell_type": "code",
   "execution_count": 20,
   "metadata": {},
   "outputs": [
    {
     "data": {
      "image/png": "[encoded data removed]",
      "text/plain": [
       "<Figure size 1440x720 with 9 Axes>"
      ]
     },
     "metadata": {
      "needs_background": "dark"
     },
     "output_type": "display_data"
    }
   ],
   "source": [
    "%matplotlib inline   \n",
    "import matplotlib.pyplot as plt\n",
    "housing.hist(bins=50, figsize=(20,10))\n",
    "#plt.rcParams.update({'font.size': 25})\n",
    "plt.show()"
   ]
  },
  {
   "cell_type": "code",
   "execution_count": 26,
   "metadata": {},
   "outputs": [],
   "source": [
    "from sklearn.model_selection import train_test_split\n",
    "\n",
    "train_set, test_set = train_test_split(housing, test_size=0.2, random_state=42)\n"
   ]
  },
  {
   "cell_type": "code",
   "execution_count": 26,
   "metadata": {},
   "outputs": [
    {
     "data": {
      "text/plain": [
       "array([6.15921 , 6.500576, 6.940296, 7.7197  , 8.94675 ])"
      ]
     },
     "execution_count": 26,
     "metadata": {},
     "output_type": "execute_result"
    }
   ],
   "source": [
    "#np.percentile(housing['median_income'],np.arange(0,100,10))\n",
    "\n",
    "np.percentile(housing['median_income'],np.arange(90,100,2))"
   ]
  },
  {
   "cell_type": "code",
   "execution_count": 57,
   "metadata": {},
   "outputs": [],
   "source": [
    "housing[\"income_cat\"] = pd.cut(housing[\"median_income\"],\n",
    "                               bins=[0., 1.5, 3.0, 4.5, 6.,15.2],\n",
    "                               labels=[1, 2, 3, 4, 5])\n"
   ]
  },
  {
   "cell_type": "code",
   "execution_count": 58,
   "metadata": {},
   "outputs": [
    {
     "name": "stdout",
     "output_type": "stream",
     "text": [
      "inf\n"
     ]
    }
   ],
   "source": [
    "print(np.inf)"
   ]
  },
  {
   "cell_type": "code",
   "execution_count": 59,
   "metadata": {},
   "outputs": [
    {
     "data": {
      "text/plain": [
       "<AxesSubplot:>"
      ]
     },
     "execution_count": 59,
     "metadata": {},
     "output_type": "execute_result"
    },
    {
     "data": {
      "image/png": "[encoded data removed]",
      "text/plain": [
       "<Figure size 432x288 with 1 Axes>"
      ]
     },
     "metadata": {
      "needs_background": "dark"
     },
     "output_type": "display_data"
    }
   ],
   "source": [
    "housing['income_cat'].hist()"
   ]
  },
  {
   "cell_type": "code",
   "execution_count": 60,
   "metadata": {},
   "outputs": [
    {
     "data": {
      "text/html": [
       "<div>\n",
       "<style scoped>\n",
       "    .dataframe tbody tr th:only-of-type {\n",
       "        vertical-align: middle;\n",
       "    }\n",
       "\n",
       "    .dataframe tbody tr th {\n",
       "        vertical-align: top;\n",
       "    }\n",
       "\n",
       "    .dataframe thead th {\n",
       "        text-align: right;\n",
       "    }\n",
       "</style>\n",
       "<table border=\"1\" class=\"dataframe\">\n",
       "  <thead>\n",
       "    <tr style=\"text-align: right;\">\n",
       "      <th></th>\n",
       "      <th>longitude</th>\n",
       "      <th>latitude</th>\n",
       "      <th>housing_median_age</th>\n",
       "      <th>total_rooms</th>\n",
       "      <th>total_bedrooms</th>\n",
       "      <th>population</th>\n",
       "      <th>households</th>\n",
       "      <th>median_income</th>\n",
       "      <th>median_house_value</th>\n",
       "      <th>ocean_proximity</th>\n",
       "      <th>income_cat</th>\n",
       "    </tr>\n",
       "  </thead>\n",
       "  <tbody>\n",
       "  </tbody>\n",
       "</table>\n",
       "</div>"
      ],
      "text/plain": [
       "Empty DataFrame\n",
       "Columns: [longitude, latitude, housing_median_age, total_rooms, total_bedrooms, population, households, median_income, median_house_value, ocean_proximity, income_cat]\n",
       "Index: []"
      ]
     },
     "execution_count": 60,
     "metadata": {},
     "output_type": "execute_result"
    }
   ],
   "source": [
    "housing[housing['income_cat'].isnull() == True]"
   ]
  },
  {
   "cell_type": "code",
   "execution_count": 61,
   "metadata": {},
   "outputs": [
    {
     "data": {
      "text/plain": [
       "0"
      ]
     },
     "execution_count": 61,
     "metadata": {},
     "output_type": "execute_result"
    }
   ],
   "source": [
    "#housing['median_income'].max()\n",
    "housing['income_cat'].isnull().sum()"
   ]
  },
  {
   "cell_type": "code",
   "execution_count": 62,
   "metadata": {},
   "outputs": [],
   "source": [
    "from sklearn.model_selection import StratifiedShuffleSplit\n",
    "\n",
    "split = StratifiedShuffleSplit(n_splits=1, test_size=0.2, random_state=42)\n",
    "for train_index, test_index in split.split(housing, housing[\"income_cat\"]):\n",
    "    strat_train_set = housing.loc[train_index]\n",
    "    strat_test_set = housing.loc[test_index]"
   ]
  },
  {
   "cell_type": "code",
   "execution_count": 66,
   "metadata": {},
   "outputs": [
    {
     "name": "stdout",
     "output_type": "stream",
     "text": [
      "16512\n"
     ]
    },
    {
     "data": {
      "text/plain": [
       "4128"
      ]
     },
     "execution_count": 66,
     "metadata": {},
     "output_type": "execute_result"
    }
   ],
   "source": [
    "print(len(strat_train_set))\n",
    "len(strat_test_set)"
   ]
  },
  {
   "cell_type": "code",
   "execution_count": 67,
   "metadata": {},
   "outputs": [
    {
     "data": {
      "text/html": [
       "<div>\n",
       "<style scoped>\n",
       "    .dataframe tbody tr th:only-of-type {\n",
       "        vertical-align: middle;\n",
       "    }\n",
       "\n",
       "    .dataframe tbody tr th {\n",
       "        vertical-align: top;\n",
       "    }\n",
       "\n",
       "    .dataframe thead th {\n",
       "        text-align: right;\n",
       "    }\n",
       "</style>\n",
       "<table border=\"1\" class=\"dataframe\">\n",
       "  <thead>\n",
       "    <tr style=\"text-align: right;\">\n",
       "      <th></th>\n",
       "      <th>longitude</th>\n",
       "      <th>latitude</th>\n",
       "      <th>housing_median_age</th>\n",
       "      <th>total_rooms</th>\n",
       "      <th>total_bedrooms</th>\n",
       "      <th>population</th>\n",
       "      <th>households</th>\n",
       "      <th>median_income</th>\n",
       "      <th>median_house_value</th>\n",
       "      <th>ocean_proximity</th>\n",
       "      <th>income_cat</th>\n",
       "    </tr>\n",
       "  </thead>\n",
       "  <tbody>\n",
       "    <tr>\n",
       "      <th>5241</th>\n",
       "      <td>-118.39</td>\n",
       "      <td>34.12</td>\n",
       "      <td>29.0</td>\n",
       "      <td>6447.0</td>\n",
       "      <td>1012.0</td>\n",
       "      <td>2184.0</td>\n",
       "      <td>960.0</td>\n",
       "      <td>8.2816</td>\n",
       "      <td>500001.0</td>\n",
       "      <td>&lt;1H OCEAN</td>\n",
       "      <td>5</td>\n",
       "    </tr>\n",
       "    <tr>\n",
       "      <th>10970</th>\n",
       "      <td>-117.86</td>\n",
       "      <td>33.77</td>\n",
       "      <td>39.0</td>\n",
       "      <td>4159.0</td>\n",
       "      <td>655.0</td>\n",
       "      <td>1669.0</td>\n",
       "      <td>651.0</td>\n",
       "      <td>4.6111</td>\n",
       "      <td>240300.0</td>\n",
       "      <td>&lt;1H OCEAN</td>\n",
       "      <td>4</td>\n",
       "    </tr>\n",
       "    <tr>\n",
       "      <th>20351</th>\n",
       "      <td>-119.05</td>\n",
       "      <td>34.21</td>\n",
       "      <td>27.0</td>\n",
       "      <td>4357.0</td>\n",
       "      <td>926.0</td>\n",
       "      <td>2110.0</td>\n",
       "      <td>876.0</td>\n",
       "      <td>3.0119</td>\n",
       "      <td>218200.0</td>\n",
       "      <td>&lt;1H OCEAN</td>\n",
       "      <td>3</td>\n",
       "    </tr>\n",
       "    <tr>\n",
       "      <th>6568</th>\n",
       "      <td>-118.15</td>\n",
       "      <td>34.20</td>\n",
       "      <td>52.0</td>\n",
       "      <td>1786.0</td>\n",
       "      <td>306.0</td>\n",
       "      <td>1018.0</td>\n",
       "      <td>322.0</td>\n",
       "      <td>4.1518</td>\n",
       "      <td>182100.0</td>\n",
       "      <td>INLAND</td>\n",
       "      <td>3</td>\n",
       "    </tr>\n",
       "    <tr>\n",
       "      <th>13285</th>\n",
       "      <td>-117.68</td>\n",
       "      <td>34.07</td>\n",
       "      <td>32.0</td>\n",
       "      <td>1775.0</td>\n",
       "      <td>314.0</td>\n",
       "      <td>1067.0</td>\n",
       "      <td>302.0</td>\n",
       "      <td>4.0375</td>\n",
       "      <td>121300.0</td>\n",
       "      <td>INLAND</td>\n",
       "      <td>3</td>\n",
       "    </tr>\n",
       "    <tr>\n",
       "      <th>...</th>\n",
       "      <td>...</td>\n",
       "      <td>...</td>\n",
       "      <td>...</td>\n",
       "      <td>...</td>\n",
       "      <td>...</td>\n",
       "      <td>...</td>\n",
       "      <td>...</td>\n",
       "      <td>...</td>\n",
       "      <td>...</td>\n",
       "      <td>...</td>\n",
       "      <td>...</td>\n",
       "    </tr>\n",
       "    <tr>\n",
       "      <th>20519</th>\n",
       "      <td>-121.53</td>\n",
       "      <td>38.58</td>\n",
       "      <td>33.0</td>\n",
       "      <td>4988.0</td>\n",
       "      <td>1169.0</td>\n",
       "      <td>2414.0</td>\n",
       "      <td>1075.0</td>\n",
       "      <td>1.9728</td>\n",
       "      <td>76400.0</td>\n",
       "      <td>INLAND</td>\n",
       "      <td>2</td>\n",
       "    </tr>\n",
       "    <tr>\n",
       "      <th>17430</th>\n",
       "      <td>-120.44</td>\n",
       "      <td>34.65</td>\n",
       "      <td>30.0</td>\n",
       "      <td>2265.0</td>\n",
       "      <td>512.0</td>\n",
       "      <td>1402.0</td>\n",
       "      <td>471.0</td>\n",
       "      <td>1.9750</td>\n",
       "      <td>134000.0</td>\n",
       "      <td>NEAR OCEAN</td>\n",
       "      <td>2</td>\n",
       "    </tr>\n",
       "    <tr>\n",
       "      <th>4019</th>\n",
       "      <td>-118.49</td>\n",
       "      <td>34.18</td>\n",
       "      <td>31.0</td>\n",
       "      <td>3073.0</td>\n",
       "      <td>674.0</td>\n",
       "      <td>1486.0</td>\n",
       "      <td>684.0</td>\n",
       "      <td>4.8984</td>\n",
       "      <td>311700.0</td>\n",
       "      <td>&lt;1H OCEAN</td>\n",
       "      <td>4</td>\n",
       "    </tr>\n",
       "    <tr>\n",
       "      <th>12107</th>\n",
       "      <td>-117.32</td>\n",
       "      <td>33.99</td>\n",
       "      <td>27.0</td>\n",
       "      <td>5464.0</td>\n",
       "      <td>850.0</td>\n",
       "      <td>2400.0</td>\n",
       "      <td>836.0</td>\n",
       "      <td>4.7110</td>\n",
       "      <td>133500.0</td>\n",
       "      <td>INLAND</td>\n",
       "      <td>4</td>\n",
       "    </tr>\n",
       "    <tr>\n",
       "      <th>2398</th>\n",
       "      <td>-118.91</td>\n",
       "      <td>36.79</td>\n",
       "      <td>19.0</td>\n",
       "      <td>1616.0</td>\n",
       "      <td>324.0</td>\n",
       "      <td>187.0</td>\n",
       "      <td>80.0</td>\n",
       "      <td>3.7857</td>\n",
       "      <td>78600.0</td>\n",
       "      <td>INLAND</td>\n",
       "      <td>3</td>\n",
       "    </tr>\n",
       "  </tbody>\n",
       "</table>\n",
       "<p>4128 rows × 11 columns</p>\n",
       "</div>"
      ],
      "text/plain": [
       "       longitude  latitude  housing_median_age  total_rooms  total_bedrooms  \\\n",
       "5241     -118.39     34.12                29.0       6447.0          1012.0   \n",
       "10970    -117.86     33.77                39.0       4159.0           655.0   \n",
       "20351    -119.05     34.21                27.0       4357.0           926.0   \n",
       "6568     -118.15     34.20                52.0       1786.0           306.0   \n",
       "13285    -117.68     34.07                32.0       1775.0           314.0   \n",
       "...          ...       ...                 ...          ...             ...   \n",
       "20519    -121.53     38.58                33.0       4988.0          1169.0   \n",
       "17430    -120.44     34.65                30.0       2265.0           512.0   \n",
       "4019     -118.49     34.18                31.0       3073.0           674.0   \n",
       "12107    -117.32     33.99                27.0       5464.0           850.0   \n",
       "2398     -118.91     36.79                19.0       1616.0           324.0   \n",
       "\n",
       "       population  households  median_income  median_house_value  \\\n",
       "5241       2184.0       960.0         8.2816            500001.0   \n",
       "10970      1669.0       651.0         4.6111            240300.0   \n",
       "20351      2110.0       876.0         3.0119            218200.0   \n",
       "6568       1018.0       322.0         4.1518            182100.0   \n",
       "13285      1067.0       302.0         4.0375            121300.0   \n",
       "...           ...         ...            ...                 ...   \n",
       "20519      2414.0      1075.0         1.9728             76400.0   \n",
       "17430      1402.0       471.0         1.9750            134000.0   \n",
       "4019       1486.0       684.0         4.8984            311700.0   \n",
       "12107      2400.0       836.0         4.7110            133500.0   \n",
       "2398        187.0        80.0         3.7857             78600.0   \n",
       "\n",
       "      ocean_proximity income_cat  \n",
       "5241        <1H OCEAN          5  \n",
       "10970       <1H OCEAN          4  \n",
       "20351       <1H OCEAN          3  \n",
       "6568           INLAND          3  \n",
       "13285          INLAND          3  \n",
       "...               ...        ...  \n",
       "20519          INLAND          2  \n",
       "17430      NEAR OCEAN          2  \n",
       "4019        <1H OCEAN          4  \n",
       "12107          INLAND          4  \n",
       "2398           INLAND          3  \n",
       "\n",
       "[4128 rows x 11 columns]"
      ]
     },
     "execution_count": 67,
     "metadata": {},
     "output_type": "execute_result"
    }
   ],
   "source": [
    "strat_test_set"
   ]
  },
  {
   "cell_type": "code",
   "execution_count": 68,
   "metadata": {},
   "outputs": [
    {
     "data": {
      "text/plain": [
       "3    0.350533\n",
       "2    0.318798\n",
       "4    0.176357\n",
       "5    0.114583\n",
       "1    0.039729\n",
       "Name: income_cat, dtype: float64"
      ]
     },
     "execution_count": 68,
     "metadata": {},
     "output_type": "execute_result"
    }
   ],
   "source": [
    "strat_test_set[\"income_cat\"].value_counts()/ len(strat_test_set)"
   ]
  },
  {
   "cell_type": "code",
   "execution_count": 69,
   "metadata": {},
   "outputs": [
    {
     "data": {
      "text/plain": [
       "3    0.350594\n",
       "2    0.318859\n",
       "4    0.176296\n",
       "5    0.114402\n",
       "1    0.039850\n",
       "Name: income_cat, dtype: float64"
      ]
     },
     "execution_count": 69,
     "metadata": {},
     "output_type": "execute_result"
    }
   ],
   "source": [
    "strat_train_set[\"income_cat\"].value_counts()/ len(strat_train_set)"
   ]
  },
  {
   "cell_type": "code",
   "execution_count": 70,
   "metadata": {},
   "outputs": [],
   "source": [
    "for set_ in (strat_train_set, strat_test_set):\n",
    "    set_.drop(\"income_cat\", axis=1, inplace=True)\n"
   ]
  },
  {
   "cell_type": "code",
   "execution_count": 71,
   "metadata": {},
   "outputs": [],
   "source": [
    "housing = strat_train_set.copy()\n"
   ]
  },
  {
   "cell_type": "code",
   "execution_count": 72,
   "metadata": {},
   "outputs": [
    {
     "data": {
      "text/plain": [
       "<AxesSubplot:xlabel='longitude', ylabel='latitude'>"
      ]
     },
     "execution_count": 72,
     "metadata": {},
     "output_type": "execute_result"
    },
    {
     "data": {
      "image/png": "[encoded data removed]",
      "text/plain": [
       "<Figure size 432x288 with 1 Axes>"
      ]
     },
     "metadata": {
      "needs_background": "dark"
     },
     "output_type": "display_data"
    }
   ],
   "source": [
    "housing.plot(x='longitude',y='latitude',kind='scatter')"
   ]
  },
  {
   "cell_type": "code",
   "execution_count": 73,
   "metadata": {},
   "outputs": [
    {
     "data": {
      "text/plain": [
       "<AxesSubplot:xlabel='longitude', ylabel='latitude'>"
      ]
     },
     "execution_count": 73,
     "metadata": {},
     "output_type": "execute_result"
    },
    {
     "data": {
      "image/png": "[encoded data removed]",
      "text/plain": [
       "<Figure size 432x288 with 1 Axes>"
      ]
     },
     "metadata": {
      "needs_background": "dark"
     },
     "output_type": "display_data"
    }
   ],
   "source": [
    "housing.plot(kind=\"scatter\", x=\"longitude\", y=\"latitude\", alpha=0.01)\n"
   ]
  },
  {
   "cell_type": "code",
   "execution_count": 74,
   "metadata": {},
   "outputs": [
    {
     "data": {
      "text/plain": [
       "<matplotlib.legend.Legend at 0x1ce27d603a0>"
      ]
     },
     "execution_count": 74,
     "metadata": {},
     "output_type": "execute_result"
    },
    {
     "data": {
      "image/png": "[encoded data removed]",
      "text/plain": [
       "<Figure size 720x504 with 2 Axes>"
      ]
     },
     "metadata": {
      "needs_background": "dark"
     },
     "output_type": "display_data"
    }
   ],
   "source": [
    "housing.plot(kind=\"scatter\", x=\"longitude\", y=\"latitude\", alpha=0.4,\n",
    "    s=housing[\"population\"]/100, label=\"population\", figsize=(10,7),\n",
    "    c=\"median_house_value\", cmap=plt.get_cmap(\"jet\"), colorbar=True,\n",
    ")\n",
    "plt.legend()"
   ]
  },
  {
   "cell_type": "code",
   "execution_count": 75,
   "metadata": {},
   "outputs": [
    {
     "data": {
      "text/plain": [
       "median_house_value    1.000000\n",
       "median_income         0.687160\n",
       "total_rooms           0.135097\n",
       "housing_median_age    0.114110\n",
       "households            0.064506\n",
       "total_bedrooms        0.047689\n",
       "population           -0.026920\n",
       "longitude            -0.047432\n",
       "latitude             -0.142724\n",
       "Name: median_house_value, dtype: float64"
      ]
     },
     "execution_count": 75,
     "metadata": {},
     "output_type": "execute_result"
    }
   ],
   "source": [
    "corr_matrix = housing.corr()\n",
    "corr_matrix[\"median_house_value\"].sort_values(ascending=False)\n"
   ]
  },
  {
   "cell_type": "code",
   "execution_count": 76,
   "metadata": {},
   "outputs": [
    {
     "data": {
      "text/plain": [
       "array([[<AxesSubplot:xlabel='median_house_value', ylabel='median_house_value'>,\n",
       "        <AxesSubplot:xlabel='median_income', ylabel='median_house_value'>,\n",
       "        <AxesSubplot:xlabel='total_rooms', ylabel='median_house_value'>,\n",
       "        <AxesSubplot:xlabel='housing_median_age', ylabel='median_house_value'>],\n",
       "       [<AxesSubplot:xlabel='median_house_value', ylabel='median_income'>,\n",
       "        <AxesSubplot:xlabel='median_income', ylabel='median_income'>,\n",
       "        <AxesSubplot:xlabel='total_rooms', ylabel='median_income'>,\n",
       "        <AxesSubplot:xlabel='housing_median_age', ylabel='median_income'>],\n",
       "       [<AxesSubplot:xlabel='median_house_value', ylabel='total_rooms'>,\n",
       "        <AxesSubplot:xlabel='median_income', ylabel='total_rooms'>,\n",
       "        <AxesSubplot:xlabel='total_rooms', ylabel='total_rooms'>,\n",
       "        <AxesSubplot:xlabel='housing_median_age', ylabel='total_rooms'>],\n",
       "       [<AxesSubplot:xlabel='median_house_value', ylabel='housing_median_age'>,\n",
       "        <AxesSubplot:xlabel='median_income', ylabel='housing_median_age'>,\n",
       "        <AxesSubplot:xlabel='total_rooms', ylabel='housing_median_age'>,\n",
       "        <AxesSubplot:xlabel='housing_median_age', ylabel='housing_median_age'>]],\n",
       "      dtype=object)"
      ]
     },
     "execution_count": 76,
     "metadata": {},
     "output_type": "execute_result"
    },
    {
     "data": {
      "image/png": "[encoded data removed]",
      "text/plain": [
       "<Figure size 864x576 with 16 Axes>"
      ]
     },
     "metadata": {
      "needs_background": "dark"
     },
     "output_type": "display_data"
    }
   ],
   "source": [
    "from pandas.plotting import scatter_matrix\n",
    "\n",
    "attributes = [\"median_house_value\", \"median_income\", \"total_rooms\",\n",
    "              \"housing_median_age\"]\n",
    "scatter_matrix(housing[attributes], figsize=(12, 8))"
   ]
  },
  {
   "cell_type": "code",
   "execution_count": 77,
   "metadata": {},
   "outputs": [],
   "source": [
    "housing[\"rooms_per_household\"] = housing[\"total_rooms\"]/housing[\"households\"]\n",
    "housing[\"bedrooms_per_room\"] = housing[\"total_bedrooms\"]/housing[\"total_rooms\"]\n",
    "housing[\"population_per_household\"]=housing[\"population\"]/housing[\"households\"]"
   ]
  },
  {
   "cell_type": "code",
   "execution_count": 78,
   "metadata": {},
   "outputs": [
    {
     "data": {
      "text/plain": [
       "median_house_value          1.000000\n",
       "median_income               0.687160\n",
       "rooms_per_household         0.146285\n",
       "total_rooms                 0.135097\n",
       "housing_median_age          0.114110\n",
       "households                  0.064506\n",
       "total_bedrooms              0.047689\n",
       "population_per_household   -0.021985\n",
       "population                 -0.026920\n",
       "longitude                  -0.047432\n",
       "latitude                   -0.142724\n",
       "bedrooms_per_room          -0.259984\n",
       "Name: median_house_value, dtype: float64"
      ]
     },
     "execution_count": 78,
     "metadata": {},
     "output_type": "execute_result"
    }
   ],
   "source": [
    "corr_matrix = housing.corr()\n",
    "corr_matrix[\"median_house_value\"].sort_values(ascending=False)"
   ]
  },
  {
   "cell_type": "code",
   "execution_count": 79,
   "metadata": {},
   "outputs": [],
   "source": [
    "housing = strat_train_set.drop(\"median_house_value\", axis=1)\n",
    "housing_labels = strat_train_set[\"median_house_value\"].copy()\n"
   ]
  },
  {
   "cell_type": "code",
   "execution_count": 80,
   "metadata": {},
   "outputs": [],
   "source": [
    "from sklearn.impute import SimpleImputer\n",
    "\n",
    "imputer = SimpleImputer(strategy=\"median\")"
   ]
  },
  {
   "cell_type": "code",
   "execution_count": 81,
   "metadata": {},
   "outputs": [
    {
     "data": {
      "text/plain": [
       "Index(['longitude', 'latitude', 'housing_median_age', 'total_rooms',\n",
       "       'total_bedrooms', 'population', 'households', 'median_income',\n",
       "       'ocean_proximity'],\n",
       "      dtype='object')"
      ]
     },
     "execution_count": 81,
     "metadata": {},
     "output_type": "execute_result"
    }
   ],
   "source": [
    "housing.columns"
   ]
  },
  {
   "cell_type": "code",
   "execution_count": 82,
   "metadata": {},
   "outputs": [],
   "source": [
    "housing_num = housing.drop(\"ocean_proximity\", axis=1)\n"
   ]
  },
  {
   "cell_type": "code",
   "execution_count": 83,
   "metadata": {},
   "outputs": [
    {
     "data": {
      "text/plain": [
       "SimpleImputer(strategy='median')"
      ]
     },
     "execution_count": 83,
     "metadata": {},
     "output_type": "execute_result"
    }
   ],
   "source": [
    "imputer.fit(housing_num)\n"
   ]
  },
  {
   "cell_type": "code",
   "execution_count": 84,
   "metadata": {},
   "outputs": [
    {
     "data": {
      "text/plain": [
       "array([[-121.89  ,   37.29  ,   38.    , ...,  710.    ,  339.    ,\n",
       "           2.7042],\n",
       "       [-121.93  ,   37.05  ,   14.    , ...,  306.    ,  113.    ,\n",
       "           6.4214],\n",
       "       [-117.2   ,   32.77  ,   31.    , ...,  936.    ,  462.    ,\n",
       "           2.8621],\n",
       "       ...,\n",
       "       [-116.4   ,   34.09  ,    9.    , ..., 2098.    ,  765.    ,\n",
       "           3.2723],\n",
       "       [-118.01  ,   33.82  ,   31.    , ..., 1356.    ,  356.    ,\n",
       "           4.0625],\n",
       "       [-122.45  ,   37.77  ,   52.    , ..., 1269.    ,  639.    ,\n",
       "           3.575 ]])"
      ]
     },
     "execution_count": 84,
     "metadata": {},
     "output_type": "execute_result"
    }
   ],
   "source": [
    "X = imputer.transform(housing_num)\n",
    "X"
   ]
  },
  {
   "cell_type": "code",
   "execution_count": 85,
   "metadata": {},
   "outputs": [],
   "source": [
    "housing_tr = pd.DataFrame(X, columns=housing_num.columns,\n",
    "                          index=housing_num.index)"
   ]
  },
  {
   "cell_type": "code",
   "execution_count": 86,
   "metadata": {},
   "outputs": [
    {
     "data": {
      "text/html": [
       "<div>\n",
       "<style scoped>\n",
       "    .dataframe tbody tr th:only-of-type {\n",
       "        vertical-align: middle;\n",
       "    }\n",
       "\n",
       "    .dataframe tbody tr th {\n",
       "        vertical-align: top;\n",
       "    }\n",
       "\n",
       "    .dataframe thead th {\n",
       "        text-align: right;\n",
       "    }\n",
       "</style>\n",
       "<table border=\"1\" class=\"dataframe\">\n",
       "  <thead>\n",
       "    <tr style=\"text-align: right;\">\n",
       "      <th></th>\n",
       "      <th>longitude</th>\n",
       "      <th>latitude</th>\n",
       "      <th>housing_median_age</th>\n",
       "      <th>total_rooms</th>\n",
       "      <th>total_bedrooms</th>\n",
       "      <th>population</th>\n",
       "      <th>households</th>\n",
       "      <th>median_income</th>\n",
       "    </tr>\n",
       "  </thead>\n",
       "  <tbody>\n",
       "    <tr>\n",
       "      <th>17606</th>\n",
       "      <td>-121.89</td>\n",
       "      <td>37.29</td>\n",
       "      <td>38.0</td>\n",
       "      <td>1568.0</td>\n",
       "      <td>351.0</td>\n",
       "      <td>710.0</td>\n",
       "      <td>339.0</td>\n",
       "      <td>2.7042</td>\n",
       "    </tr>\n",
       "    <tr>\n",
       "      <th>18632</th>\n",
       "      <td>-121.93</td>\n",
       "      <td>37.05</td>\n",
       "      <td>14.0</td>\n",
       "      <td>679.0</td>\n",
       "      <td>108.0</td>\n",
       "      <td>306.0</td>\n",
       "      <td>113.0</td>\n",
       "      <td>6.4214</td>\n",
       "    </tr>\n",
       "    <tr>\n",
       "      <th>14650</th>\n",
       "      <td>-117.20</td>\n",
       "      <td>32.77</td>\n",
       "      <td>31.0</td>\n",
       "      <td>1952.0</td>\n",
       "      <td>471.0</td>\n",
       "      <td>936.0</td>\n",
       "      <td>462.0</td>\n",
       "      <td>2.8621</td>\n",
       "    </tr>\n",
       "    <tr>\n",
       "      <th>3230</th>\n",
       "      <td>-119.61</td>\n",
       "      <td>36.31</td>\n",
       "      <td>25.0</td>\n",
       "      <td>1847.0</td>\n",
       "      <td>371.0</td>\n",
       "      <td>1460.0</td>\n",
       "      <td>353.0</td>\n",
       "      <td>1.8839</td>\n",
       "    </tr>\n",
       "    <tr>\n",
       "      <th>3555</th>\n",
       "      <td>-118.59</td>\n",
       "      <td>34.23</td>\n",
       "      <td>17.0</td>\n",
       "      <td>6592.0</td>\n",
       "      <td>1525.0</td>\n",
       "      <td>4459.0</td>\n",
       "      <td>1463.0</td>\n",
       "      <td>3.0347</td>\n",
       "    </tr>\n",
       "    <tr>\n",
       "      <th>...</th>\n",
       "      <td>...</td>\n",
       "      <td>...</td>\n",
       "      <td>...</td>\n",
       "      <td>...</td>\n",
       "      <td>...</td>\n",
       "      <td>...</td>\n",
       "      <td>...</td>\n",
       "      <td>...</td>\n",
       "    </tr>\n",
       "    <tr>\n",
       "      <th>6563</th>\n",
       "      <td>-118.13</td>\n",
       "      <td>34.20</td>\n",
       "      <td>46.0</td>\n",
       "      <td>1271.0</td>\n",
       "      <td>236.0</td>\n",
       "      <td>573.0</td>\n",
       "      <td>210.0</td>\n",
       "      <td>4.9312</td>\n",
       "    </tr>\n",
       "    <tr>\n",
       "      <th>12053</th>\n",
       "      <td>-117.56</td>\n",
       "      <td>33.88</td>\n",
       "      <td>40.0</td>\n",
       "      <td>1196.0</td>\n",
       "      <td>294.0</td>\n",
       "      <td>1052.0</td>\n",
       "      <td>258.0</td>\n",
       "      <td>2.0682</td>\n",
       "    </tr>\n",
       "    <tr>\n",
       "      <th>13908</th>\n",
       "      <td>-116.40</td>\n",
       "      <td>34.09</td>\n",
       "      <td>9.0</td>\n",
       "      <td>4855.0</td>\n",
       "      <td>872.0</td>\n",
       "      <td>2098.0</td>\n",
       "      <td>765.0</td>\n",
       "      <td>3.2723</td>\n",
       "    </tr>\n",
       "    <tr>\n",
       "      <th>11159</th>\n",
       "      <td>-118.01</td>\n",
       "      <td>33.82</td>\n",
       "      <td>31.0</td>\n",
       "      <td>1960.0</td>\n",
       "      <td>380.0</td>\n",
       "      <td>1356.0</td>\n",
       "      <td>356.0</td>\n",
       "      <td>4.0625</td>\n",
       "    </tr>\n",
       "    <tr>\n",
       "      <th>15775</th>\n",
       "      <td>-122.45</td>\n",
       "      <td>37.77</td>\n",
       "      <td>52.0</td>\n",
       "      <td>3095.0</td>\n",
       "      <td>682.0</td>\n",
       "      <td>1269.0</td>\n",
       "      <td>639.0</td>\n",
       "      <td>3.5750</td>\n",
       "    </tr>\n",
       "  </tbody>\n",
       "</table>\n",
       "<p>16512 rows × 8 columns</p>\n",
       "</div>"
      ],
      "text/plain": [
       "       longitude  latitude  housing_median_age  total_rooms  total_bedrooms  \\\n",
       "17606    -121.89     37.29                38.0       1568.0           351.0   \n",
       "18632    -121.93     37.05                14.0        679.0           108.0   \n",
       "14650    -117.20     32.77                31.0       1952.0           471.0   \n",
       "3230     -119.61     36.31                25.0       1847.0           371.0   \n",
       "3555     -118.59     34.23                17.0       6592.0          1525.0   \n",
       "...          ...       ...                 ...          ...             ...   \n",
       "6563     -118.13     34.20                46.0       1271.0           236.0   \n",
       "12053    -117.56     33.88                40.0       1196.0           294.0   \n",
       "13908    -116.40     34.09                 9.0       4855.0           872.0   \n",
       "11159    -118.01     33.82                31.0       1960.0           380.0   \n",
       "15775    -122.45     37.77                52.0       3095.0           682.0   \n",
       "\n",
       "       population  households  median_income  \n",
       "17606       710.0       339.0         2.7042  \n",
       "18632       306.0       113.0         6.4214  \n",
       "14650       936.0       462.0         2.8621  \n",
       "3230       1460.0       353.0         1.8839  \n",
       "3555       4459.0      1463.0         3.0347  \n",
       "...           ...         ...            ...  \n",
       "6563        573.0       210.0         4.9312  \n",
       "12053      1052.0       258.0         2.0682  \n",
       "13908      2098.0       765.0         3.2723  \n",
       "11159      1356.0       356.0         4.0625  \n",
       "15775      1269.0       639.0         3.5750  \n",
       "\n",
       "[16512 rows x 8 columns]"
      ]
     },
     "execution_count": 86,
     "metadata": {},
     "output_type": "execute_result"
    }
   ],
   "source": [
    "housing_tr"
   ]
  },
  {
   "cell_type": "code",
   "execution_count": 87,
   "metadata": {},
   "outputs": [],
   "source": [
    "housing_cat = housing[[\"ocean_proximity\"]]\n"
   ]
  },
  {
   "cell_type": "code",
   "execution_count": 88,
   "metadata": {},
   "outputs": [
    {
     "data": {
      "text/plain": [
       "<16512x5 sparse matrix of type '<class 'numpy.float64'>'\n",
       "\twith 16512 stored elements in Compressed Sparse Row format>"
      ]
     },
     "execution_count": 88,
     "metadata": {},
     "output_type": "execute_result"
    }
   ],
   "source": [
    "from sklearn.preprocessing import OneHotEncoder\n",
    "\n",
    "cat_encoder = OneHotEncoder()\n",
    "housing_cat_1hot = cat_encoder.fit_transform(housing_cat)\n",
    "housing_cat_1hot"
   ]
  },
  {
   "cell_type": "code",
   "execution_count": 89,
   "metadata": {},
   "outputs": [],
   "source": [
    "from sklearn.base import BaseEstimator, TransformerMixin\n",
    "\n",
    "rooms_ix, bedrooms_ix, population_ix, households_ix = 3, 4, 5, 6\n",
    "\n",
    "class CombinedAttributesAdder(BaseEstimator, TransformerMixin):\n",
    "    def __init__(self, add_bedrooms_per_room=True): # no *args or **kargs\n",
    "        self.add_bedrooms_per_room = add_bedrooms_per_room\n",
    "    def fit(self, X, y=None):\n",
    "        return self  # nothing else to do\n",
    "    def transform(self, X):\n",
    "        rooms_per_household = X[:, rooms_ix] / X[:, households_ix]\n",
    "        population_per_household = X[:, population_ix] / X[:, households_ix]\n",
    "        if self.add_bedrooms_per_room:\n",
    "            bedrooms_per_room = X[:, bedrooms_ix] / X[:, rooms_ix]\n",
    "            return np.c_[X, rooms_per_household, population_per_household,\n",
    "                         bedrooms_per_room]\n",
    "\n",
    "        else:\n",
    "            return np.c_[X, rooms_per_household, population_per_household]\n",
    "\n",
    "attr_adder = CombinedAttributesAdder(add_bedrooms_per_room=False)\n",
    "housing_extra_attribs = attr_adder.transform(housing.values)\n"
   ]
  },
  {
   "cell_type": "code",
   "execution_count": 90,
   "metadata": {},
   "outputs": [],
   "source": [
    "from sklearn.pipeline import Pipeline\n",
    "from sklearn.preprocessing import StandardScaler\n",
    "\n",
    "num_pipeline = Pipeline([\n",
    "        ('imputer', SimpleImputer(strategy=\"median\")),\n",
    "        ('attribs_adder', CombinedAttributesAdder()),\n",
    "        ('std_scaler', StandardScaler()),\n",
    "    ])\n",
    "\n",
    "housing_num_tr = num_pipeline.fit_transform(housing_num)"
   ]
  },
  {
   "cell_type": "code",
   "execution_count": 91,
   "metadata": {},
   "outputs": [],
   "source": [
    "from sklearn.compose import ColumnTransformer\n",
    "\n",
    "num_attribs = list(housing_num)\n",
    "cat_attribs = [\"ocean_proximity\"]\n",
    "\n",
    "full_pipeline = ColumnTransformer([\n",
    "        (\"num\", num_pipeline, num_attribs),\n",
    "        (\"cat\", OneHotEncoder(), cat_attribs),\n",
    "    ])\n",
    "\n",
    "housing_prepared = full_pipeline.fit_transform(housing)\n"
   ]
  },
  {
   "cell_type": "code",
   "execution_count": 92,
   "metadata": {},
   "outputs": [
    {
     "data": {
      "text/plain": [
       "LinearRegression()"
      ]
     },
     "execution_count": 92,
     "metadata": {},
     "output_type": "execute_result"
    }
   ],
   "source": [
    "from sklearn.linear_model import LinearRegression\n",
    "\n",
    "lin_reg = LinearRegression()\n",
    "lin_reg.fit(housing_prepared, housing_labels)\n"
   ]
  },
  {
   "cell_type": "code",
   "execution_count": 93,
   "metadata": {},
   "outputs": [
    {
     "name": "stdout",
     "output_type": "stream",
     "text": [
      "Predictions: [210644.60459286 317768.80697211 210956.43331178  59218.98886849\n",
      " 189747.55849879]\n",
      "Labels: [286600.0, 340600.0, 196900.0, 46300.0, 254500.0]\n"
     ]
    }
   ],
   "source": [
    "some_data = housing.iloc[:5]\n",
    "some_labels = housing_labels.iloc[:5]\n",
    "some_data_prepared = full_pipeline.transform(some_data)\n",
    "print(\"Predictions:\", lin_reg.predict(some_data_prepared))\n",
    "print(\"Labels:\", list(some_labels))"
   ]
  },
  {
   "cell_type": "code",
   "execution_count": 94,
   "metadata": {},
   "outputs": [
    {
     "data": {
      "text/plain": [
       "68628.19819848922"
      ]
     },
     "execution_count": 94,
     "metadata": {},
     "output_type": "execute_result"
    }
   ],
   "source": [
    "from sklearn.metrics import mean_squared_error\n",
    "housing_predictions = lin_reg.predict(housing_prepared)\n",
    "lin_mse = mean_squared_error(housing_labels, housing_predictions)\n",
    "lin_rmse = np.sqrt(lin_mse)\n",
    "lin_rmse"
   ]
  },
  {
   "cell_type": "code",
   "execution_count": 95,
   "metadata": {},
   "outputs": [
    {
     "data": {
      "text/plain": [
       "DecisionTreeRegressor()"
      ]
     },
     "execution_count": 95,
     "metadata": {},
     "output_type": "execute_result"
    }
   ],
   "source": [
    "from sklearn.tree import DecisionTreeRegressor\n",
    "\n",
    "tree_reg = DecisionTreeRegressor()\n",
    "tree_reg.fit(housing_prepared, housing_labels)"
   ]
  },
  {
   "cell_type": "code",
   "execution_count": 96,
   "metadata": {},
   "outputs": [
    {
     "data": {
      "text/plain": [
       "0.0"
      ]
     },
     "execution_count": 96,
     "metadata": {},
     "output_type": "execute_result"
    }
   ],
   "source": [
    "housing_predictions = tree_reg.predict(housing_prepared)\n",
    "tree_mse = mean_squared_error(housing_labels, housing_predictions)\n",
    "tree_rmse = np.sqrt(tree_mse)\n",
    "tree_rmse"
   ]
  },
  {
   "cell_type": "code",
   "execution_count": 97,
   "metadata": {},
   "outputs": [],
   "source": [
    "from sklearn.model_selection import cross_val_score\n",
    "scores = cross_val_score(tree_reg, housing_prepared, housing_labels,\n",
    "                         scoring=\"neg_mean_squared_error\", cv=10)\n",
    "tree_rmse_scores = np.sqrt(-scores)"
   ]
  },
  {
   "cell_type": "code",
   "execution_count": 98,
   "metadata": {},
   "outputs": [
    {
     "name": "stdout",
     "output_type": "stream",
     "text": [
      "Scores: [68015.60403709 65789.79373435 71212.32652837 70671.4665643\n",
      " 70757.54309234 75199.01330377 70816.71831405 71566.11170409\n",
      " 75490.85740879 71355.27762872]\n",
      "Mean: 71087.47123158605\n",
      "Standard deviation: 2728.8819757998126\n"
     ]
    }
   ],
   "source": [
    "def display_scores(scores):\n",
    "    print(\"Scores:\", scores)\n",
    "    print(\"Mean:\", scores.mean())\n",
    "    print(\"Standard deviation:\", scores.std())\n",
    "\n",
    "display_scores(tree_rmse_scores)"
   ]
  },
  {
   "cell_type": "code",
   "execution_count": 99,
   "metadata": {},
   "outputs": [
    {
     "name": "stdout",
     "output_type": "stream",
     "text": [
      "Scores: [66782.73843989 66960.118071   70347.95244419 74739.57052552\n",
      " 68031.13388938 71193.84183426 64969.63056405 68281.61137997\n",
      " 71552.91566558 67665.10082067]\n",
      "Mean: 69052.46136345083\n",
      "Standard deviation: 2731.6740017983443\n"
     ]
    }
   ],
   "source": [
    "lin_scores = cross_val_score(lin_reg, housing_prepared, housing_labels,\n",
    "                             scoring=\"neg_mean_squared_error\", cv=10)\n",
    "\n",
    "lin_rmse_scores = np.sqrt(-lin_scores)\n",
    "display_scores(lin_rmse_scores)"
   ]
  },
  {
   "cell_type": "code",
   "execution_count": 100,
   "metadata": {},
   "outputs": [
    {
     "name": "stdout",
     "output_type": "stream",
     "text": [
      "Scores: [49576.7705499  47971.34569756 49653.25971328 52444.52452518\n",
      " 49850.90129162 53581.20435285 49069.53497991 48110.64150941\n",
      " 52983.93518255 50040.12397994]\n",
      "Mean: 50328.22417822121\n",
      "Standard deviation: 1884.180302517529\n"
     ]
    }
   ],
   "source": [
    "from sklearn.ensemble import RandomForestRegressor\n",
    "forest_reg = RandomForestRegressor()\n",
    "forest_reg.fit(housing_prepared, housing_labels)\n",
    "\n",
    "forest_scores=cross_val_score(forest_reg,housing_prepared,housing_labels,scoring=\"neg_mean_squared_error\",cv=10)\n",
    "forest_rmse_scores=np.sqrt(-forest_scores)\n",
    "display_scores(forest_rmse_scores)"
   ]
  },
  {
   "cell_type": "code",
   "execution_count": 63,
   "metadata": {},
   "outputs": [
    {
     "data": {
      "text/plain": [
       "(73799.24988443682, 69206.59397872559)"
      ]
     },
     "execution_count": 63,
     "metadata": {},
     "output_type": "execute_result"
    }
   ],
   "source": [
    "71502.92193158121+2296.3279528556186,71502.92193158121-2296.3279528556186"
   ]
  },
  {
   "cell_type": "code",
   "execution_count": 64,
   "metadata": {},
   "outputs": [
    {
     "data": {
      "text/plain": [
       "(71984.4081922887, 66223.75177265257)"
      ]
     },
     "execution_count": 64,
     "metadata": {},
     "output_type": "execute_result"
    }
   ],
   "source": [
    "69104.07998247063+2880.328209818065,69104.07998247063-2880.328209818065"
   ]
  },
  {
   "cell_type": "code",
   "execution_count": 65,
   "metadata": {},
   "outputs": [
    {
     "data": {
      "text/plain": [
       "(52279.384155434665, 48085.222045237526)"
      ]
     },
     "execution_count": 65,
     "metadata": {},
     "output_type": "execute_result"
    }
   ],
   "source": [
    "50182.303100336096+2097.0810550985693,50182.303100336096-2097.0810550985693"
   ]
  },
  {
   "cell_type": "code",
   "execution_count": 66,
   "metadata": {},
   "outputs": [
    {
     "data": {
      "text/plain": [
       "GridSearchCV(cv=5, estimator=RandomForestRegressor(),\n",
       "             param_grid=[{'max_features': [2, 4, 6, 8],\n",
       "                          'n_estimators': [3, 10, 30]},\n",
       "                         {'bootstrap': [False], 'max_features': [2, 3, 4],\n",
       "                          'n_estimators': [3, 10]}],\n",
       "             return_train_score=True, scoring='neg_mean_squared_error')"
      ]
     },
     "execution_count": 66,
     "metadata": {},
     "output_type": "execute_result"
    }
   ],
   "source": [
    "from sklearn.model_selection import GridSearchCV\n",
    "\n",
    "param_grid = [\n",
    "    {'n_estimators': [3, 10, 30], 'max_features': [2, 4, 6, 8]},\n",
    "    {'bootstrap': [False], 'n_estimators': [3, 10], 'max_features': [2, 3, 4]},\n",
    "  ]\n",
    "\n",
    "forest_reg = RandomForestRegressor()\n",
    "\n",
    "grid_search = GridSearchCV(forest_reg, param_grid, cv=5,\n",
    "                           scoring='neg_mean_squared_error',\n",
    "                           return_train_score=True)\n",
    "\n",
    "grid_search.fit(housing_prepared, housing_labels)"
   ]
  },
  {
   "cell_type": "code",
   "execution_count": 67,
   "metadata": {},
   "outputs": [
    {
     "data": {
      "text/plain": [
       "{'max_features': 6, 'n_estimators': 30}"
      ]
     },
     "execution_count": 67,
     "metadata": {},
     "output_type": "execute_result"
    }
   ],
   "source": [
    "grid_search.best_params_"
   ]
  },
  {
   "cell_type": "code",
   "execution_count": 68,
   "metadata": {},
   "outputs": [
    {
     "data": {
      "text/plain": [
       "RandomForestRegressor(max_features=6, n_estimators=30)"
      ]
     },
     "execution_count": 68,
     "metadata": {},
     "output_type": "execute_result"
    }
   ],
   "source": [
    "grid_search.best_estimator_"
   ]
  },
  {
   "cell_type": "code",
   "execution_count": 69,
   "metadata": {},
   "outputs": [
    {
     "name": "stdout",
     "output_type": "stream",
     "text": [
      "64797.477825099995 {'max_features': 2, 'n_estimators': 3}\n",
      "54897.90860110208 {'max_features': 2, 'n_estimators': 10}\n",
      "52538.555612220924 {'max_features': 2, 'n_estimators': 30}\n",
      "60259.12084673914 {'max_features': 4, 'n_estimators': 3}\n",
      "52898.195453443994 {'max_features': 4, 'n_estimators': 10}\n",
      "50653.922645808765 {'max_features': 4, 'n_estimators': 30}\n",
      "59976.98379146462 {'max_features': 6, 'n_estimators': 3}\n",
      "51698.227184713316 {'max_features': 6, 'n_estimators': 10}\n",
      "50112.555784007876 {'max_features': 6, 'n_estimators': 30}\n",
      "59699.39195899674 {'max_features': 8, 'n_estimators': 3}\n",
      "52127.287188524846 {'max_features': 8, 'n_estimators': 10}\n",
      "50205.75847598238 {'max_features': 8, 'n_estimators': 30}\n",
      "62419.94194780813 {'bootstrap': False, 'max_features': 2, 'n_estimators': 3}\n",
      "54558.68455297126 {'bootstrap': False, 'max_features': 2, 'n_estimators': 10}\n",
      "58779.50881265587 {'bootstrap': False, 'max_features': 3, 'n_estimators': 3}\n",
      "52257.22368392537 {'bootstrap': False, 'max_features': 3, 'n_estimators': 10}\n",
      "58937.2140739706 {'bootstrap': False, 'max_features': 4, 'n_estimators': 3}\n",
      "51260.70415851384 {'bootstrap': False, 'max_features': 4, 'n_estimators': 10}\n"
     ]
    }
   ],
   "source": [
    "cvres = grid_search.cv_results_\n",
    "for mean_score, params in zip(cvres[\"mean_test_score\"], cvres[\"params\"]):\n",
    "    print(np.sqrt(-mean_score), params)"
   ]
  },
  {
   "cell_type": "code",
   "execution_count": 70,
   "metadata": {},
   "outputs": [
    {
     "data": {
      "text/plain": [
       "array([8.10119963e-02, 6.88628673e-02, 4.29491602e-02, 1.82797207e-02,\n",
       "       1.62650562e-02, 1.80356230e-02, 1.53929754e-02, 3.14590096e-01,\n",
       "       6.72685306e-02, 1.08150756e-01, 7.55836410e-02, 1.23804811e-02,\n",
       "       1.44649421e-01, 7.09976174e-05, 8.56119602e-03, 7.94748174e-03])"
      ]
     },
     "execution_count": 70,
     "metadata": {},
     "output_type": "execute_result"
    }
   ],
   "source": [
    "feature_importances = grid_search.best_estimator_.feature_importances_\n",
    "feature_importances"
   ]
  },
  {
   "cell_type": "code",
   "execution_count": null,
   "metadata": {},
   "outputs": [],
   "source": [
    "#array([ 0,  7,  9, 10, 12])"
   ]
  },
  {
   "cell_type": "code",
   "execution_count": 71,
   "metadata": {},
   "outputs": [
    {
     "data": {
      "text/plain": [
       "[(0.3145900959999083, 'median_income'),\n",
       " (0.14464942123937438, 'INLAND'),\n",
       " (0.10815075568622758, 'pop_per_hhold'),\n",
       " (0.0810119962524695, 'longitude'),\n",
       " (0.07558364104590494, 'bedrooms_per_room'),\n",
       " (0.06886286729530768, 'latitude'),\n",
       " (0.06726853056557038, 'rooms_per_hhold'),\n",
       " (0.04294916018561411, 'housing_median_age'),\n",
       " (0.018279720690493797, 'total_rooms'),\n",
       " (0.018035622958131898, 'population'),\n",
       " (0.01626505620042355, 'total_bedrooms'),\n",
       " (0.015392975352065569, 'households'),\n",
       " (0.012380481146611543, '<1H OCEAN'),\n",
       " (0.008561196021630978, 'NEAR BAY'),\n",
       " (0.00794748174291508, 'NEAR OCEAN'),\n",
       " (7.0997617350745e-05, 'ISLAND')]"
      ]
     },
     "execution_count": 71,
     "metadata": {},
     "output_type": "execute_result"
    }
   ],
   "source": [
    "extra_attribs = [\"rooms_per_hhold\", \"pop_per_hhold\", \"bedrooms_per_room\"]\n",
    "cat_encoder = full_pipeline.named_transformers_[\"cat\"]\n",
    "cat_one_hot_attribs = list(cat_encoder.categories_[0])\n",
    "attributes = num_attribs + extra_attribs + cat_one_hot_attribs\n",
    "sorted(zip(feature_importances, attributes), reverse=True)"
   ]
  },
  {
   "cell_type": "code",
   "execution_count": 72,
   "metadata": {},
   "outputs": [],
   "source": [
    "final_model = grid_search.best_estimator_\n",
    "\n",
    "X_test = strat_test_set.drop(\"median_house_value\", axis=1)\n",
    "y_test = strat_test_set[\"median_house_value\"].copy()\n",
    "\n",
    "X_test_prepared = full_pipeline.transform(X_test)\n",
    "\n",
    "final_predictions = final_model.predict(X_test_prepared)\n",
    "\n",
    "final_mse = mean_squared_error(y_test, final_predictions)\n",
    "final_rmse = np.sqrt(final_mse)   "
   ]
  },
  {
   "cell_type": "code",
   "execution_count": 73,
   "metadata": {},
   "outputs": [
    {
     "data": {
      "text/plain": [
       "array([45965.28358722, 49914.22935576])"
      ]
     },
     "execution_count": 73,
     "metadata": {},
     "output_type": "execute_result"
    }
   ],
   "source": [
    "from scipy import stats\n",
    "confidence = 0.95\n",
    "squared_errors = (final_predictions - y_test) ** 2\n",
    "np.sqrt(stats.t.interval(confidence, len(squared_errors) - 1,\n",
    "                         loc=squared_errors.mean(),\n",
    "                         scale=stats.sem(squared_errors)))\n"
   ]
  },
  {
   "cell_type": "code",
   "execution_count": 103,
   "metadata": {},
   "outputs": [
    {
     "data": {
      "text/plain": [
       "array([[-1.15604281,  0.77194962,  0.74333089, ...,  0.        ,\n",
       "         0.        ,  0.        ],\n",
       "       [-1.17602483,  0.6596948 , -1.1653172 , ...,  0.        ,\n",
       "         0.        ,  0.        ],\n",
       "       [ 1.18684903, -1.34218285,  0.18664186, ...,  0.        ,\n",
       "         0.        ,  1.        ],\n",
       "       ...,\n",
       "       [ 1.58648943, -0.72478134, -1.56295222, ...,  0.        ,\n",
       "         0.        ,  0.        ],\n",
       "       [ 0.78221312, -0.85106801,  0.18664186, ...,  0.        ,\n",
       "         0.        ,  0.        ],\n",
       "       [-1.43579109,  0.99645926,  1.85670895, ...,  0.        ,\n",
       "         1.        ,  0.        ]])"
      ]
     },
     "execution_count": 103,
     "metadata": {},
     "output_type": "execute_result"
    }
   ],
   "source": [
    "housing_prepared"
   ]
  },
  {
   "cell_type": "code",
   "execution_count": 104,
   "metadata": {},
   "outputs": [
    {
     "data": {
      "text/plain": [
       "17606    286600.0\n",
       "18632    340600.0\n",
       "14650    196900.0\n",
       "3230      46300.0\n",
       "3555     254500.0\n",
       "           ...   \n",
       "6563     240200.0\n",
       "12053    113000.0\n",
       "13908     97800.0\n",
       "11159    225900.0\n",
       "15775    500001.0\n",
       "Name: median_house_value, Length: 16512, dtype: float64"
      ]
     },
     "execution_count": 104,
     "metadata": {},
     "output_type": "execute_result"
    }
   ],
   "source": [
    "housing_labels"
   ]
  },
  {
   "cell_type": "markdown",
   "metadata": {},
   "source": [
    "# Excercise 2"
   ]
  },
  {
   "cell_type": "markdown",
   "metadata": {},
   "source": [
    "### Excercise 2.1"
   ]
  },
  {
   "cell_type": "code",
   "execution_count": 74,
   "metadata": {},
   "outputs": [
    {
     "name": "stdout",
     "output_type": "stream",
     "text": [
      "Fitting 5 folds for each of 50 candidates, totalling 250 fits\n",
      "[CV] END ..............................C=10.0, kernel=linear; total time=   7.2s\n",
      "[CV] END ..............................C=10.0, kernel=linear; total time=   7.4s\n",
      "[CV] END ..............................C=10.0, kernel=linear; total time=   7.3s\n",
      "[CV] END ..............................C=10.0, kernel=linear; total time=   6.0s\n",
      "[CV] END ..............................C=10.0, kernel=linear; total time=   6.0s\n",
      "[CV] END ..............................C=30.0, kernel=linear; total time=   6.0s\n",
      "[CV] END ..............................C=30.0, kernel=linear; total time=   6.0s\n",
      "[CV] END ..............................C=30.0, kernel=linear; total time=   5.9s\n",
      "[CV] END ..............................C=30.0, kernel=linear; total time=   6.0s\n",
      "[CV] END ..............................C=30.0, kernel=linear; total time=   6.0s\n",
      "[CV] END .............................C=100.0, kernel=linear; total time=   6.0s\n",
      "[CV] END .............................C=100.0, kernel=linear; total time=   5.9s\n",
      "[CV] END .............................C=100.0, kernel=linear; total time=   5.9s\n",
      "[CV] END .............................C=100.0, kernel=linear; total time=   6.7s\n",
      "[CV] END .............................C=100.0, kernel=linear; total time=   6.0s\n",
      "[CV] END .............................C=300.0, kernel=linear; total time=   6.1s\n",
      "[CV] END .............................C=300.0, kernel=linear; total time=   6.0s\n",
      "[CV] END .............................C=300.0, kernel=linear; total time=   5.9s\n",
      "[CV] END .............................C=300.0, kernel=linear; total time=   6.0s\n",
      "[CV] END .............................C=300.0, kernel=linear; total time=   6.0s\n",
      "[CV] END ............................C=1000.0, kernel=linear; total time=   6.7s\n",
      "[CV] END ............................C=1000.0, kernel=linear; total time=   5.9s\n",
      "[CV] END ............................C=1000.0, kernel=linear; total time=   6.0s\n",
      "[CV] END ............................C=1000.0, kernel=linear; total time=   6.1s\n",
      "[CV] END ............................C=1000.0, kernel=linear; total time=   6.1s\n",
      "[CV] END ............................C=3000.0, kernel=linear; total time=   6.6s\n",
      "[CV] END ............................C=3000.0, kernel=linear; total time=   6.6s\n",
      "[CV] END ............................C=3000.0, kernel=linear; total time=   6.4s\n",
      "[CV] END ............................C=3000.0, kernel=linear; total time=   6.4s\n",
      "[CV] END ............................C=3000.0, kernel=linear; total time=   6.6s\n",
      "[CV] END ...........................C=10000.0, kernel=linear; total time=   7.7s\n",
      "[CV] END ...........................C=10000.0, kernel=linear; total time=   7.7s\n",
      "[CV] END ...........................C=10000.0, kernel=linear; total time=   8.1s\n",
      "[CV] END ...........................C=10000.0, kernel=linear; total time=   7.6s\n",
      "[CV] END ...........................C=10000.0, kernel=linear; total time=   7.9s\n",
      "[CV] END ...........................C=30000.0, kernel=linear; total time=  11.8s\n",
      "[CV] END ...........................C=30000.0, kernel=linear; total time=  11.0s\n",
      "[CV] END ...........................C=30000.0, kernel=linear; total time=  10.3s\n",
      "[CV] END ...........................C=30000.0, kernel=linear; total time=  10.9s\n",
      "[CV] END ...........................C=30000.0, kernel=linear; total time=  11.0s\n",
      "[CV] END ......................C=1.0, gamma=0.01, kernel=rbf; total time=   9.4s\n",
      "[CV] END ......................C=1.0, gamma=0.01, kernel=rbf; total time=   9.4s\n",
      "[CV] END ......................C=1.0, gamma=0.01, kernel=rbf; total time=   9.4s\n",
      "[CV] END ......................C=1.0, gamma=0.01, kernel=rbf; total time=   9.2s\n",
      "[CV] END ......................C=1.0, gamma=0.01, kernel=rbf; total time=   9.1s\n",
      "[CV] END ......................C=1.0, gamma=0.03, kernel=rbf; total time=   9.2s\n",
      "[CV] END ......................C=1.0, gamma=0.03, kernel=rbf; total time=   9.2s\n",
      "[CV] END ......................C=1.0, gamma=0.03, kernel=rbf; total time=   9.0s\n",
      "[CV] END ......................C=1.0, gamma=0.03, kernel=rbf; total time=   9.3s\n",
      "[CV] END ......................C=1.0, gamma=0.03, kernel=rbf; total time=   9.1s\n",
      "[CV] END .......................C=1.0, gamma=0.1, kernel=rbf; total time=   9.1s\n",
      "[CV] END .......................C=1.0, gamma=0.1, kernel=rbf; total time=   9.1s\n",
      "[CV] END .......................C=1.0, gamma=0.1, kernel=rbf; total time=   9.1s\n",
      "[CV] END .......................C=1.0, gamma=0.1, kernel=rbf; total time=   9.0s\n",
      "[CV] END .......................C=1.0, gamma=0.1, kernel=rbf; total time=   9.2s\n",
      "[CV] END .......................C=1.0, gamma=0.3, kernel=rbf; total time=   8.9s\n",
      "[CV] END .......................C=1.0, gamma=0.3, kernel=rbf; total time=   9.1s\n",
      "[CV] END .......................C=1.0, gamma=0.3, kernel=rbf; total time=   8.8s\n",
      "[CV] END .......................C=1.0, gamma=0.3, kernel=rbf; total time=   9.0s\n",
      "[CV] END .......................C=1.0, gamma=0.3, kernel=rbf; total time=   9.0s\n",
      "[CV] END .......................C=1.0, gamma=1.0, kernel=rbf; total time=   8.7s\n",
      "[CV] END .......................C=1.0, gamma=1.0, kernel=rbf; total time=   8.6s\n",
      "[CV] END .......................C=1.0, gamma=1.0, kernel=rbf; total time=   8.8s\n",
      "[CV] END .......................C=1.0, gamma=1.0, kernel=rbf; total time=   8.7s\n",
      "[CV] END .......................C=1.0, gamma=1.0, kernel=rbf; total time=   8.7s\n",
      "[CV] END .......................C=1.0, gamma=3.0, kernel=rbf; total time=   9.4s\n",
      "[CV] END .......................C=1.0, gamma=3.0, kernel=rbf; total time=   9.9s\n",
      "[CV] END .......................C=1.0, gamma=3.0, kernel=rbf; total time=   9.2s\n",
      "[CV] END .......................C=1.0, gamma=3.0, kernel=rbf; total time=   9.4s\n",
      "[CV] END .......................C=1.0, gamma=3.0, kernel=rbf; total time=   9.5s\n",
      "[CV] END ......................C=3.0, gamma=0.01, kernel=rbf; total time=   9.3s\n",
      "[CV] END ......................C=3.0, gamma=0.01, kernel=rbf; total time=   9.3s\n",
      "[CV] END ......................C=3.0, gamma=0.01, kernel=rbf; total time=   9.3s\n",
      "[CV] END ......................C=3.0, gamma=0.01, kernel=rbf; total time=   9.3s\n",
      "[CV] END ......................C=3.0, gamma=0.01, kernel=rbf; total time=   9.2s\n",
      "[CV] END ......................C=3.0, gamma=0.03, kernel=rbf; total time=   9.2s\n",
      "[CV] END ......................C=3.0, gamma=0.03, kernel=rbf; total time=   9.2s\n",
      "[CV] END ......................C=3.0, gamma=0.03, kernel=rbf; total time=   9.2s\n",
      "[CV] END ......................C=3.0, gamma=0.03, kernel=rbf; total time=   9.2s\n",
      "[CV] END ......................C=3.0, gamma=0.03, kernel=rbf; total time=   9.2s\n",
      "[CV] END .......................C=3.0, gamma=0.1, kernel=rbf; total time=   9.3s\n",
      "[CV] END .......................C=3.0, gamma=0.1, kernel=rbf; total time=   9.2s\n",
      "[CV] END .......................C=3.0, gamma=0.1, kernel=rbf; total time=   9.1s\n",
      "[CV] END .......................C=3.0, gamma=0.1, kernel=rbf; total time=   9.1s\n",
      "[CV] END .......................C=3.0, gamma=0.1, kernel=rbf; total time=   9.0s\n",
      "[CV] END .......................C=3.0, gamma=0.3, kernel=rbf; total time=   9.0s\n",
      "[CV] END .......................C=3.0, gamma=0.3, kernel=rbf; total time=   8.9s\n",
      "[CV] END .......................C=3.0, gamma=0.3, kernel=rbf; total time=   9.2s\n",
      "[CV] END .......................C=3.0, gamma=0.3, kernel=rbf; total time=   9.0s\n",
      "[CV] END .......................C=3.0, gamma=0.3, kernel=rbf; total time=   8.9s\n",
      "[CV] END .......................C=3.0, gamma=1.0, kernel=rbf; total time=   8.7s\n",
      "[CV] END .......................C=3.0, gamma=1.0, kernel=rbf; total time=   8.6s\n",
      "[CV] END .......................C=3.0, gamma=1.0, kernel=rbf; total time=   8.6s\n",
      "[CV] END .......................C=3.0, gamma=1.0, kernel=rbf; total time=   8.7s\n",
      "[CV] END .......................C=3.0, gamma=1.0, kernel=rbf; total time=   8.7s\n",
      "[CV] END .......................C=3.0, gamma=3.0, kernel=rbf; total time=   9.3s\n",
      "[CV] END .......................C=3.0, gamma=3.0, kernel=rbf; total time=   9.2s\n",
      "[CV] END .......................C=3.0, gamma=3.0, kernel=rbf; total time=  10.0s\n",
      "[CV] END .......................C=3.0, gamma=3.0, kernel=rbf; total time=   9.9s\n",
      "[CV] END .......................C=3.0, gamma=3.0, kernel=rbf; total time=   9.4s\n",
      "[CV] END .....................C=10.0, gamma=0.01, kernel=rbf; total time=   9.2s\n",
      "[CV] END .....................C=10.0, gamma=0.01, kernel=rbf; total time=   9.4s\n",
      "[CV] END .....................C=10.0, gamma=0.01, kernel=rbf; total time=   9.2s\n",
      "[CV] END .....................C=10.0, gamma=0.01, kernel=rbf; total time=   9.2s\n",
      "[CV] END .....................C=10.0, gamma=0.01, kernel=rbf; total time=   9.5s\n",
      "[CV] END .....................C=10.0, gamma=0.03, kernel=rbf; total time=   9.2s\n",
      "[CV] END .....................C=10.0, gamma=0.03, kernel=rbf; total time=   9.5s\n",
      "[CV] END .....................C=10.0, gamma=0.03, kernel=rbf; total time=   9.2s\n",
      "[CV] END .....................C=10.0, gamma=0.03, kernel=rbf; total time=   9.3s\n",
      "[CV] END .....................C=10.0, gamma=0.03, kernel=rbf; total time=   9.1s\n",
      "[CV] END ......................C=10.0, gamma=0.1, kernel=rbf; total time=   9.5s\n",
      "[CV] END ......................C=10.0, gamma=0.1, kernel=rbf; total time=   9.1s\n",
      "[CV] END ......................C=10.0, gamma=0.1, kernel=rbf; total time=   9.0s\n",
      "[CV] END ......................C=10.0, gamma=0.1, kernel=rbf; total time=   9.2s\n",
      "[CV] END ......................C=10.0, gamma=0.1, kernel=rbf; total time=   9.2s\n",
      "[CV] END ......................C=10.0, gamma=0.3, kernel=rbf; total time=   8.8s\n",
      "[CV] END ......................C=10.0, gamma=0.3, kernel=rbf; total time=   9.0s\n",
      "[CV] END ......................C=10.0, gamma=0.3, kernel=rbf; total time=   8.9s\n",
      "[CV] END ......................C=10.0, gamma=0.3, kernel=rbf; total time=   8.9s\n",
      "[CV] END ......................C=10.0, gamma=0.3, kernel=rbf; total time=   8.9s\n",
      "[CV] END ......................C=10.0, gamma=1.0, kernel=rbf; total time=   8.8s\n",
      "[CV] END ......................C=10.0, gamma=1.0, kernel=rbf; total time=   8.8s\n",
      "[CV] END ......................C=10.0, gamma=1.0, kernel=rbf; total time=   9.3s\n",
      "[CV] END ......................C=10.0, gamma=1.0, kernel=rbf; total time=   8.7s\n",
      "[CV] END ......................C=10.0, gamma=1.0, kernel=rbf; total time=   8.7s\n",
      "[CV] END ......................C=10.0, gamma=3.0, kernel=rbf; total time=   9.4s\n",
      "[CV] END ......................C=10.0, gamma=3.0, kernel=rbf; total time=   9.2s\n",
      "[CV] END ......................C=10.0, gamma=3.0, kernel=rbf; total time=   9.5s\n",
      "[CV] END ......................C=10.0, gamma=3.0, kernel=rbf; total time=   9.4s\n",
      "[CV] END ......................C=10.0, gamma=3.0, kernel=rbf; total time=   9.2s\n",
      "[CV] END .....................C=30.0, gamma=0.01, kernel=rbf; total time=   9.1s\n",
      "[CV] END .....................C=30.0, gamma=0.01, kernel=rbf; total time=   9.6s\n",
      "[CV] END .....................C=30.0, gamma=0.01, kernel=rbf; total time=   9.2s\n",
      "[CV] END .....................C=30.0, gamma=0.01, kernel=rbf; total time=   9.1s\n",
      "[CV] END .....................C=30.0, gamma=0.01, kernel=rbf; total time=   9.3s\n",
      "[CV] END .....................C=30.0, gamma=0.03, kernel=rbf; total time=   9.1s\n",
      "[CV] END .....................C=30.0, gamma=0.03, kernel=rbf; total time=   9.2s\n",
      "[CV] END .....................C=30.0, gamma=0.03, kernel=rbf; total time=   9.3s\n",
      "[CV] END .....................C=30.0, gamma=0.03, kernel=rbf; total time=   9.2s\n",
      "[CV] END .....................C=30.0, gamma=0.03, kernel=rbf; total time=   9.2s\n",
      "[CV] END ......................C=30.0, gamma=0.1, kernel=rbf; total time=   9.1s\n",
      "[CV] END ......................C=30.0, gamma=0.1, kernel=rbf; total time=   9.1s\n",
      "[CV] END ......................C=30.0, gamma=0.1, kernel=rbf; total time=   9.1s\n",
      "[CV] END ......................C=30.0, gamma=0.1, kernel=rbf; total time=   9.0s\n",
      "[CV] END ......................C=30.0, gamma=0.1, kernel=rbf; total time=   9.1s\n",
      "[CV] END ......................C=30.0, gamma=0.3, kernel=rbf; total time=   9.1s\n",
      "[CV] END ......................C=30.0, gamma=0.3, kernel=rbf; total time=   9.2s\n",
      "[CV] END ......................C=30.0, gamma=0.3, kernel=rbf; total time=   8.8s\n",
      "[CV] END ......................C=30.0, gamma=0.3, kernel=rbf; total time=   9.1s\n",
      "[CV] END ......................C=30.0, gamma=0.3, kernel=rbf; total time=   8.9s\n",
      "[CV] END ......................C=30.0, gamma=1.0, kernel=rbf; total time=   8.7s\n",
      "[CV] END ......................C=30.0, gamma=1.0, kernel=rbf; total time=   8.7s\n",
      "[CV] END ......................C=30.0, gamma=1.0, kernel=rbf; total time=   8.8s\n",
      "[CV] END ......................C=30.0, gamma=1.0, kernel=rbf; total time=   8.6s\n",
      "[CV] END ......................C=30.0, gamma=1.0, kernel=rbf; total time=   8.8s\n",
      "[CV] END ......................C=30.0, gamma=3.0, kernel=rbf; total time=   9.4s\n",
      "[CV] END ......................C=30.0, gamma=3.0, kernel=rbf; total time=   9.3s\n",
      "[CV] END ......................C=30.0, gamma=3.0, kernel=rbf; total time=   9.3s\n",
      "[CV] END ......................C=30.0, gamma=3.0, kernel=rbf; total time=   9.3s\n",
      "[CV] END ......................C=30.0, gamma=3.0, kernel=rbf; total time=   9.4s\n",
      "[CV] END ....................C=100.0, gamma=0.01, kernel=rbf; total time=   9.2s\n",
      "[CV] END ....................C=100.0, gamma=0.01, kernel=rbf; total time=   9.2s\n",
      "[CV] END ....................C=100.0, gamma=0.01, kernel=rbf; total time=   9.2s\n",
      "[CV] END ....................C=100.0, gamma=0.01, kernel=rbf; total time=   9.2s\n",
      "[CV] END ....................C=100.0, gamma=0.01, kernel=rbf; total time=   9.6s\n",
      "[CV] END ....................C=100.0, gamma=0.03, kernel=rbf; total time=   9.0s\n",
      "[CV] END ....................C=100.0, gamma=0.03, kernel=rbf; total time=   9.2s\n",
      "[CV] END ....................C=100.0, gamma=0.03, kernel=rbf; total time=   9.2s\n",
      "[CV] END ....................C=100.0, gamma=0.03, kernel=rbf; total time=   9.1s\n",
      "[CV] END ....................C=100.0, gamma=0.03, kernel=rbf; total time=   9.0s\n",
      "[CV] END .....................C=100.0, gamma=0.1, kernel=rbf; total time=   9.3s\n",
      "[CV] END .....................C=100.0, gamma=0.1, kernel=rbf; total time=   9.0s\n",
      "[CV] END .....................C=100.0, gamma=0.1, kernel=rbf; total time=   9.1s\n",
      "[CV] END .....................C=100.0, gamma=0.1, kernel=rbf; total time=   9.0s\n",
      "[CV] END .....................C=100.0, gamma=0.1, kernel=rbf; total time=   9.0s\n",
      "[CV] END .....................C=100.0, gamma=0.3, kernel=rbf; total time=   8.8s\n",
      "[CV] END .....................C=100.0, gamma=0.3, kernel=rbf; total time=   8.7s\n",
      "[CV] END .....................C=100.0, gamma=0.3, kernel=rbf; total time=   8.8s\n",
      "[CV] END .....................C=100.0, gamma=0.3, kernel=rbf; total time=   8.8s\n",
      "[CV] END .....................C=100.0, gamma=0.3, kernel=rbf; total time=   8.8s\n",
      "[CV] END .....................C=100.0, gamma=1.0, kernel=rbf; total time=   8.7s\n",
      "[CV] END .....................C=100.0, gamma=1.0, kernel=rbf; total time=   8.7s\n",
      "[CV] END .....................C=100.0, gamma=1.0, kernel=rbf; total time=   8.8s\n",
      "[CV] END .....................C=100.0, gamma=1.0, kernel=rbf; total time=   8.6s\n",
      "[CV] END .....................C=100.0, gamma=1.0, kernel=rbf; total time=   8.7s\n",
      "[CV] END .....................C=100.0, gamma=3.0, kernel=rbf; total time=   9.3s\n",
      "[CV] END .....................C=100.0, gamma=3.0, kernel=rbf; total time=   9.3s\n",
      "[CV] END .....................C=100.0, gamma=3.0, kernel=rbf; total time=   9.4s\n",
      "[CV] END .....................C=100.0, gamma=3.0, kernel=rbf; total time=   9.4s\n",
      "[CV] END .....................C=100.0, gamma=3.0, kernel=rbf; total time=   9.3s\n",
      "[CV] END ....................C=300.0, gamma=0.01, kernel=rbf; total time=   9.0s\n",
      "[CV] END ....................C=300.0, gamma=0.01, kernel=rbf; total time=   9.1s\n",
      "[CV] END ....................C=300.0, gamma=0.01, kernel=rbf; total time=   9.3s\n",
      "[CV] END ....................C=300.0, gamma=0.01, kernel=rbf; total time=   9.2s\n",
      "[CV] END ....................C=300.0, gamma=0.01, kernel=rbf; total time=   9.2s\n",
      "[CV] END ....................C=300.0, gamma=0.03, kernel=rbf; total time=   9.0s\n",
      "[CV] END ....................C=300.0, gamma=0.03, kernel=rbf; total time=   8.9s\n",
      "[CV] END ....................C=300.0, gamma=0.03, kernel=rbf; total time=   8.8s\n",
      "[CV] END ....................C=300.0, gamma=0.03, kernel=rbf; total time=   8.9s\n",
      "[CV] END ....................C=300.0, gamma=0.03, kernel=rbf; total time=   8.9s\n",
      "[CV] END .....................C=300.0, gamma=0.1, kernel=rbf; total time=   8.8s\n",
      "[CV] END .....................C=300.0, gamma=0.1, kernel=rbf; total time=   8.7s\n",
      "[CV] END .....................C=300.0, gamma=0.1, kernel=rbf; total time=   8.7s\n",
      "[CV] END .....................C=300.0, gamma=0.1, kernel=rbf; total time=   9.0s\n",
      "[CV] END .....................C=300.0, gamma=0.1, kernel=rbf; total time=   8.8s\n",
      "[CV] END .....................C=300.0, gamma=0.3, kernel=rbf; total time=   8.7s\n",
      "[CV] END .....................C=300.0, gamma=0.3, kernel=rbf; total time=   8.7s\n",
      "[CV] END .....................C=300.0, gamma=0.3, kernel=rbf; total time=   8.9s\n",
      "[CV] END .....................C=300.0, gamma=0.3, kernel=rbf; total time=   8.7s\n",
      "[CV] END .....................C=300.0, gamma=0.3, kernel=rbf; total time=   8.7s\n",
      "[CV] END .....................C=300.0, gamma=1.0, kernel=rbf; total time=   8.7s\n",
      "[CV] END .....................C=300.0, gamma=1.0, kernel=rbf; total time=   8.6s\n",
      "[CV] END .....................C=300.0, gamma=1.0, kernel=rbf; total time=   8.6s\n",
      "[CV] END .....................C=300.0, gamma=1.0, kernel=rbf; total time=   8.7s\n",
      "[CV] END .....................C=300.0, gamma=1.0, kernel=rbf; total time=   8.7s\n",
      "[CV] END .....................C=300.0, gamma=3.0, kernel=rbf; total time=   9.3s\n",
      "[CV] END .....................C=300.0, gamma=3.0, kernel=rbf; total time=   9.3s\n",
      "[CV] END .....................C=300.0, gamma=3.0, kernel=rbf; total time=   9.4s\n",
      "[CV] END .....................C=300.0, gamma=3.0, kernel=rbf; total time=   9.4s\n",
      "[CV] END .....................C=300.0, gamma=3.0, kernel=rbf; total time=   9.3s\n",
      "[CV] END ...................C=1000.0, gamma=0.01, kernel=rbf; total time=   9.0s\n",
      "[CV] END ...................C=1000.0, gamma=0.01, kernel=rbf; total time=   8.8s\n",
      "[CV] END ...................C=1000.0, gamma=0.01, kernel=rbf; total time=   9.5s\n",
      "[CV] END ...................C=1000.0, gamma=0.01, kernel=rbf; total time=   8.8s\n",
      "[CV] END ...................C=1000.0, gamma=0.01, kernel=rbf; total time=   8.8s\n",
      "[CV] END ...................C=1000.0, gamma=0.03, kernel=rbf; total time=   8.8s\n",
      "[CV] END ...................C=1000.0, gamma=0.03, kernel=rbf; total time=   8.7s\n",
      "[CV] END ...................C=1000.0, gamma=0.03, kernel=rbf; total time=   8.9s\n",
      "[CV] END ...................C=1000.0, gamma=0.03, kernel=rbf; total time=   8.8s\n",
      "[CV] END ...................C=1000.0, gamma=0.03, kernel=rbf; total time=   8.7s\n",
      "[CV] END ....................C=1000.0, gamma=0.1, kernel=rbf; total time=   8.8s\n",
      "[CV] END ....................C=1000.0, gamma=0.1, kernel=rbf; total time=   8.7s\n",
      "[CV] END ....................C=1000.0, gamma=0.1, kernel=rbf; total time=   8.6s\n",
      "[CV] END ....................C=1000.0, gamma=0.1, kernel=rbf; total time=   8.8s\n",
      "[CV] END ....................C=1000.0, gamma=0.1, kernel=rbf; total time=   8.9s\n",
      "[CV] END ....................C=1000.0, gamma=0.3, kernel=rbf; total time=   8.5s\n",
      "[CV] END ....................C=1000.0, gamma=0.3, kernel=rbf; total time=   8.6s\n",
      "[CV] END ....................C=1000.0, gamma=0.3, kernel=rbf; total time=   8.9s\n",
      "[CV] END ....................C=1000.0, gamma=0.3, kernel=rbf; total time=   8.6s\n",
      "[CV] END ....................C=1000.0, gamma=0.3, kernel=rbf; total time=   8.7s\n",
      "[CV] END ....................C=1000.0, gamma=1.0, kernel=rbf; total time=   8.5s\n",
      "[CV] END ....................C=1000.0, gamma=1.0, kernel=rbf; total time=   8.7s\n",
      "[CV] END ....................C=1000.0, gamma=1.0, kernel=rbf; total time=   8.6s\n",
      "[CV] END ....................C=1000.0, gamma=1.0, kernel=rbf; total time=   8.6s\n",
      "[CV] END ....................C=1000.0, gamma=1.0, kernel=rbf; total time=   8.7s\n",
      "[CV] END ....................C=1000.0, gamma=3.0, kernel=rbf; total time=   9.3s\n",
      "[CV] END ....................C=1000.0, gamma=3.0, kernel=rbf; total time=   9.3s\n",
      "[CV] END ....................C=1000.0, gamma=3.0, kernel=rbf; total time=   9.4s\n",
      "[CV] END ....................C=1000.0, gamma=3.0, kernel=rbf; total time=   9.5s\n",
      "[CV] END ....................C=1000.0, gamma=3.0, kernel=rbf; total time=   9.3s\n"
     ]
    },
    {
     "data": {
      "text/plain": [
       "GridSearchCV(cv=5, estimator=SVR(),\n",
       "             param_grid=[{'C': [10.0, 30.0, 100.0, 300.0, 1000.0, 3000.0,\n",
       "                                10000.0, 30000.0],\n",
       "                          'kernel': ['linear']},\n",
       "                         {'C': [1.0, 3.0, 10.0, 30.0, 100.0, 300.0, 1000.0],\n",
       "                          'gamma': [0.01, 0.03, 0.1, 0.3, 1.0, 3.0],\n",
       "                          'kernel': ['rbf']}],\n",
       "             scoring='neg_mean_squared_error', verbose=2)"
      ]
     },
     "execution_count": 74,
     "metadata": {},
     "output_type": "execute_result"
    }
   ],
   "source": [
    "from sklearn.svm import SVR\n",
    "from sklearn.model_selection import GridSearchCV\n",
    "\n",
    "param_grid = [\n",
    "    { 'kernel':['linear'],'C':[10.,30.,100.,300.,1000.,3000.,10000.,30000.0]},\n",
    "    {'kernel':['rbf'],'C':[1.0,3.0,10.,30.,100.,300.,1000.,],\n",
    "    'gamma':[0.01,0.03,0.1,0.3,1.,3.,]}\n",
    "  ]\n",
    "svm_regr=SVR()\n",
    "\n",
    "grid_search=GridSearchCV(svm_regr,param_grid,cv=5,scoring='neg_mean_squared_error',verbose=2)\n",
    "\n",
    "grid_search.fit(housing_prepared,housing_labels)\n"
   ]
  },
  {
   "cell_type": "code",
   "execution_count": 75,
   "metadata": {},
   "outputs": [
    {
     "data": {
      "text/plain": [
       "GridSearchCV(cv=5, estimator=SVR(),\n",
       "             param_grid=[{'C': [10.0, 30.0, 100.0, 300.0, 1000.0, 3000.0,\n",
       "                                10000.0, 30000.0],\n",
       "                          'kernel': ['linear']},\n",
       "                         {'C': [1.0, 3.0, 10.0, 30.0, 100.0, 300.0, 1000.0],\n",
       "                          'gamma': [0.01, 0.03, 0.1, 0.3, 1.0, 3.0],\n",
       "                          'kernel': ['rbf']}],\n",
       "             scoring='neg_mean_squared_error', verbose=2)"
      ]
     },
     "execution_count": 75,
     "metadata": {},
     "output_type": "execute_result"
    }
   ],
   "source": [
    "grid_search"
   ]
  },
  {
   "cell_type": "code",
   "execution_count": 76,
   "metadata": {},
   "outputs": [
    {
     "data": {
      "text/plain": [
       "70286.6183460516"
      ]
     },
     "execution_count": 76,
     "metadata": {},
     "output_type": "execute_result"
    }
   ],
   "source": [
    "negative_mse = grid_search.best_score_\n",
    "rmse = np.sqrt(-negative_mse)\n",
    "rmse"
   ]
  },
  {
   "cell_type": "code",
   "execution_count": 77,
   "metadata": {},
   "outputs": [
    {
     "data": {
      "text/plain": [
       "{'C': 30000.0, 'kernel': 'linear'}"
      ]
     },
     "execution_count": 77,
     "metadata": {},
     "output_type": "execute_result"
    }
   ],
   "source": [
    "grid_search.best_params_\n"
   ]
  },
  {
   "cell_type": "markdown",
   "metadata": {},
   "source": [
    "### exercise 3.2"
   ]
  },
  {
   "cell_type": "code",
   "execution_count": 78,
   "metadata": {},
   "outputs": [
    {
     "name": "stdout",
     "output_type": "stream",
     "text": [
      "Fitting 5 folds for each of 50 candidates, totalling 250 fits\n",
      "[CV] END C=629.782329591372, gamma=3.010121430917521, kernel=linear; total time=   5.8s\n",
      "[CV] END C=629.782329591372, gamma=3.010121430917521, kernel=linear; total time=   6.0s\n",
      "[CV] END C=629.782329591372, gamma=3.010121430917521, kernel=linear; total time=   6.1s\n",
      "[CV] END C=629.782329591372, gamma=3.010121430917521, kernel=linear; total time=   6.0s\n",
      "[CV] END C=629.782329591372, gamma=3.010121430917521, kernel=linear; total time=   6.2s\n",
      "[CV] END C=26290.206464300216, gamma=0.9084469696321253, kernel=rbf; total time=  10.1s\n",
      "[CV] END C=26290.206464300216, gamma=0.9084469696321253, kernel=rbf; total time=  10.0s\n",
      "[CV] END C=26290.206464300216, gamma=0.9084469696321253, kernel=rbf; total time=  10.3s\n",
      "[CV] END C=26290.206464300216, gamma=0.9084469696321253, kernel=rbf; total time=  10.2s\n",
      "[CV] END C=26290.206464300216, gamma=0.9084469696321253, kernel=rbf; total time=  10.0s\n",
      "[CV] END C=84.14107900575871, gamma=0.059838768608680676, kernel=rbf; total time=   9.1s\n",
      "[CV] END C=84.14107900575871, gamma=0.059838768608680676, kernel=rbf; total time=   8.9s\n",
      "[CV] END C=84.14107900575871, gamma=0.059838768608680676, kernel=rbf; total time=   8.8s\n",
      "[CV] END C=84.14107900575871, gamma=0.059838768608680676, kernel=rbf; total time=   8.9s\n",
      "[CV] END C=84.14107900575871, gamma=0.059838768608680676, kernel=rbf; total time=   9.4s\n",
      "[CV] END C=432.37884813148855, gamma=0.15416196746656105, kernel=linear; total time=   6.0s\n",
      "[CV] END C=432.37884813148855, gamma=0.15416196746656105, kernel=linear; total time=   5.8s\n",
      "[CV] END C=432.37884813148855, gamma=0.15416196746656105, kernel=linear; total time=   6.0s\n",
      "[CV] END C=432.37884813148855, gamma=0.15416196746656105, kernel=linear; total time=   6.1s\n",
      "[CV] END C=432.37884813148855, gamma=0.15416196746656105, kernel=linear; total time=   6.0s\n",
      "[CV] END C=24.17508294611391, gamma=3.503557475158312, kernel=rbf; total time=   9.7s\n",
      "[CV] END C=24.17508294611391, gamma=3.503557475158312, kernel=rbf; total time=   9.7s\n",
      "[CV] END C=24.17508294611391, gamma=3.503557475158312, kernel=rbf; total time=   9.6s\n",
      "[CV] END C=24.17508294611391, gamma=3.503557475158312, kernel=rbf; total time=   9.7s\n",
      "[CV] END C=24.17508294611391, gamma=3.503557475158312, kernel=rbf; total time=   9.6s\n",
      "[CV] END C=113564.03940586245, gamma=0.0007790692366582295, kernel=rbf; total time=   8.8s\n",
      "[CV] END C=113564.03940586245, gamma=0.0007790692366582295, kernel=rbf; total time=   8.6s\n",
      "[CV] END C=113564.03940586245, gamma=0.0007790692366582295, kernel=rbf; total time=   8.8s\n",
      "[CV] END C=113564.03940586245, gamma=0.0007790692366582295, kernel=rbf; total time=   8.9s\n",
      "[CV] END C=113564.03940586245, gamma=0.0007790692366582295, kernel=rbf; total time=   8.7s\n",
      "[CV] END C=108.30488238805073, gamma=0.3627537294604771, kernel=rbf; total time=   8.8s\n",
      "[CV] END C=108.30488238805073, gamma=0.3627537294604771, kernel=rbf; total time=   8.8s\n",
      "[CV] END C=108.30488238805073, gamma=0.3627537294604771, kernel=rbf; total time=   8.7s\n",
      "[CV] END C=108.30488238805073, gamma=0.3627537294604771, kernel=rbf; total time=   8.7s\n",
      "[CV] END C=108.30488238805073, gamma=0.3627537294604771, kernel=rbf; total time=   8.8s\n",
      "[CV] END C=21.344953672647435, gamma=0.023332523598323388, kernel=linear; total time=   5.9s\n",
      "[CV] END C=21.344953672647435, gamma=0.023332523598323388, kernel=linear; total time=   5.9s\n",
      "[CV] END C=21.344953672647435, gamma=0.023332523598323388, kernel=linear; total time=   6.0s\n",
      "[CV] END C=21.344953672647435, gamma=0.023332523598323388, kernel=linear; total time=   5.9s\n",
      "[CV] END C=21.344953672647435, gamma=0.023332523598323388, kernel=linear; total time=   6.0s\n",
      "[CV] END C=5603.270317432516, gamma=0.15023452872733867, kernel=rbf; total time=   8.6s\n",
      "[CV] END C=5603.270317432516, gamma=0.15023452872733867, kernel=rbf; total time=   8.7s\n",
      "[CV] END C=5603.270317432516, gamma=0.15023452872733867, kernel=rbf; total time=   8.5s\n",
      "[CV] END C=5603.270317432516, gamma=0.15023452872733867, kernel=rbf; total time=   8.6s\n",
      "[CV] END C=5603.270317432516, gamma=0.15023452872733867, kernel=rbf; total time=   9.1s\n",
      "[CV] END C=157055.10989448498, gamma=0.26497040005002437, kernel=rbf; total time=  17.8s\n",
      "[CV] END C=157055.10989448498, gamma=0.26497040005002437, kernel=rbf; total time=  18.0s\n",
      "[CV] END C=157055.10989448498, gamma=0.26497040005002437, kernel=rbf; total time=  19.0s\n",
      "[CV] END C=157055.10989448498, gamma=0.26497040005002437, kernel=rbf; total time=  17.1s\n",
      "[CV] END C=157055.10989448498, gamma=0.26497040005002437, kernel=rbf; total time=  19.3s\n",
      "[CV] END C=27652.464358739708, gamma=0.2227358621286903, kernel=linear; total time=  10.7s\n",
      "[CV] END C=27652.464358739708, gamma=0.2227358621286903, kernel=linear; total time=  10.6s\n",
      "[CV] END C=27652.464358739708, gamma=0.2227358621286903, kernel=linear; total time=  10.0s\n",
      "[CV] END C=27652.464358739708, gamma=0.2227358621286903, kernel=linear; total time=  10.5s\n",
      "[CV] END C=27652.464358739708, gamma=0.2227358621286903, kernel=linear; total time=  10.5s\n",
      "[CV] END C=171377.39570378003, gamma=0.628789100540856, kernel=linear; total time=  28.2s\n",
      "[CV] END C=171377.39570378003, gamma=0.628789100540856, kernel=linear; total time=  31.3s\n",
      "[CV] END C=171377.39570378003, gamma=0.628789100540856, kernel=linear; total time=  26.1s\n",
      "[CV] END C=171377.39570378003, gamma=0.628789100540856, kernel=linear; total time=  31.2s\n",
      "[CV] END C=171377.39570378003, gamma=0.628789100540856, kernel=linear; total time=  33.0s\n",
      "[CV] END C=5385.293820172355, gamma=0.18696125197741642, kernel=linear; total time=   9.3s\n",
      "[CV] END C=5385.293820172355, gamma=0.18696125197741642, kernel=linear; total time=   9.4s\n",
      "[CV] END C=5385.293820172355, gamma=0.18696125197741642, kernel=linear; total time=   8.7s\n",
      "[CV] END C=5385.293820172355, gamma=0.18696125197741642, kernel=linear; total time=   7.0s\n",
      "[CV] END C=5385.293820172355, gamma=0.18696125197741642, kernel=linear; total time=   7.2s\n",
      "[CV] END C=22.59903216621323, gamma=2.850796878935603, kernel=rbf; total time=   9.7s\n",
      "[CV] END C=22.59903216621323, gamma=2.850796878935603, kernel=rbf; total time=   8.8s\n",
      "[CV] END C=22.59903216621323, gamma=2.850796878935603, kernel=rbf; total time=   9.6s\n",
      "[CV] END C=22.59903216621323, gamma=2.850796878935603, kernel=rbf; total time=   8.8s\n",
      "[CV] END C=22.59903216621323, gamma=2.850796878935603, kernel=rbf; total time=   9.2s\n",
      "[CV] END C=34246.75194632794, gamma=0.3632878599687583, kernel=linear; total time=  12.1s\n",
      "[CV] END C=34246.75194632794, gamma=0.3632878599687583, kernel=linear; total time=  12.5s\n",
      "[CV] END C=34246.75194632794, gamma=0.3632878599687583, kernel=linear; total time=  10.1s\n",
      "[CV] END C=34246.75194632794, gamma=0.3632878599687583, kernel=linear; total time=  10.7s\n",
      "[CV] END C=34246.75194632794, gamma=0.3632878599687583, kernel=linear; total time=  11.5s\n",
      "[CV] END C=167.7278956080511, gamma=0.2757870542258224, kernel=rbf; total time=   7.8s\n",
      "[CV] END C=167.7278956080511, gamma=0.2757870542258224, kernel=rbf; total time=   7.8s\n",
      "[CV] END C=167.7278956080511, gamma=0.2757870542258224, kernel=rbf; total time=   8.0s\n",
      "[CV] END C=167.7278956080511, gamma=0.2757870542258224, kernel=rbf; total time=   8.6s\n",
      "[CV] END C=167.7278956080511, gamma=0.2757870542258224, kernel=rbf; total time=   8.5s\n",
      "[CV] END C=61.54360542501371, gamma=0.6835472281341501, kernel=linear; total time=   6.6s\n",
      "[CV] END C=61.54360542501371, gamma=0.6835472281341501, kernel=linear; total time=   6.6s\n",
      "[CV] END C=61.54360542501371, gamma=0.6835472281341501, kernel=linear; total time=   6.5s\n",
      "[CV] END C=61.54360542501371, gamma=0.6835472281341501, kernel=linear; total time=   6.0s\n",
      "[CV] END C=61.54360542501371, gamma=0.6835472281341501, kernel=linear; total time=   7.4s\n",
      "[CV] END C=98.73897389920914, gamma=0.4960365360493639, kernel=rbf; total time=  12.1s\n",
      "[CV] END C=98.73897389920914, gamma=0.4960365360493639, kernel=rbf; total time=  10.7s\n",
      "[CV] END C=98.73897389920914, gamma=0.4960365360493639, kernel=rbf; total time=  10.7s\n",
      "[CV] END C=98.73897389920914, gamma=0.4960365360493639, kernel=rbf; total time=  10.6s\n",
      "[CV] END C=98.73897389920914, gamma=0.4960365360493639, kernel=rbf; total time=   9.5s\n",
      "[CV] END C=8935.505635947808, gamma=0.37354658165762367, kernel=rbf; total time=   9.5s\n",
      "[CV] END C=8935.505635947808, gamma=0.37354658165762367, kernel=rbf; total time=   9.4s\n",
      "[CV] END C=8935.505635947808, gamma=0.37354658165762367, kernel=rbf; total time=   9.4s\n",
      "[CV] END C=8935.505635947808, gamma=0.37354658165762367, kernel=rbf; total time=   9.4s\n",
      "[CV] END C=8935.505635947808, gamma=0.37354658165762367, kernel=rbf; total time=  10.9s\n",
      "[CV] END C=135.76775824842434, gamma=0.838636245624803, kernel=linear; total time=   7.4s\n",
      "[CV] END C=135.76775824842434, gamma=0.838636245624803, kernel=linear; total time=   6.8s\n",
      "[CV] END C=135.76775824842434, gamma=0.838636245624803, kernel=linear; total time=   6.7s\n",
      "[CV] END C=135.76775824842434, gamma=0.838636245624803, kernel=linear; total time=   6.4s\n",
      "[CV] END C=135.76775824842434, gamma=0.838636245624803, kernel=linear; total time=   6.3s\n",
      "[CV] END C=151136.20282548846, gamma=1.4922453771381408, kernel=rbf; total time= 2.0min\n",
      "[CV] END C=151136.20282548846, gamma=1.4922453771381408, kernel=rbf; total time= 1.9min\n",
      "[CV] END C=151136.20282548846, gamma=1.4922453771381408, kernel=rbf; total time= 1.8min\n",
      "[CV] END C=151136.20282548846, gamma=1.4922453771381408, kernel=rbf; total time= 1.7min\n",
      "[CV] END C=151136.20282548846, gamma=1.4922453771381408, kernel=rbf; total time= 1.4min\n",
      "[CV] END C=761.4316758498783, gamma=2.6126336514161914, kernel=linear; total time=   5.5s\n",
      "[CV] END C=761.4316758498783, gamma=2.6126336514161914, kernel=linear; total time=   5.6s\n",
      "[CV] END C=761.4316758498783, gamma=2.6126336514161914, kernel=linear; total time=   5.5s\n",
      "[CV] END C=761.4316758498783, gamma=2.6126336514161914, kernel=linear; total time=   5.5s\n",
      "[CV] END C=761.4316758498783, gamma=2.6126336514161914, kernel=linear; total time=   5.5s\n",
      "[CV] END C=97392.81883041795, gamma=0.09265545895311562, kernel=linear; total time=  21.0s\n",
      "[CV] END C=97392.81883041795, gamma=0.09265545895311562, kernel=linear; total time=  20.1s\n",
      "[CV] END C=97392.81883041795, gamma=0.09265545895311562, kernel=linear; total time=  17.2s\n",
      "[CV] END C=97392.81883041795, gamma=0.09265545895311562, kernel=linear; total time=  20.2s\n",
      "[CV] END C=97392.81883041795, gamma=0.09265545895311562, kernel=linear; total time=  19.9s\n",
      "[CV] END C=2423.0759984939164, gamma=3.248614270240346, kernel=linear; total time=   5.6s\n",
      "[CV] END C=2423.0759984939164, gamma=3.248614270240346, kernel=linear; total time=   5.7s\n",
      "[CV] END C=2423.0759984939164, gamma=3.248614270240346, kernel=linear; total time=   5.5s\n",
      "[CV] END C=2423.0759984939164, gamma=3.248614270240346, kernel=linear; total time=   6.0s\n",
      "[CV] END C=2423.0759984939164, gamma=3.248614270240346, kernel=linear; total time=   6.2s\n",
      "[CV] END C=717.3632997255095, gamma=0.3165604432088257, kernel=linear; total time=   5.5s\n",
      "[CV] END C=717.3632997255095, gamma=0.3165604432088257, kernel=linear; total time=   5.4s\n",
      "[CV] END C=717.3632997255095, gamma=0.3165604432088257, kernel=linear; total time=   5.5s\n",
      "[CV] END C=717.3632997255095, gamma=0.3165604432088257, kernel=linear; total time=   5.5s\n",
      "[CV] END C=717.3632997255095, gamma=0.3165604432088257, kernel=linear; total time=   5.5s\n",
      "[CV] END C=4446.667521184072, gamma=3.3597284456608496, kernel=rbf; total time=   8.8s\n",
      "[CV] END C=4446.667521184072, gamma=3.3597284456608496, kernel=rbf; total time=   8.7s\n",
      "[CV] END C=4446.667521184072, gamma=3.3597284456608496, kernel=rbf; total time=   8.7s\n",
      "[CV] END C=4446.667521184072, gamma=3.3597284456608496, kernel=rbf; total time=   8.5s\n",
      "[CV] END C=4446.667521184072, gamma=3.3597284456608496, kernel=rbf; total time=   8.7s\n",
      "[CV] END C=2963.564121207815, gamma=0.15189814782062885, kernel=linear; total time=   5.8s\n",
      "[CV] END C=2963.564121207815, gamma=0.15189814782062885, kernel=linear; total time=   6.1s\n",
      "[CV] END C=2963.564121207815, gamma=0.15189814782062885, kernel=linear; total time=   5.9s\n",
      "[CV] END C=2963.564121207815, gamma=0.15189814782062885, kernel=linear; total time=   5.9s\n",
      "[CV] END C=2963.564121207815, gamma=0.15189814782062885, kernel=linear; total time=   5.8s\n",
      "[CV] END C=91.64267381686706, gamma=0.01575994483585621, kernel=linear; total time=   5.4s\n",
      "[CV] END C=91.64267381686706, gamma=0.01575994483585621, kernel=linear; total time=   5.4s\n",
      "[CV] END C=91.64267381686706, gamma=0.01575994483585621, kernel=linear; total time=   5.3s\n",
      "[CV] END C=91.64267381686706, gamma=0.01575994483585621, kernel=linear; total time=   5.3s\n",
      "[CV] END C=91.64267381686706, gamma=0.01575994483585621, kernel=linear; total time=   5.3s\n",
      "[CV] END C=24547.601975705915, gamma=0.22153944050588595, kernel=rbf; total time=   8.1s\n",
      "[CV] END C=24547.601975705915, gamma=0.22153944050588595, kernel=rbf; total time=   8.0s\n",
      "[CV] END C=24547.601975705915, gamma=0.22153944050588595, kernel=rbf; total time=   8.1s\n",
      "[CV] END C=24547.601975705915, gamma=0.22153944050588595, kernel=rbf; total time=   8.0s\n",
      "[CV] END C=24547.601975705915, gamma=0.22153944050588595, kernel=rbf; total time=   8.1s\n",
      "[CV] END C=22.76927941060928, gamma=0.22169760231351215, kernel=rbf; total time=   7.8s\n",
      "[CV] END C=22.76927941060928, gamma=0.22169760231351215, kernel=rbf; total time=   7.9s\n",
      "[CV] END C=22.76927941060928, gamma=0.22169760231351215, kernel=rbf; total time=   8.3s\n",
      "[CV] END C=22.76927941060928, gamma=0.22169760231351215, kernel=rbf; total time=   8.1s\n",
      "[CV] END C=22.76927941060928, gamma=0.22169760231351215, kernel=rbf; total time=   8.0s\n",
      "[CV] END C=16483.850529752886, gamma=1.4752145260435134, kernel=linear; total time=   7.9s\n",
      "[CV] END C=16483.850529752886, gamma=1.4752145260435134, kernel=linear; total time=   8.1s\n",
      "[CV] END C=16483.850529752886, gamma=1.4752145260435134, kernel=linear; total time=   8.4s\n",
      "[CV] END C=16483.850529752886, gamma=1.4752145260435134, kernel=linear; total time=   8.6s\n",
      "[CV] END C=16483.850529752886, gamma=1.4752145260435134, kernel=linear; total time=   8.6s\n",
      "[CV] END C=101445.66881340064, gamma=1.052904084582266, kernel=rbf; total time=  32.4s\n",
      "[CV] END C=101445.66881340064, gamma=1.052904084582266, kernel=rbf; total time=  35.2s\n",
      "[CV] END C=101445.66881340064, gamma=1.052904084582266, kernel=rbf; total time=  30.2s\n",
      "[CV] END C=101445.66881340064, gamma=1.052904084582266, kernel=rbf; total time=  33.8s\n",
      "[CV] END C=101445.66881340064, gamma=1.052904084582266, kernel=rbf; total time=  38.8s\n",
      "[CV] END C=56681.80859029545, gamma=0.9763011917123741, kernel=rbf; total time=  13.4s\n",
      "[CV] END C=56681.80859029545, gamma=0.9763011917123741, kernel=rbf; total time=  13.6s\n",
      "[CV] END C=56681.80859029545, gamma=0.9763011917123741, kernel=rbf; total time=  13.2s\n",
      "[CV] END C=56681.80859029545, gamma=0.9763011917123741, kernel=rbf; total time=  15.3s\n",
      "[CV] END C=56681.80859029545, gamma=0.9763011917123741, kernel=rbf; total time=  14.0s\n",
      "[CV] END C=48.15822390928914, gamma=0.4633351167983427, kernel=rbf; total time=   7.8s\n",
      "[CV] END C=48.15822390928914, gamma=0.4633351167983427, kernel=rbf; total time=   7.9s\n",
      "[CV] END C=48.15822390928914, gamma=0.4633351167983427, kernel=rbf; total time=   7.7s\n",
      "[CV] END C=48.15822390928914, gamma=0.4633351167983427, kernel=rbf; total time=   7.8s\n",
      "[CV] END C=48.15822390928914, gamma=0.4633351167983427, kernel=rbf; total time=   7.7s\n",
      "[CV] END C=399.7268155705774, gamma=1.3078757839577408, kernel=rbf; total time=   7.5s\n",
      "[CV] END C=399.7268155705774, gamma=1.3078757839577408, kernel=rbf; total time=   7.6s\n",
      "[CV] END C=399.7268155705774, gamma=1.3078757839577408, kernel=rbf; total time=   8.0s\n",
      "[CV] END C=399.7268155705774, gamma=1.3078757839577408, kernel=rbf; total time=   7.8s\n",
      "[CV] END C=399.7268155705774, gamma=1.3078757839577408, kernel=rbf; total time=   7.7s\n",
      "[CV] END C=251.14073886281363, gamma=0.8238105204914145, kernel=linear; total time=   5.4s\n",
      "[CV] END C=251.14073886281363, gamma=0.8238105204914145, kernel=linear; total time=   5.6s\n",
      "[CV] END C=251.14073886281363, gamma=0.8238105204914145, kernel=linear; total time=   5.3s\n",
      "[CV] END C=251.14073886281363, gamma=0.8238105204914145, kernel=linear; total time=   5.4s\n",
      "[CV] END C=251.14073886281363, gamma=0.8238105204914145, kernel=linear; total time=   5.5s\n",
      "[CV] END C=60.17373642891687, gamma=1.2491263443165994, kernel=linear; total time=   5.4s\n",
      "[CV] END C=60.17373642891687, gamma=1.2491263443165994, kernel=linear; total time=   5.2s\n",
      "[CV] END C=60.17373642891687, gamma=1.2491263443165994, kernel=linear; total time=   5.4s\n",
      "[CV] END C=60.17373642891687, gamma=1.2491263443165994, kernel=linear; total time=   5.3s\n",
      "[CV] END C=60.17373642891687, gamma=1.2491263443165994, kernel=linear; total time=   5.3s\n",
      "[CV] END C=15415.161544891856, gamma=0.2691677514619319, kernel=rbf; total time=   8.0s\n",
      "[CV] END C=15415.161544891856, gamma=0.2691677514619319, kernel=rbf; total time=   8.2s\n",
      "[CV] END C=15415.161544891856, gamma=0.2691677514619319, kernel=rbf; total time=   8.0s\n",
      "[CV] END C=15415.161544891856, gamma=0.2691677514619319, kernel=rbf; total time=   7.8s\n",
      "[CV] END C=15415.161544891856, gamma=0.2691677514619319, kernel=rbf; total time=   8.0s\n",
      "[CV] END C=1888.9148509967113, gamma=0.739678838777267, kernel=linear; total time=   5.6s\n",
      "[CV] END C=1888.9148509967113, gamma=0.739678838777267, kernel=linear; total time=   5.8s\n",
      "[CV] END C=1888.9148509967113, gamma=0.739678838777267, kernel=linear; total time=   5.7s\n",
      "[CV] END C=1888.9148509967113, gamma=0.739678838777267, kernel=linear; total time=   5.7s\n",
      "[CV] END C=1888.9148509967113, gamma=0.739678838777267, kernel=linear; total time=   5.6s\n",
      "[CV] END C=55.53838911232773, gamma=0.578634378499143, kernel=linear; total time=   5.4s\n",
      "[CV] END C=55.53838911232773, gamma=0.578634378499143, kernel=linear; total time=   5.3s\n",
      "[CV] END C=55.53838911232773, gamma=0.578634378499143, kernel=linear; total time=   5.3s\n",
      "[CV] END C=55.53838911232773, gamma=0.578634378499143, kernel=linear; total time=   5.4s\n",
      "[CV] END C=55.53838911232773, gamma=0.578634378499143, kernel=linear; total time=   5.4s\n",
      "[CV] END C=26.714480823948186, gamma=1.0117295509275495, kernel=rbf; total time=   7.8s\n",
      "[CV] END C=26.714480823948186, gamma=1.0117295509275495, kernel=rbf; total time=   7.9s\n",
      "[CV] END C=26.714480823948186, gamma=1.0117295509275495, kernel=rbf; total time=   7.7s\n",
      "[CV] END C=26.714480823948186, gamma=1.0117295509275495, kernel=rbf; total time=   7.8s\n",
      "[CV] END C=26.714480823948186, gamma=1.0117295509275495, kernel=rbf; total time=   7.7s\n",
      "[CV] END C=3582.0552780489566, gamma=1.1891370222133257, kernel=linear; total time=   6.1s\n",
      "[CV] END C=3582.0552780489566, gamma=1.1891370222133257, kernel=linear; total time=   5.9s\n",
      "[CV] END C=3582.0552780489566, gamma=1.1891370222133257, kernel=linear; total time=   5.8s\n",
      "[CV] END C=3582.0552780489566, gamma=1.1891370222133257, kernel=linear; total time=   5.9s\n",
      "[CV] END C=3582.0552780489566, gamma=1.1891370222133257, kernel=linear; total time=   6.1s\n",
      "[CV] END C=198.7004781812736, gamma=0.5282819748826726, kernel=linear; total time=   5.5s\n",
      "[CV] END C=198.7004781812736, gamma=0.5282819748826726, kernel=linear; total time=   5.3s\n",
      "[CV] END C=198.7004781812736, gamma=0.5282819748826726, kernel=linear; total time=   5.3s\n",
      "[CV] END C=198.7004781812736, gamma=0.5282819748826726, kernel=linear; total time=   5.4s\n",
      "[CV] END C=198.7004781812736, gamma=0.5282819748826726, kernel=linear; total time=   5.4s\n",
      "[CV] END C=129.8000604143307, gamma=2.8621383676481322, kernel=linear; total time=   5.4s\n",
      "[CV] END C=129.8000604143307, gamma=2.8621383676481322, kernel=linear; total time=   5.2s\n",
      "[CV] END C=129.8000604143307, gamma=2.8621383676481322, kernel=linear; total time=   5.3s\n",
      "[CV] END C=129.8000604143307, gamma=2.8621383676481322, kernel=linear; total time=   5.3s\n",
      "[CV] END C=129.8000604143307, gamma=2.8621383676481322, kernel=linear; total time=   5.3s\n",
      "[CV] END C=288.4269299593897, gamma=0.17580835850006285, kernel=rbf; total time=   7.9s\n",
      "[CV] END C=288.4269299593897, gamma=0.17580835850006285, kernel=rbf; total time=   7.9s\n",
      "[CV] END C=288.4269299593897, gamma=0.17580835850006285, kernel=rbf; total time=   7.9s\n",
      "[CV] END C=288.4269299593897, gamma=0.17580835850006285, kernel=rbf; total time=   7.8s\n",
      "[CV] END C=288.4269299593897, gamma=0.17580835850006285, kernel=rbf; total time=   7.9s\n",
      "[CV] END C=6287.039489427172, gamma=0.3504567255332862, kernel=linear; total time=   6.5s\n",
      "[CV] END C=6287.039489427172, gamma=0.3504567255332862, kernel=linear; total time=   6.4s\n",
      "[CV] END C=6287.039489427172, gamma=0.3504567255332862, kernel=linear; total time=   6.1s\n",
      "[CV] END C=6287.039489427172, gamma=0.3504567255332862, kernel=linear; total time=   6.4s\n",
      "[CV] END C=6287.039489427172, gamma=0.3504567255332862, kernel=linear; total time=   7.0s\n",
      "[CV] END C=61217.04421344494, gamma=1.6279689407405564, kernel=rbf; total time=  26.5s\n",
      "[CV] END C=61217.04421344494, gamma=1.6279689407405564, kernel=rbf; total time=  29.6s\n",
      "[CV] END C=61217.04421344494, gamma=1.6279689407405564, kernel=rbf; total time=  21.3s\n",
      "[CV] END C=61217.04421344494, gamma=1.6279689407405564, kernel=rbf; total time=  23.1s\n",
      "[CV] END C=61217.04421344494, gamma=1.6279689407405564, kernel=rbf; total time=  30.6s\n",
      "[CV] END C=926.9787684096649, gamma=2.147979593060577, kernel=rbf; total time=   9.5s\n",
      "[CV] END C=926.9787684096649, gamma=2.147979593060577, kernel=rbf; total time=   9.4s\n",
      "[CV] END C=926.9787684096649, gamma=2.147979593060577, kernel=rbf; total time=   9.0s\n",
      "[CV] END C=926.9787684096649, gamma=2.147979593060577, kernel=rbf; total time=   8.9s\n",
      "[CV] END C=926.9787684096649, gamma=2.147979593060577, kernel=rbf; total time=  10.0s\n",
      "[CV] END C=33946.157064934, gamma=2.2642426492862313, kernel=linear; total time=  11.5s\n",
      "[CV] END C=33946.157064934, gamma=2.2642426492862313, kernel=linear; total time=  12.2s\n",
      "[CV] END C=33946.157064934, gamma=2.2642426492862313, kernel=linear; total time=  19.8s\n",
      "[CV] END C=33946.157064934, gamma=2.2642426492862313, kernel=linear; total time=  12.9s\n",
      "[CV] END C=33946.157064934, gamma=2.2642426492862313, kernel=linear; total time=  14.8s\n",
      "[CV] END C=84789.82947739525, gamma=0.3176359085304841, kernel=linear; total time=  30.7s\n",
      "[CV] END C=84789.82947739525, gamma=0.3176359085304841, kernel=linear; total time=  24.0s\n",
      "[CV] END C=84789.82947739525, gamma=0.3176359085304841, kernel=linear; total time=  18.9s\n",
      "[CV] END C=84789.82947739525, gamma=0.3176359085304841, kernel=linear; total time=  19.9s\n",
      "[CV] END C=84789.82947739525, gamma=0.3176359085304841, kernel=linear; total time=  23.3s\n"
     ]
    },
    {
     "data": {
      "text/plain": [
       "RandomizedSearchCV(cv=5, estimator=SVR(), n_iter=50,\n",
       "                   param_distributions={'C': <scipy.stats._distn_infrastructure.rv_frozen object at 0x7f2d3da4d9c0>,\n",
       "                                        'gamma': <scipy.stats._distn_infrastructure.rv_frozen object at 0x7f2d3da4fb80>,\n",
       "                                        'kernel': ['linear', 'rbf']},\n",
       "                   random_state=42, scoring='neg_mean_squared_error',\n",
       "                   verbose=2)"
      ]
     },
     "execution_count": 78,
     "metadata": {},
     "output_type": "execute_result"
    }
   ],
   "source": [
    "from sklearn.model_selection import RandomizedSearchCV\n",
    "from scipy.stats import expon, reciprocal\n",
    "\n",
    "# see https://docs.scipy.org/doc/scipy/reference/stats.html\n",
    "# for `expon()` and `reciprocal()` documentation and more probability distribution functions.\n",
    "\n",
    "# Note: gamma is ignored when kernel is \"linear\"\n",
    "param_distribs = {\n",
    "        'kernel': ['linear', 'rbf'],\n",
    "        'C': reciprocal(20, 200000),\n",
    "        'gamma': expon(scale=1.0),\n",
    "    }\n",
    "\n",
    "svm_reg = SVR()\n",
    "rnd_search = RandomizedSearchCV(svm_reg, param_distributions=param_distribs,\n",
    "                                n_iter=50, cv=5, scoring='neg_mean_squared_error',\n",
    "                                verbose=2, random_state=42)\n",
    "rnd_search.fit(housing_prepared, housing_labels)"
   ]
  },
  {
   "cell_type": "code",
   "execution_count": 79,
   "metadata": {},
   "outputs": [
    {
     "data": {
      "text/plain": [
       "54751.69009256623"
      ]
     },
     "execution_count": 79,
     "metadata": {},
     "output_type": "execute_result"
    }
   ],
   "source": [
    "negative_mse = rnd_search.best_score_\n",
    "rmse = np.sqrt(-negative_mse)\n",
    "rmse"
   ]
  },
  {
   "cell_type": "code",
   "execution_count": 80,
   "metadata": {},
   "outputs": [
    {
     "data": {
      "text/plain": [
       "{'C': 157055.10989448498, 'gamma': 0.26497040005002437, 'kernel': 'rbf'}"
      ]
     },
     "execution_count": 80,
     "metadata": {},
     "output_type": "execute_result"
    }
   ],
   "source": [
    "rnd_search.best_params_\n"
   ]
  },
  {
   "cell_type": "markdown",
   "metadata": {},
   "source": [
    "### exercise 3.3"
   ]
  },
  {
   "cell_type": "code",
   "execution_count": 81,
   "metadata": {},
   "outputs": [],
   "source": [
    "from sklearn.base import BaseEstimator, TransformerMixin\n",
    "\n",
    "def indices_of_top_k(arr, k):\n",
    "    return np.sort(np.argpartition(np.array(arr), -k)[-k:])\n",
    "\n",
    "class TopFeatureSelector(BaseEstimator, TransformerMixin):\n",
    "    def __init__(self, feature_importances, k):\n",
    "        self.feature_importances = feature_importances\n",
    "        self.k = k\n",
    "    def fit(self, X, y=None):\n",
    "        self.feature_indices_ = indices_of_top_k(self.feature_importances, self.k)\n",
    "        return self\n",
    "    def transform(self, X):\n",
    "        return X[:, self.feature_indices_]"
   ]
  },
  {
   "cell_type": "code",
   "execution_count": 83,
   "metadata": {},
   "outputs": [],
   "source": [
    "k = 5"
   ]
  },
  {
   "cell_type": "code",
   "execution_count": 105,
   "metadata": {},
   "outputs": [
    {
     "ename": "NameError",
     "evalue": "name 'feature_importances' is not defined",
     "output_type": "error",
     "traceback": [
      "\u001b[1;31m---------------------------------------------------------------------------\u001b[0m",
      "\u001b[1;31mNameError\u001b[0m                                 Traceback (most recent call last)",
      "\u001b[1;32mC:\\Users\\VENKAT~1.SAN\\AppData\\Local\\Temp/ipykernel_19244/1978856141.py\u001b[0m in \u001b[0;36m<module>\u001b[1;34m\u001b[0m\n\u001b[1;32m----> 1\u001b[1;33m \u001b[0mfeature_importances\u001b[0m\u001b[1;33m\u001b[0m\u001b[1;33m\u001b[0m\u001b[0m\n\u001b[0m",
      "\u001b[1;31mNameError\u001b[0m: name 'feature_importances' is not defined"
     ]
    }
   ],
   "source": [
    "feature_importances"
   ]
  },
  {
   "cell_type": "code",
   "execution_count": 84,
   "metadata": {},
   "outputs": [
    {
     "data": {
      "text/plain": [
       "array([ 0,  7,  9, 10, 12])"
      ]
     },
     "execution_count": 84,
     "metadata": {},
     "output_type": "execute_result"
    }
   ],
   "source": [
    "top_k_feature_indices = indices_of_top_k(feature_importances, k)\n",
    "top_k_feature_indices"
   ]
  },
  {
   "cell_type": "code",
   "execution_count": 85,
   "metadata": {},
   "outputs": [
    {
     "data": {
      "text/plain": [
       "array(['longitude', 'median_income', 'pop_per_hhold', 'bedrooms_per_room',\n",
       "       'INLAND'], dtype='<U18')"
      ]
     },
     "execution_count": 85,
     "metadata": {},
     "output_type": "execute_result"
    }
   ],
   "source": [
    "np.array(attributes)[top_k_feature_indices]"
   ]
  },
  {
   "cell_type": "code",
   "execution_count": 86,
   "metadata": {},
   "outputs": [
    {
     "data": {
      "text/plain": [
       "[(0.3145900959999083, 'median_income'),\n",
       " (0.14464942123937438, 'INLAND'),\n",
       " (0.10815075568622758, 'pop_per_hhold'),\n",
       " (0.0810119962524695, 'longitude'),\n",
       " (0.07558364104590494, 'bedrooms_per_room')]"
      ]
     },
     "execution_count": 86,
     "metadata": {},
     "output_type": "execute_result"
    }
   ],
   "source": [
    "sorted(zip(feature_importances, attributes), reverse=True)[:k]"
   ]
  },
  {
   "cell_type": "code",
   "execution_count": 87,
   "metadata": {},
   "outputs": [],
   "source": [
    "preparation_and_feature_selection_pipeline = Pipeline([\n",
    "    ('preparation', full_pipeline),\n",
    "    ('feature_selection', TopFeatureSelector(feature_importances, k))\n",
    "])"
   ]
  },
  {
   "cell_type": "code",
   "execution_count": 88,
   "metadata": {},
   "outputs": [],
   "source": [
    "housing_prepared_top_k_features = preparation_and_feature_selection_pipeline.fit_transform(housing)"
   ]
  },
  {
   "cell_type": "code",
   "execution_count": 89,
   "metadata": {},
   "outputs": [
    {
     "data": {
      "text/plain": [
       "array([[-0.94135046, -0.8936472 ,  0.00622264, -0.12112176,  1.        ],\n",
       "       [ 1.17178212,  1.292168  , -0.04081077, -0.81086696,  0.        ],\n",
       "       [ 0.26758118, -0.52543365, -0.07537122, -0.33827252,  1.        ]])"
      ]
     },
     "execution_count": 89,
     "metadata": {},
     "output_type": "execute_result"
    }
   ],
   "source": [
    "housing_prepared_top_k_features[0:3]"
   ]
  },
  {
   "cell_type": "code",
   "execution_count": 90,
   "metadata": {},
   "outputs": [
    {
     "data": {
      "text/plain": [
       "array([[-0.94135046, -0.8936472 ,  0.00622264, -0.12112176,  1.        ],\n",
       "       [ 1.17178212,  1.292168  , -0.04081077, -0.81086696,  0.        ],\n",
       "       [ 0.26758118, -0.52543365, -0.07537122, -0.33827252,  1.        ],\n",
       "       [ 1.22173797, -0.86592882, -0.10680295,  0.96120521,  0.        ]])"
      ]
     },
     "execution_count": 90,
     "metadata": {},
     "output_type": "execute_result"
    }
   ],
   "source": [
    "housing_prepared[0:4, top_k_feature_indices]"
   ]
  },
  {
   "cell_type": "markdown",
   "metadata": {},
   "source": [
    "### Exercise-4 \n",
    "#### Question: Try creating a single pipeline that does the full data preparation plus the final prediction."
   ]
  },
  {
   "cell_type": "code",
   "execution_count": 91,
   "metadata": {},
   "outputs": [],
   "source": [
    "prepare_select_and_predict_pipeline = Pipeline([\n",
    "    ('preparation', full_pipeline),\n",
    "    ('feature_selection', TopFeatureSelector(feature_importances, k)),\n",
    "    ('svm_reg', SVR(**rnd_search.best_params_))\n",
    "])"
   ]
  },
  {
   "cell_type": "code",
   "execution_count": 92,
   "metadata": {},
   "outputs": [
    {
     "data": {
      "text/plain": [
       "Pipeline(steps=[('preparation',\n",
       "                 ColumnTransformer(transformers=[('num',\n",
       "                                                  Pipeline(steps=[('imputer',\n",
       "                                                                   SimpleImputer(strategy='median')),\n",
       "                                                                  ('attribs_adder',\n",
       "                                                                   CombinedAttributesAdder()),\n",
       "                                                                  ('std_scaler',\n",
       "                                                                   StandardScaler())]),\n",
       "                                                  ['longitude', 'latitude',\n",
       "                                                   'housing_median_age',\n",
       "                                                   'total_rooms',\n",
       "                                                   'total_bedrooms',\n",
       "                                                   'population', 'households',\n",
       "                                                   'median_income']),\n",
       "                                                 ('cat', OneHotEncoder(...\n",
       "                 TopFeatureSelector(feature_importances=array([8.10119963e-02, 6.88628673e-02, 4.29491602e-02, 1.82797207e-02,\n",
       "       1.62650562e-02, 1.80356230e-02, 1.53929754e-02, 3.14590096e-01,\n",
       "       6.72685306e-02, 1.08150756e-01, 7.55836410e-02, 1.23804811e-02,\n",
       "       1.44649421e-01, 7.09976174e-05, 8.56119602e-03, 7.94748174e-03]),\n",
       "                                    k=5)),\n",
       "                ('svm_reg',\n",
       "                 SVR(C=157055.10989448498, gamma=0.26497040005002437))])"
      ]
     },
     "execution_count": 92,
     "metadata": {},
     "output_type": "execute_result"
    }
   ],
   "source": [
    "prepare_select_and_predict_pipeline.fit(housing, housing_labels)"
   ]
  },
  {
   "cell_type": "code",
   "execution_count": 93,
   "metadata": {},
   "outputs": [
    {
     "name": "stdout",
     "output_type": "stream",
     "text": [
      "Predictions:\t [ 82915.77062052 288057.72329294  95680.82648363 149790.34263836]\n",
      "Labels:\t\t [72100.0, 279600.0, 82700.0, 112500.0]\n"
     ]
    }
   ],
   "source": [
    "some_data = housing.iloc[:4]\n",
    "some_labels = housing_labels.iloc[:4]\n",
    "\n",
    "print(\"Predictions:\\t\", prepare_select_and_predict_pipeline.predict(some_data))\n",
    "print(\"Labels:\\t\\t\", list(some_labels))"
   ]
  },
  {
   "cell_type": "markdown",
   "metadata": {},
   "source": [
    "### Exercise-5\n",
    "#### Question: Automatically explore some preparation options using `GridSearchCV`.\n"
   ]
  },
  {
   "cell_type": "code",
   "execution_count": 94,
   "metadata": {},
   "outputs": [
    {
     "name": "stdout",
     "output_type": "stream",
     "text": [
      "Fitting 5 folds for each of 48 candidates, totalling 240 fits\n"
     ]
    },
    {
     "name": "stderr",
     "output_type": "stream",
     "text": [
      "/home/saivinil_pratap/miniconda3/envs/mle-dev/lib/python3.10/site-packages/sklearn/model_selection/_validation.py:771: UserWarning: Scoring failed. The score on this train-test partition for these parameters will be set to nan. Details: \n",
      "Traceback (most recent call last):\n",
      "  File \"/home/saivinil_pratap/miniconda3/envs/mle-dev/lib/python3.10/site-packages/sklearn/model_selection/_validation.py\", line 762, in _score\n",
      "    scores = scorer(estimator, X_test, y_test)\n",
      "  File \"/home/saivinil_pratap/miniconda3/envs/mle-dev/lib/python3.10/site-packages/sklearn/metrics/_scorer.py\", line 216, in __call__\n",
      "    return self._score(\n",
      "  File \"/home/saivinil_pratap/miniconda3/envs/mle-dev/lib/python3.10/site-packages/sklearn/metrics/_scorer.py\", line 258, in _score\n",
      "    y_pred = method_caller(estimator, \"predict\", X)\n",
      "  File \"/home/saivinil_pratap/miniconda3/envs/mle-dev/lib/python3.10/site-packages/sklearn/metrics/_scorer.py\", line 68, in _cached_call\n",
      "    return getattr(estimator, method)(*args, **kwargs)\n",
      "  File \"/home/saivinil_pratap/miniconda3/envs/mle-dev/lib/python3.10/site-packages/sklearn/utils/metaestimators.py\", line 113, in <lambda>\n",
      "    out = lambda *args, **kwargs: self.fn(obj, *args, **kwargs)  # noqa\n",
      "  File \"/home/saivinil_pratap/miniconda3/envs/mle-dev/lib/python3.10/site-packages/sklearn/pipeline.py\", line 469, in predict\n",
      "    Xt = transform.transform(Xt)\n",
      "  File \"/home/saivinil_pratap/miniconda3/envs/mle-dev/lib/python3.10/site-packages/sklearn/compose/_column_transformer.py\", line 748, in transform\n",
      "    Xs = self._fit_transform(\n",
      "  File \"/home/saivinil_pratap/miniconda3/envs/mle-dev/lib/python3.10/site-packages/sklearn/compose/_column_transformer.py\", line 606, in _fit_transform\n",
      "    return Parallel(n_jobs=self.n_jobs)(\n",
      "  File \"/home/saivinil_pratap/miniconda3/envs/mle-dev/lib/python3.10/site-packages/joblib/parallel.py\", line 1046, in __call__\n",
      "    while self.dispatch_one_batch(iterator):\n",
      "  File \"/home/saivinil_pratap/miniconda3/envs/mle-dev/lib/python3.10/site-packages/joblib/parallel.py\", line 861, in dispatch_one_batch\n",
      "    self._dispatch(tasks)\n",
      "  File \"/home/saivinil_pratap/miniconda3/envs/mle-dev/lib/python3.10/site-packages/joblib/parallel.py\", line 779, in _dispatch\n",
      "    job = self._backend.apply_async(batch, callback=cb)\n",
      "  File \"/home/saivinil_pratap/miniconda3/envs/mle-dev/lib/python3.10/site-packages/joblib/_parallel_backends.py\", line 208, in apply_async\n",
      "    result = ImmediateResult(func)\n",
      "  File \"/home/saivinil_pratap/miniconda3/envs/mle-dev/lib/python3.10/site-packages/joblib/_parallel_backends.py\", line 572, in __init__\n",
      "    self.results = batch()\n",
      "  File \"/home/saivinil_pratap/miniconda3/envs/mle-dev/lib/python3.10/site-packages/joblib/parallel.py\", line 262, in __call__\n",
      "    return [func(*args, **kwargs)\n",
      "  File \"/home/saivinil_pratap/miniconda3/envs/mle-dev/lib/python3.10/site-packages/joblib/parallel.py\", line 262, in <listcomp>\n",
      "    return [func(*args, **kwargs)\n",
      "  File \"/home/saivinil_pratap/miniconda3/envs/mle-dev/lib/python3.10/site-packages/sklearn/utils/fixes.py\", line 211, in __call__\n",
      "    return self.function(*args, **kwargs)\n",
      "  File \"/home/saivinil_pratap/miniconda3/envs/mle-dev/lib/python3.10/site-packages/sklearn/pipeline.py\", line 876, in _transform_one\n",
      "    res = transformer.transform(X)\n",
      "  File \"/home/saivinil_pratap/miniconda3/envs/mle-dev/lib/python3.10/site-packages/sklearn/preprocessing/_encoders.py\", line 509, in transform\n",
      "    X_int, X_mask = self._transform(\n",
      "  File \"/home/saivinil_pratap/miniconda3/envs/mle-dev/lib/python3.10/site-packages/sklearn/preprocessing/_encoders.py\", line 142, in _transform\n",
      "    raise ValueError(msg)\n",
      "ValueError: Found unknown categories ['ISLAND'] in column 0 during transform\n",
      "\n",
      "  warnings.warn(\n"
     ]
    },
    {
     "name": "stdout",
     "output_type": "stream",
     "text": [
      "[CV] END feature_selection__k=1, preparation__num__imputer__strategy=mean; total time=   8.1s\n",
      "[CV] END feature_selection__k=1, preparation__num__imputer__strategy=mean; total time=   9.6s\n",
      "[CV] END feature_selection__k=1, preparation__num__imputer__strategy=mean; total time=   9.7s\n",
      "[CV] END feature_selection__k=1, preparation__num__imputer__strategy=mean; total time=  10.0s\n",
      "[CV] END feature_selection__k=1, preparation__num__imputer__strategy=mean; total time=  10.0s\n"
     ]
    },
    {
     "name": "stderr",
     "output_type": "stream",
     "text": [
      "/home/saivinil_pratap/miniconda3/envs/mle-dev/lib/python3.10/site-packages/sklearn/model_selection/_validation.py:771: UserWarning: Scoring failed. The score on this train-test partition for these parameters will be set to nan. Details: \n",
      "Traceback (most recent call last):\n",
      "  File \"/home/saivinil_pratap/miniconda3/envs/mle-dev/lib/python3.10/site-packages/sklearn/model_selection/_validation.py\", line 762, in _score\n",
      "    scores = scorer(estimator, X_test, y_test)\n",
      "  File \"/home/saivinil_pratap/miniconda3/envs/mle-dev/lib/python3.10/site-packages/sklearn/metrics/_scorer.py\", line 216, in __call__\n",
      "    return self._score(\n",
      "  File \"/home/saivinil_pratap/miniconda3/envs/mle-dev/lib/python3.10/site-packages/sklearn/metrics/_scorer.py\", line 258, in _score\n",
      "    y_pred = method_caller(estimator, \"predict\", X)\n",
      "  File \"/home/saivinil_pratap/miniconda3/envs/mle-dev/lib/python3.10/site-packages/sklearn/metrics/_scorer.py\", line 68, in _cached_call\n",
      "    return getattr(estimator, method)(*args, **kwargs)\n",
      "  File \"/home/saivinil_pratap/miniconda3/envs/mle-dev/lib/python3.10/site-packages/sklearn/utils/metaestimators.py\", line 113, in <lambda>\n",
      "    out = lambda *args, **kwargs: self.fn(obj, *args, **kwargs)  # noqa\n",
      "  File \"/home/saivinil_pratap/miniconda3/envs/mle-dev/lib/python3.10/site-packages/sklearn/pipeline.py\", line 469, in predict\n",
      "    Xt = transform.transform(Xt)\n",
      "  File \"/home/saivinil_pratap/miniconda3/envs/mle-dev/lib/python3.10/site-packages/sklearn/compose/_column_transformer.py\", line 748, in transform\n",
      "    Xs = self._fit_transform(\n",
      "  File \"/home/saivinil_pratap/miniconda3/envs/mle-dev/lib/python3.10/site-packages/sklearn/compose/_column_transformer.py\", line 606, in _fit_transform\n",
      "    return Parallel(n_jobs=self.n_jobs)(\n",
      "  File \"/home/saivinil_pratap/miniconda3/envs/mle-dev/lib/python3.10/site-packages/joblib/parallel.py\", line 1046, in __call__\n",
      "    while self.dispatch_one_batch(iterator):\n",
      "  File \"/home/saivinil_pratap/miniconda3/envs/mle-dev/lib/python3.10/site-packages/joblib/parallel.py\", line 861, in dispatch_one_batch\n",
      "    self._dispatch(tasks)\n",
      "  File \"/home/saivinil_pratap/miniconda3/envs/mle-dev/lib/python3.10/site-packages/joblib/parallel.py\", line 779, in _dispatch\n",
      "    job = self._backend.apply_async(batch, callback=cb)\n",
      "  File \"/home/saivinil_pratap/miniconda3/envs/mle-dev/lib/python3.10/site-packages/joblib/_parallel_backends.py\", line 208, in apply_async\n",
      "    result = ImmediateResult(func)\n",
      "  File \"/home/saivinil_pratap/miniconda3/envs/mle-dev/lib/python3.10/site-packages/joblib/_parallel_backends.py\", line 572, in __init__\n",
      "    self.results = batch()\n",
      "  File \"/home/saivinil_pratap/miniconda3/envs/mle-dev/lib/python3.10/site-packages/joblib/parallel.py\", line 262, in __call__\n",
      "    return [func(*args, **kwargs)\n",
      "  File \"/home/saivinil_pratap/miniconda3/envs/mle-dev/lib/python3.10/site-packages/joblib/parallel.py\", line 262, in <listcomp>\n",
      "    return [func(*args, **kwargs)\n",
      "  File \"/home/saivinil_pratap/miniconda3/envs/mle-dev/lib/python3.10/site-packages/sklearn/utils/fixes.py\", line 211, in __call__\n",
      "    return self.function(*args, **kwargs)\n",
      "  File \"/home/saivinil_pratap/miniconda3/envs/mle-dev/lib/python3.10/site-packages/sklearn/pipeline.py\", line 876, in _transform_one\n",
      "    res = transformer.transform(X)\n",
      "  File \"/home/saivinil_pratap/miniconda3/envs/mle-dev/lib/python3.10/site-packages/sklearn/preprocessing/_encoders.py\", line 509, in transform\n",
      "    X_int, X_mask = self._transform(\n",
      "  File \"/home/saivinil_pratap/miniconda3/envs/mle-dev/lib/python3.10/site-packages/sklearn/preprocessing/_encoders.py\", line 142, in _transform\n",
      "    raise ValueError(msg)\n",
      "ValueError: Found unknown categories ['ISLAND'] in column 0 during transform\n",
      "\n",
      "  warnings.warn(\n"
     ]
    },
    {
     "name": "stdout",
     "output_type": "stream",
     "text": [
      "[CV] END feature_selection__k=1, preparation__num__imputer__strategy=median; total time=   8.2s\n",
      "[CV] END feature_selection__k=1, preparation__num__imputer__strategy=median; total time=   9.9s\n",
      "[CV] END feature_selection__k=1, preparation__num__imputer__strategy=median; total time=   9.6s\n",
      "[CV] END feature_selection__k=1, preparation__num__imputer__strategy=median; total time=  10.1s\n",
      "[CV] END feature_selection__k=1, preparation__num__imputer__strategy=median; total time=   9.7s\n"
     ]
    },
    {
     "name": "stderr",
     "output_type": "stream",
     "text": [
      "/home/saivinil_pratap/miniconda3/envs/mle-dev/lib/python3.10/site-packages/sklearn/model_selection/_validation.py:771: UserWarning: Scoring failed. The score on this train-test partition for these parameters will be set to nan. Details: \n",
      "Traceback (most recent call last):\n",
      "  File \"/home/saivinil_pratap/miniconda3/envs/mle-dev/lib/python3.10/site-packages/sklearn/model_selection/_validation.py\", line 762, in _score\n",
      "    scores = scorer(estimator, X_test, y_test)\n",
      "  File \"/home/saivinil_pratap/miniconda3/envs/mle-dev/lib/python3.10/site-packages/sklearn/metrics/_scorer.py\", line 216, in __call__\n",
      "    return self._score(\n",
      "  File \"/home/saivinil_pratap/miniconda3/envs/mle-dev/lib/python3.10/site-packages/sklearn/metrics/_scorer.py\", line 258, in _score\n",
      "    y_pred = method_caller(estimator, \"predict\", X)\n",
      "  File \"/home/saivinil_pratap/miniconda3/envs/mle-dev/lib/python3.10/site-packages/sklearn/metrics/_scorer.py\", line 68, in _cached_call\n",
      "    return getattr(estimator, method)(*args, **kwargs)\n",
      "  File \"/home/saivinil_pratap/miniconda3/envs/mle-dev/lib/python3.10/site-packages/sklearn/utils/metaestimators.py\", line 113, in <lambda>\n",
      "    out = lambda *args, **kwargs: self.fn(obj, *args, **kwargs)  # noqa\n",
      "  File \"/home/saivinil_pratap/miniconda3/envs/mle-dev/lib/python3.10/site-packages/sklearn/pipeline.py\", line 469, in predict\n",
      "    Xt = transform.transform(Xt)\n",
      "  File \"/home/saivinil_pratap/miniconda3/envs/mle-dev/lib/python3.10/site-packages/sklearn/compose/_column_transformer.py\", line 748, in transform\n",
      "    Xs = self._fit_transform(\n",
      "  File \"/home/saivinil_pratap/miniconda3/envs/mle-dev/lib/python3.10/site-packages/sklearn/compose/_column_transformer.py\", line 606, in _fit_transform\n",
      "    return Parallel(n_jobs=self.n_jobs)(\n",
      "  File \"/home/saivinil_pratap/miniconda3/envs/mle-dev/lib/python3.10/site-packages/joblib/parallel.py\", line 1046, in __call__\n",
      "    while self.dispatch_one_batch(iterator):\n",
      "  File \"/home/saivinil_pratap/miniconda3/envs/mle-dev/lib/python3.10/site-packages/joblib/parallel.py\", line 861, in dispatch_one_batch\n",
      "    self._dispatch(tasks)\n",
      "  File \"/home/saivinil_pratap/miniconda3/envs/mle-dev/lib/python3.10/site-packages/joblib/parallel.py\", line 779, in _dispatch\n",
      "    job = self._backend.apply_async(batch, callback=cb)\n",
      "  File \"/home/saivinil_pratap/miniconda3/envs/mle-dev/lib/python3.10/site-packages/joblib/_parallel_backends.py\", line 208, in apply_async\n",
      "    result = ImmediateResult(func)\n",
      "  File \"/home/saivinil_pratap/miniconda3/envs/mle-dev/lib/python3.10/site-packages/joblib/_parallel_backends.py\", line 572, in __init__\n",
      "    self.results = batch()\n",
      "  File \"/home/saivinil_pratap/miniconda3/envs/mle-dev/lib/python3.10/site-packages/joblib/parallel.py\", line 262, in __call__\n",
      "    return [func(*args, **kwargs)\n",
      "  File \"/home/saivinil_pratap/miniconda3/envs/mle-dev/lib/python3.10/site-packages/joblib/parallel.py\", line 262, in <listcomp>\n",
      "    return [func(*args, **kwargs)\n",
      "  File \"/home/saivinil_pratap/miniconda3/envs/mle-dev/lib/python3.10/site-packages/sklearn/utils/fixes.py\", line 211, in __call__\n",
      "    return self.function(*args, **kwargs)\n",
      "  File \"/home/saivinil_pratap/miniconda3/envs/mle-dev/lib/python3.10/site-packages/sklearn/pipeline.py\", line 876, in _transform_one\n",
      "    res = transformer.transform(X)\n",
      "  File \"/home/saivinil_pratap/miniconda3/envs/mle-dev/lib/python3.10/site-packages/sklearn/preprocessing/_encoders.py\", line 509, in transform\n",
      "    X_int, X_mask = self._transform(\n",
      "  File \"/home/saivinil_pratap/miniconda3/envs/mle-dev/lib/python3.10/site-packages/sklearn/preprocessing/_encoders.py\", line 142, in _transform\n",
      "    raise ValueError(msg)\n",
      "ValueError: Found unknown categories ['ISLAND'] in column 0 during transform\n",
      "\n",
      "  warnings.warn(\n"
     ]
    },
    {
     "name": "stdout",
     "output_type": "stream",
     "text": [
      "[CV] END feature_selection__k=1, preparation__num__imputer__strategy=most_frequent; total time=   7.5s\n",
      "[CV] END feature_selection__k=1, preparation__num__imputer__strategy=most_frequent; total time=   9.0s\n",
      "[CV] END feature_selection__k=1, preparation__num__imputer__strategy=most_frequent; total time=   9.2s\n",
      "[CV] END feature_selection__k=1, preparation__num__imputer__strategy=most_frequent; total time=   9.1s\n",
      "[CV] END feature_selection__k=1, preparation__num__imputer__strategy=most_frequent; total time=   9.1s\n"
     ]
    },
    {
     "name": "stderr",
     "output_type": "stream",
     "text": [
      "/home/saivinil_pratap/miniconda3/envs/mle-dev/lib/python3.10/site-packages/sklearn/model_selection/_validation.py:771: UserWarning: Scoring failed. The score on this train-test partition for these parameters will be set to nan. Details: \n",
      "Traceback (most recent call last):\n",
      "  File \"/home/saivinil_pratap/miniconda3/envs/mle-dev/lib/python3.10/site-packages/sklearn/model_selection/_validation.py\", line 762, in _score\n",
      "    scores = scorer(estimator, X_test, y_test)\n",
      "  File \"/home/saivinil_pratap/miniconda3/envs/mle-dev/lib/python3.10/site-packages/sklearn/metrics/_scorer.py\", line 216, in __call__\n",
      "    return self._score(\n",
      "  File \"/home/saivinil_pratap/miniconda3/envs/mle-dev/lib/python3.10/site-packages/sklearn/metrics/_scorer.py\", line 258, in _score\n",
      "    y_pred = method_caller(estimator, \"predict\", X)\n",
      "  File \"/home/saivinil_pratap/miniconda3/envs/mle-dev/lib/python3.10/site-packages/sklearn/metrics/_scorer.py\", line 68, in _cached_call\n",
      "    return getattr(estimator, method)(*args, **kwargs)\n",
      "  File \"/home/saivinil_pratap/miniconda3/envs/mle-dev/lib/python3.10/site-packages/sklearn/utils/metaestimators.py\", line 113, in <lambda>\n",
      "    out = lambda *args, **kwargs: self.fn(obj, *args, **kwargs)  # noqa\n",
      "  File \"/home/saivinil_pratap/miniconda3/envs/mle-dev/lib/python3.10/site-packages/sklearn/pipeline.py\", line 469, in predict\n",
      "    Xt = transform.transform(Xt)\n",
      "  File \"/home/saivinil_pratap/miniconda3/envs/mle-dev/lib/python3.10/site-packages/sklearn/compose/_column_transformer.py\", line 748, in transform\n",
      "    Xs = self._fit_transform(\n",
      "  File \"/home/saivinil_pratap/miniconda3/envs/mle-dev/lib/python3.10/site-packages/sklearn/compose/_column_transformer.py\", line 606, in _fit_transform\n",
      "    return Parallel(n_jobs=self.n_jobs)(\n",
      "  File \"/home/saivinil_pratap/miniconda3/envs/mle-dev/lib/python3.10/site-packages/joblib/parallel.py\", line 1046, in __call__\n",
      "    while self.dispatch_one_batch(iterator):\n",
      "  File \"/home/saivinil_pratap/miniconda3/envs/mle-dev/lib/python3.10/site-packages/joblib/parallel.py\", line 861, in dispatch_one_batch\n",
      "    self._dispatch(tasks)\n",
      "  File \"/home/saivinil_pratap/miniconda3/envs/mle-dev/lib/python3.10/site-packages/joblib/parallel.py\", line 779, in _dispatch\n",
      "    job = self._backend.apply_async(batch, callback=cb)\n",
      "  File \"/home/saivinil_pratap/miniconda3/envs/mle-dev/lib/python3.10/site-packages/joblib/_parallel_backends.py\", line 208, in apply_async\n",
      "    result = ImmediateResult(func)\n",
      "  File \"/home/saivinil_pratap/miniconda3/envs/mle-dev/lib/python3.10/site-packages/joblib/_parallel_backends.py\", line 572, in __init__\n",
      "    self.results = batch()\n",
      "  File \"/home/saivinil_pratap/miniconda3/envs/mle-dev/lib/python3.10/site-packages/joblib/parallel.py\", line 262, in __call__\n",
      "    return [func(*args, **kwargs)\n",
      "  File \"/home/saivinil_pratap/miniconda3/envs/mle-dev/lib/python3.10/site-packages/joblib/parallel.py\", line 262, in <listcomp>\n",
      "    return [func(*args, **kwargs)\n",
      "  File \"/home/saivinil_pratap/miniconda3/envs/mle-dev/lib/python3.10/site-packages/sklearn/utils/fixes.py\", line 211, in __call__\n",
      "    return self.function(*args, **kwargs)\n",
      "  File \"/home/saivinil_pratap/miniconda3/envs/mle-dev/lib/python3.10/site-packages/sklearn/pipeline.py\", line 876, in _transform_one\n",
      "    res = transformer.transform(X)\n",
      "  File \"/home/saivinil_pratap/miniconda3/envs/mle-dev/lib/python3.10/site-packages/sklearn/preprocessing/_encoders.py\", line 509, in transform\n",
      "    X_int, X_mask = self._transform(\n",
      "  File \"/home/saivinil_pratap/miniconda3/envs/mle-dev/lib/python3.10/site-packages/sklearn/preprocessing/_encoders.py\", line 142, in _transform\n",
      "    raise ValueError(msg)\n",
      "ValueError: Found unknown categories ['ISLAND'] in column 0 during transform\n",
      "\n",
      "  warnings.warn(\n"
     ]
    },
    {
     "name": "stdout",
     "output_type": "stream",
     "text": [
      "[CV] END feature_selection__k=2, preparation__num__imputer__strategy=mean; total time=   7.7s\n",
      "[CV] END feature_selection__k=2, preparation__num__imputer__strategy=mean; total time=   9.6s\n",
      "[CV] END feature_selection__k=2, preparation__num__imputer__strategy=mean; total time=   9.6s\n",
      "[CV] END feature_selection__k=2, preparation__num__imputer__strategy=mean; total time=   9.4s\n",
      "[CV] END feature_selection__k=2, preparation__num__imputer__strategy=mean; total time=   9.9s\n"
     ]
    },
    {
     "name": "stderr",
     "output_type": "stream",
     "text": [
      "/home/saivinil_pratap/miniconda3/envs/mle-dev/lib/python3.10/site-packages/sklearn/model_selection/_validation.py:771: UserWarning: Scoring failed. The score on this train-test partition for these parameters will be set to nan. Details: \n",
      "Traceback (most recent call last):\n",
      "  File \"/home/saivinil_pratap/miniconda3/envs/mle-dev/lib/python3.10/site-packages/sklearn/model_selection/_validation.py\", line 762, in _score\n",
      "    scores = scorer(estimator, X_test, y_test)\n",
      "  File \"/home/saivinil_pratap/miniconda3/envs/mle-dev/lib/python3.10/site-packages/sklearn/metrics/_scorer.py\", line 216, in __call__\n",
      "    return self._score(\n",
      "  File \"/home/saivinil_pratap/miniconda3/envs/mle-dev/lib/python3.10/site-packages/sklearn/metrics/_scorer.py\", line 258, in _score\n",
      "    y_pred = method_caller(estimator, \"predict\", X)\n",
      "  File \"/home/saivinil_pratap/miniconda3/envs/mle-dev/lib/python3.10/site-packages/sklearn/metrics/_scorer.py\", line 68, in _cached_call\n",
      "    return getattr(estimator, method)(*args, **kwargs)\n",
      "  File \"/home/saivinil_pratap/miniconda3/envs/mle-dev/lib/python3.10/site-packages/sklearn/utils/metaestimators.py\", line 113, in <lambda>\n",
      "    out = lambda *args, **kwargs: self.fn(obj, *args, **kwargs)  # noqa\n",
      "  File \"/home/saivinil_pratap/miniconda3/envs/mle-dev/lib/python3.10/site-packages/sklearn/pipeline.py\", line 469, in predict\n",
      "    Xt = transform.transform(Xt)\n",
      "  File \"/home/saivinil_pratap/miniconda3/envs/mle-dev/lib/python3.10/site-packages/sklearn/compose/_column_transformer.py\", line 748, in transform\n",
      "    Xs = self._fit_transform(\n",
      "  File \"/home/saivinil_pratap/miniconda3/envs/mle-dev/lib/python3.10/site-packages/sklearn/compose/_column_transformer.py\", line 606, in _fit_transform\n",
      "    return Parallel(n_jobs=self.n_jobs)(\n",
      "  File \"/home/saivinil_pratap/miniconda3/envs/mle-dev/lib/python3.10/site-packages/joblib/parallel.py\", line 1046, in __call__\n",
      "    while self.dispatch_one_batch(iterator):\n",
      "  File \"/home/saivinil_pratap/miniconda3/envs/mle-dev/lib/python3.10/site-packages/joblib/parallel.py\", line 861, in dispatch_one_batch\n",
      "    self._dispatch(tasks)\n",
      "  File \"/home/saivinil_pratap/miniconda3/envs/mle-dev/lib/python3.10/site-packages/joblib/parallel.py\", line 779, in _dispatch\n",
      "    job = self._backend.apply_async(batch, callback=cb)\n",
      "  File \"/home/saivinil_pratap/miniconda3/envs/mle-dev/lib/python3.10/site-packages/joblib/_parallel_backends.py\", line 208, in apply_async\n",
      "    result = ImmediateResult(func)\n",
      "  File \"/home/saivinil_pratap/miniconda3/envs/mle-dev/lib/python3.10/site-packages/joblib/_parallel_backends.py\", line 572, in __init__\n",
      "    self.results = batch()\n",
      "  File \"/home/saivinil_pratap/miniconda3/envs/mle-dev/lib/python3.10/site-packages/joblib/parallel.py\", line 262, in __call__\n",
      "    return [func(*args, **kwargs)\n",
      "  File \"/home/saivinil_pratap/miniconda3/envs/mle-dev/lib/python3.10/site-packages/joblib/parallel.py\", line 262, in <listcomp>\n",
      "    return [func(*args, **kwargs)\n",
      "  File \"/home/saivinil_pratap/miniconda3/envs/mle-dev/lib/python3.10/site-packages/sklearn/utils/fixes.py\", line 211, in __call__\n",
      "    return self.function(*args, **kwargs)\n",
      "  File \"/home/saivinil_pratap/miniconda3/envs/mle-dev/lib/python3.10/site-packages/sklearn/pipeline.py\", line 876, in _transform_one\n",
      "    res = transformer.transform(X)\n",
      "  File \"/home/saivinil_pratap/miniconda3/envs/mle-dev/lib/python3.10/site-packages/sklearn/preprocessing/_encoders.py\", line 509, in transform\n",
      "    X_int, X_mask = self._transform(\n",
      "  File \"/home/saivinil_pratap/miniconda3/envs/mle-dev/lib/python3.10/site-packages/sklearn/preprocessing/_encoders.py\", line 142, in _transform\n",
      "    raise ValueError(msg)\n",
      "ValueError: Found unknown categories ['ISLAND'] in column 0 during transform\n",
      "\n",
      "  warnings.warn(\n"
     ]
    },
    {
     "name": "stdout",
     "output_type": "stream",
     "text": [
      "[CV] END feature_selection__k=2, preparation__num__imputer__strategy=median; total time=   8.1s\n",
      "[CV] END feature_selection__k=2, preparation__num__imputer__strategy=median; total time=   9.4s\n",
      "[CV] END feature_selection__k=2, preparation__num__imputer__strategy=median; total time=   9.3s\n",
      "[CV] END feature_selection__k=2, preparation__num__imputer__strategy=median; total time=   9.4s\n",
      "[CV] END feature_selection__k=2, preparation__num__imputer__strategy=median; total time=   9.4s\n"
     ]
    },
    {
     "name": "stderr",
     "output_type": "stream",
     "text": [
      "/home/saivinil_pratap/miniconda3/envs/mle-dev/lib/python3.10/site-packages/sklearn/model_selection/_validation.py:771: UserWarning: Scoring failed. The score on this train-test partition for these parameters will be set to nan. Details: \n",
      "Traceback (most recent call last):\n",
      "  File \"/home/saivinil_pratap/miniconda3/envs/mle-dev/lib/python3.10/site-packages/sklearn/model_selection/_validation.py\", line 762, in _score\n",
      "    scores = scorer(estimator, X_test, y_test)\n",
      "  File \"/home/saivinil_pratap/miniconda3/envs/mle-dev/lib/python3.10/site-packages/sklearn/metrics/_scorer.py\", line 216, in __call__\n",
      "    return self._score(\n",
      "  File \"/home/saivinil_pratap/miniconda3/envs/mle-dev/lib/python3.10/site-packages/sklearn/metrics/_scorer.py\", line 258, in _score\n",
      "    y_pred = method_caller(estimator, \"predict\", X)\n",
      "  File \"/home/saivinil_pratap/miniconda3/envs/mle-dev/lib/python3.10/site-packages/sklearn/metrics/_scorer.py\", line 68, in _cached_call\n",
      "    return getattr(estimator, method)(*args, **kwargs)\n",
      "  File \"/home/saivinil_pratap/miniconda3/envs/mle-dev/lib/python3.10/site-packages/sklearn/utils/metaestimators.py\", line 113, in <lambda>\n",
      "    out = lambda *args, **kwargs: self.fn(obj, *args, **kwargs)  # noqa\n",
      "  File \"/home/saivinil_pratap/miniconda3/envs/mle-dev/lib/python3.10/site-packages/sklearn/pipeline.py\", line 469, in predict\n",
      "    Xt = transform.transform(Xt)\n",
      "  File \"/home/saivinil_pratap/miniconda3/envs/mle-dev/lib/python3.10/site-packages/sklearn/compose/_column_transformer.py\", line 748, in transform\n",
      "    Xs = self._fit_transform(\n",
      "  File \"/home/saivinil_pratap/miniconda3/envs/mle-dev/lib/python3.10/site-packages/sklearn/compose/_column_transformer.py\", line 606, in _fit_transform\n",
      "    return Parallel(n_jobs=self.n_jobs)(\n",
      "  File \"/home/saivinil_pratap/miniconda3/envs/mle-dev/lib/python3.10/site-packages/joblib/parallel.py\", line 1046, in __call__\n",
      "    while self.dispatch_one_batch(iterator):\n",
      "  File \"/home/saivinil_pratap/miniconda3/envs/mle-dev/lib/python3.10/site-packages/joblib/parallel.py\", line 861, in dispatch_one_batch\n",
      "    self._dispatch(tasks)\n",
      "  File \"/home/saivinil_pratap/miniconda3/envs/mle-dev/lib/python3.10/site-packages/joblib/parallel.py\", line 779, in _dispatch\n",
      "    job = self._backend.apply_async(batch, callback=cb)\n",
      "  File \"/home/saivinil_pratap/miniconda3/envs/mle-dev/lib/python3.10/site-packages/joblib/_parallel_backends.py\", line 208, in apply_async\n",
      "    result = ImmediateResult(func)\n",
      "  File \"/home/saivinil_pratap/miniconda3/envs/mle-dev/lib/python3.10/site-packages/joblib/_parallel_backends.py\", line 572, in __init__\n",
      "    self.results = batch()\n",
      "  File \"/home/saivinil_pratap/miniconda3/envs/mle-dev/lib/python3.10/site-packages/joblib/parallel.py\", line 262, in __call__\n",
      "    return [func(*args, **kwargs)\n",
      "  File \"/home/saivinil_pratap/miniconda3/envs/mle-dev/lib/python3.10/site-packages/joblib/parallel.py\", line 262, in <listcomp>\n",
      "    return [func(*args, **kwargs)\n",
      "  File \"/home/saivinil_pratap/miniconda3/envs/mle-dev/lib/python3.10/site-packages/sklearn/utils/fixes.py\", line 211, in __call__\n",
      "    return self.function(*args, **kwargs)\n",
      "  File \"/home/saivinil_pratap/miniconda3/envs/mle-dev/lib/python3.10/site-packages/sklearn/pipeline.py\", line 876, in _transform_one\n",
      "    res = transformer.transform(X)\n",
      "  File \"/home/saivinil_pratap/miniconda3/envs/mle-dev/lib/python3.10/site-packages/sklearn/preprocessing/_encoders.py\", line 509, in transform\n",
      "    X_int, X_mask = self._transform(\n",
      "  File \"/home/saivinil_pratap/miniconda3/envs/mle-dev/lib/python3.10/site-packages/sklearn/preprocessing/_encoders.py\", line 142, in _transform\n",
      "    raise ValueError(msg)\n",
      "ValueError: Found unknown categories ['ISLAND'] in column 0 during transform\n",
      "\n",
      "  warnings.warn(\n"
     ]
    },
    {
     "name": "stdout",
     "output_type": "stream",
     "text": [
      "[CV] END feature_selection__k=2, preparation__num__imputer__strategy=most_frequent; total time=   7.9s\n",
      "[CV] END feature_selection__k=2, preparation__num__imputer__strategy=most_frequent; total time=   9.3s\n",
      "[CV] END feature_selection__k=2, preparation__num__imputer__strategy=most_frequent; total time=   9.2s\n",
      "[CV] END feature_selection__k=2, preparation__num__imputer__strategy=most_frequent; total time=   9.3s\n",
      "[CV] END feature_selection__k=2, preparation__num__imputer__strategy=most_frequent; total time=   9.5s\n"
     ]
    },
    {
     "name": "stderr",
     "output_type": "stream",
     "text": [
      "/home/saivinil_pratap/miniconda3/envs/mle-dev/lib/python3.10/site-packages/sklearn/model_selection/_validation.py:771: UserWarning: Scoring failed. The score on this train-test partition for these parameters will be set to nan. Details: \n",
      "Traceback (most recent call last):\n",
      "  File \"/home/saivinil_pratap/miniconda3/envs/mle-dev/lib/python3.10/site-packages/sklearn/model_selection/_validation.py\", line 762, in _score\n",
      "    scores = scorer(estimator, X_test, y_test)\n",
      "  File \"/home/saivinil_pratap/miniconda3/envs/mle-dev/lib/python3.10/site-packages/sklearn/metrics/_scorer.py\", line 216, in __call__\n",
      "    return self._score(\n",
      "  File \"/home/saivinil_pratap/miniconda3/envs/mle-dev/lib/python3.10/site-packages/sklearn/metrics/_scorer.py\", line 258, in _score\n",
      "    y_pred = method_caller(estimator, \"predict\", X)\n",
      "  File \"/home/saivinil_pratap/miniconda3/envs/mle-dev/lib/python3.10/site-packages/sklearn/metrics/_scorer.py\", line 68, in _cached_call\n",
      "    return getattr(estimator, method)(*args, **kwargs)\n",
      "  File \"/home/saivinil_pratap/miniconda3/envs/mle-dev/lib/python3.10/site-packages/sklearn/utils/metaestimators.py\", line 113, in <lambda>\n",
      "    out = lambda *args, **kwargs: self.fn(obj, *args, **kwargs)  # noqa\n",
      "  File \"/home/saivinil_pratap/miniconda3/envs/mle-dev/lib/python3.10/site-packages/sklearn/pipeline.py\", line 469, in predict\n",
      "    Xt = transform.transform(Xt)\n",
      "  File \"/home/saivinil_pratap/miniconda3/envs/mle-dev/lib/python3.10/site-packages/sklearn/compose/_column_transformer.py\", line 748, in transform\n",
      "    Xs = self._fit_transform(\n",
      "  File \"/home/saivinil_pratap/miniconda3/envs/mle-dev/lib/python3.10/site-packages/sklearn/compose/_column_transformer.py\", line 606, in _fit_transform\n",
      "    return Parallel(n_jobs=self.n_jobs)(\n",
      "  File \"/home/saivinil_pratap/miniconda3/envs/mle-dev/lib/python3.10/site-packages/joblib/parallel.py\", line 1046, in __call__\n",
      "    while self.dispatch_one_batch(iterator):\n",
      "  File \"/home/saivinil_pratap/miniconda3/envs/mle-dev/lib/python3.10/site-packages/joblib/parallel.py\", line 861, in dispatch_one_batch\n",
      "    self._dispatch(tasks)\n",
      "  File \"/home/saivinil_pratap/miniconda3/envs/mle-dev/lib/python3.10/site-packages/joblib/parallel.py\", line 779, in _dispatch\n",
      "    job = self._backend.apply_async(batch, callback=cb)\n",
      "  File \"/home/saivinil_pratap/miniconda3/envs/mle-dev/lib/python3.10/site-packages/joblib/_parallel_backends.py\", line 208, in apply_async\n",
      "    result = ImmediateResult(func)\n",
      "  File \"/home/saivinil_pratap/miniconda3/envs/mle-dev/lib/python3.10/site-packages/joblib/_parallel_backends.py\", line 572, in __init__\n",
      "    self.results = batch()\n",
      "  File \"/home/saivinil_pratap/miniconda3/envs/mle-dev/lib/python3.10/site-packages/joblib/parallel.py\", line 262, in __call__\n",
      "    return [func(*args, **kwargs)\n",
      "  File \"/home/saivinil_pratap/miniconda3/envs/mle-dev/lib/python3.10/site-packages/joblib/parallel.py\", line 262, in <listcomp>\n",
      "    return [func(*args, **kwargs)\n",
      "  File \"/home/saivinil_pratap/miniconda3/envs/mle-dev/lib/python3.10/site-packages/sklearn/utils/fixes.py\", line 211, in __call__\n",
      "    return self.function(*args, **kwargs)\n",
      "  File \"/home/saivinil_pratap/miniconda3/envs/mle-dev/lib/python3.10/site-packages/sklearn/pipeline.py\", line 876, in _transform_one\n",
      "    res = transformer.transform(X)\n",
      "  File \"/home/saivinil_pratap/miniconda3/envs/mle-dev/lib/python3.10/site-packages/sklearn/preprocessing/_encoders.py\", line 509, in transform\n",
      "    X_int, X_mask = self._transform(\n",
      "  File \"/home/saivinil_pratap/miniconda3/envs/mle-dev/lib/python3.10/site-packages/sklearn/preprocessing/_encoders.py\", line 142, in _transform\n",
      "    raise ValueError(msg)\n",
      "ValueError: Found unknown categories ['ISLAND'] in column 0 during transform\n",
      "\n",
      "  warnings.warn(\n"
     ]
    },
    {
     "name": "stdout",
     "output_type": "stream",
     "text": [
      "[CV] END feature_selection__k=3, preparation__num__imputer__strategy=mean; total time=   7.8s\n",
      "[CV] END feature_selection__k=3, preparation__num__imputer__strategy=mean; total time=   9.6s\n",
      "[CV] END feature_selection__k=3, preparation__num__imputer__strategy=mean; total time=   9.6s\n",
      "[CV] END feature_selection__k=3, preparation__num__imputer__strategy=mean; total time=   9.5s\n",
      "[CV] END feature_selection__k=3, preparation__num__imputer__strategy=mean; total time=   9.4s\n"
     ]
    },
    {
     "name": "stderr",
     "output_type": "stream",
     "text": [
      "/home/saivinil_pratap/miniconda3/envs/mle-dev/lib/python3.10/site-packages/sklearn/model_selection/_validation.py:771: UserWarning: Scoring failed. The score on this train-test partition for these parameters will be set to nan. Details: \n",
      "Traceback (most recent call last):\n",
      "  File \"/home/saivinil_pratap/miniconda3/envs/mle-dev/lib/python3.10/site-packages/sklearn/model_selection/_validation.py\", line 762, in _score\n",
      "    scores = scorer(estimator, X_test, y_test)\n",
      "  File \"/home/saivinil_pratap/miniconda3/envs/mle-dev/lib/python3.10/site-packages/sklearn/metrics/_scorer.py\", line 216, in __call__\n",
      "    return self._score(\n",
      "  File \"/home/saivinil_pratap/miniconda3/envs/mle-dev/lib/python3.10/site-packages/sklearn/metrics/_scorer.py\", line 258, in _score\n",
      "    y_pred = method_caller(estimator, \"predict\", X)\n",
      "  File \"/home/saivinil_pratap/miniconda3/envs/mle-dev/lib/python3.10/site-packages/sklearn/metrics/_scorer.py\", line 68, in _cached_call\n",
      "    return getattr(estimator, method)(*args, **kwargs)\n",
      "  File \"/home/saivinil_pratap/miniconda3/envs/mle-dev/lib/python3.10/site-packages/sklearn/utils/metaestimators.py\", line 113, in <lambda>\n",
      "    out = lambda *args, **kwargs: self.fn(obj, *args, **kwargs)  # noqa\n",
      "  File \"/home/saivinil_pratap/miniconda3/envs/mle-dev/lib/python3.10/site-packages/sklearn/pipeline.py\", line 469, in predict\n",
      "    Xt = transform.transform(Xt)\n",
      "  File \"/home/saivinil_pratap/miniconda3/envs/mle-dev/lib/python3.10/site-packages/sklearn/compose/_column_transformer.py\", line 748, in transform\n",
      "    Xs = self._fit_transform(\n",
      "  File \"/home/saivinil_pratap/miniconda3/envs/mle-dev/lib/python3.10/site-packages/sklearn/compose/_column_transformer.py\", line 606, in _fit_transform\n",
      "    return Parallel(n_jobs=self.n_jobs)(\n",
      "  File \"/home/saivinil_pratap/miniconda3/envs/mle-dev/lib/python3.10/site-packages/joblib/parallel.py\", line 1046, in __call__\n",
      "    while self.dispatch_one_batch(iterator):\n",
      "  File \"/home/saivinil_pratap/miniconda3/envs/mle-dev/lib/python3.10/site-packages/joblib/parallel.py\", line 861, in dispatch_one_batch\n",
      "    self._dispatch(tasks)\n",
      "  File \"/home/saivinil_pratap/miniconda3/envs/mle-dev/lib/python3.10/site-packages/joblib/parallel.py\", line 779, in _dispatch\n",
      "    job = self._backend.apply_async(batch, callback=cb)\n",
      "  File \"/home/saivinil_pratap/miniconda3/envs/mle-dev/lib/python3.10/site-packages/joblib/_parallel_backends.py\", line 208, in apply_async\n",
      "    result = ImmediateResult(func)\n",
      "  File \"/home/saivinil_pratap/miniconda3/envs/mle-dev/lib/python3.10/site-packages/joblib/_parallel_backends.py\", line 572, in __init__\n",
      "    self.results = batch()\n",
      "  File \"/home/saivinil_pratap/miniconda3/envs/mle-dev/lib/python3.10/site-packages/joblib/parallel.py\", line 262, in __call__\n",
      "    return [func(*args, **kwargs)\n",
      "  File \"/home/saivinil_pratap/miniconda3/envs/mle-dev/lib/python3.10/site-packages/joblib/parallel.py\", line 262, in <listcomp>\n",
      "    return [func(*args, **kwargs)\n",
      "  File \"/home/saivinil_pratap/miniconda3/envs/mle-dev/lib/python3.10/site-packages/sklearn/utils/fixes.py\", line 211, in __call__\n",
      "    return self.function(*args, **kwargs)\n",
      "  File \"/home/saivinil_pratap/miniconda3/envs/mle-dev/lib/python3.10/site-packages/sklearn/pipeline.py\", line 876, in _transform_one\n",
      "    res = transformer.transform(X)\n",
      "  File \"/home/saivinil_pratap/miniconda3/envs/mle-dev/lib/python3.10/site-packages/sklearn/preprocessing/_encoders.py\", line 509, in transform\n",
      "    X_int, X_mask = self._transform(\n",
      "  File \"/home/saivinil_pratap/miniconda3/envs/mle-dev/lib/python3.10/site-packages/sklearn/preprocessing/_encoders.py\", line 142, in _transform\n",
      "    raise ValueError(msg)\n",
      "ValueError: Found unknown categories ['ISLAND'] in column 0 during transform\n",
      "\n",
      "  warnings.warn(\n"
     ]
    },
    {
     "name": "stdout",
     "output_type": "stream",
     "text": [
      "[CV] END feature_selection__k=3, preparation__num__imputer__strategy=median; total time=   7.7s\n",
      "[CV] END feature_selection__k=3, preparation__num__imputer__strategy=median; total time=  10.0s\n",
      "[CV] END feature_selection__k=3, preparation__num__imputer__strategy=median; total time=  10.6s\n",
      "[CV] END feature_selection__k=3, preparation__num__imputer__strategy=median; total time=   9.9s\n",
      "[CV] END feature_selection__k=3, preparation__num__imputer__strategy=median; total time=   9.5s\n"
     ]
    },
    {
     "name": "stderr",
     "output_type": "stream",
     "text": [
      "/home/saivinil_pratap/miniconda3/envs/mle-dev/lib/python3.10/site-packages/sklearn/model_selection/_validation.py:771: UserWarning: Scoring failed. The score on this train-test partition for these parameters will be set to nan. Details: \n",
      "Traceback (most recent call last):\n",
      "  File \"/home/saivinil_pratap/miniconda3/envs/mle-dev/lib/python3.10/site-packages/sklearn/model_selection/_validation.py\", line 762, in _score\n",
      "    scores = scorer(estimator, X_test, y_test)\n",
      "  File \"/home/saivinil_pratap/miniconda3/envs/mle-dev/lib/python3.10/site-packages/sklearn/metrics/_scorer.py\", line 216, in __call__\n",
      "    return self._score(\n",
      "  File \"/home/saivinil_pratap/miniconda3/envs/mle-dev/lib/python3.10/site-packages/sklearn/metrics/_scorer.py\", line 258, in _score\n",
      "    y_pred = method_caller(estimator, \"predict\", X)\n",
      "  File \"/home/saivinil_pratap/miniconda3/envs/mle-dev/lib/python3.10/site-packages/sklearn/metrics/_scorer.py\", line 68, in _cached_call\n",
      "    return getattr(estimator, method)(*args, **kwargs)\n",
      "  File \"/home/saivinil_pratap/miniconda3/envs/mle-dev/lib/python3.10/site-packages/sklearn/utils/metaestimators.py\", line 113, in <lambda>\n",
      "    out = lambda *args, **kwargs: self.fn(obj, *args, **kwargs)  # noqa\n",
      "  File \"/home/saivinil_pratap/miniconda3/envs/mle-dev/lib/python3.10/site-packages/sklearn/pipeline.py\", line 469, in predict\n",
      "    Xt = transform.transform(Xt)\n",
      "  File \"/home/saivinil_pratap/miniconda3/envs/mle-dev/lib/python3.10/site-packages/sklearn/compose/_column_transformer.py\", line 748, in transform\n",
      "    Xs = self._fit_transform(\n",
      "  File \"/home/saivinil_pratap/miniconda3/envs/mle-dev/lib/python3.10/site-packages/sklearn/compose/_column_transformer.py\", line 606, in _fit_transform\n",
      "    return Parallel(n_jobs=self.n_jobs)(\n",
      "  File \"/home/saivinil_pratap/miniconda3/envs/mle-dev/lib/python3.10/site-packages/joblib/parallel.py\", line 1046, in __call__\n",
      "    while self.dispatch_one_batch(iterator):\n",
      "  File \"/home/saivinil_pratap/miniconda3/envs/mle-dev/lib/python3.10/site-packages/joblib/parallel.py\", line 861, in dispatch_one_batch\n",
      "    self._dispatch(tasks)\n",
      "  File \"/home/saivinil_pratap/miniconda3/envs/mle-dev/lib/python3.10/site-packages/joblib/parallel.py\", line 779, in _dispatch\n",
      "    job = self._backend.apply_async(batch, callback=cb)\n",
      "  File \"/home/saivinil_pratap/miniconda3/envs/mle-dev/lib/python3.10/site-packages/joblib/_parallel_backends.py\", line 208, in apply_async\n",
      "    result = ImmediateResult(func)\n",
      "  File \"/home/saivinil_pratap/miniconda3/envs/mle-dev/lib/python3.10/site-packages/joblib/_parallel_backends.py\", line 572, in __init__\n",
      "    self.results = batch()\n",
      "  File \"/home/saivinil_pratap/miniconda3/envs/mle-dev/lib/python3.10/site-packages/joblib/parallel.py\", line 262, in __call__\n",
      "    return [func(*args, **kwargs)\n",
      "  File \"/home/saivinil_pratap/miniconda3/envs/mle-dev/lib/python3.10/site-packages/joblib/parallel.py\", line 262, in <listcomp>\n",
      "    return [func(*args, **kwargs)\n",
      "  File \"/home/saivinil_pratap/miniconda3/envs/mle-dev/lib/python3.10/site-packages/sklearn/utils/fixes.py\", line 211, in __call__\n",
      "    return self.function(*args, **kwargs)\n",
      "  File \"/home/saivinil_pratap/miniconda3/envs/mle-dev/lib/python3.10/site-packages/sklearn/pipeline.py\", line 876, in _transform_one\n",
      "    res = transformer.transform(X)\n",
      "  File \"/home/saivinil_pratap/miniconda3/envs/mle-dev/lib/python3.10/site-packages/sklearn/preprocessing/_encoders.py\", line 509, in transform\n",
      "    X_int, X_mask = self._transform(\n",
      "  File \"/home/saivinil_pratap/miniconda3/envs/mle-dev/lib/python3.10/site-packages/sklearn/preprocessing/_encoders.py\", line 142, in _transform\n",
      "    raise ValueError(msg)\n",
      "ValueError: Found unknown categories ['ISLAND'] in column 0 during transform\n",
      "\n",
      "  warnings.warn(\n"
     ]
    },
    {
     "name": "stdout",
     "output_type": "stream",
     "text": [
      "[CV] END feature_selection__k=3, preparation__num__imputer__strategy=most_frequent; total time=   7.7s\n",
      "[CV] END feature_selection__k=3, preparation__num__imputer__strategy=most_frequent; total time=   9.8s\n",
      "[CV] END feature_selection__k=3, preparation__num__imputer__strategy=most_frequent; total time=   9.5s\n",
      "[CV] END feature_selection__k=3, preparation__num__imputer__strategy=most_frequent; total time=   9.5s\n",
      "[CV] END feature_selection__k=3, preparation__num__imputer__strategy=most_frequent; total time=   9.7s\n"
     ]
    },
    {
     "name": "stderr",
     "output_type": "stream",
     "text": [
      "/home/saivinil_pratap/miniconda3/envs/mle-dev/lib/python3.10/site-packages/sklearn/model_selection/_validation.py:771: UserWarning: Scoring failed. The score on this train-test partition for these parameters will be set to nan. Details: \n",
      "Traceback (most recent call last):\n",
      "  File \"/home/saivinil_pratap/miniconda3/envs/mle-dev/lib/python3.10/site-packages/sklearn/model_selection/_validation.py\", line 762, in _score\n",
      "    scores = scorer(estimator, X_test, y_test)\n",
      "  File \"/home/saivinil_pratap/miniconda3/envs/mle-dev/lib/python3.10/site-packages/sklearn/metrics/_scorer.py\", line 216, in __call__\n",
      "    return self._score(\n",
      "  File \"/home/saivinil_pratap/miniconda3/envs/mle-dev/lib/python3.10/site-packages/sklearn/metrics/_scorer.py\", line 258, in _score\n",
      "    y_pred = method_caller(estimator, \"predict\", X)\n",
      "  File \"/home/saivinil_pratap/miniconda3/envs/mle-dev/lib/python3.10/site-packages/sklearn/metrics/_scorer.py\", line 68, in _cached_call\n",
      "    return getattr(estimator, method)(*args, **kwargs)\n",
      "  File \"/home/saivinil_pratap/miniconda3/envs/mle-dev/lib/python3.10/site-packages/sklearn/utils/metaestimators.py\", line 113, in <lambda>\n",
      "    out = lambda *args, **kwargs: self.fn(obj, *args, **kwargs)  # noqa\n",
      "  File \"/home/saivinil_pratap/miniconda3/envs/mle-dev/lib/python3.10/site-packages/sklearn/pipeline.py\", line 469, in predict\n",
      "    Xt = transform.transform(Xt)\n",
      "  File \"/home/saivinil_pratap/miniconda3/envs/mle-dev/lib/python3.10/site-packages/sklearn/compose/_column_transformer.py\", line 748, in transform\n",
      "    Xs = self._fit_transform(\n",
      "  File \"/home/saivinil_pratap/miniconda3/envs/mle-dev/lib/python3.10/site-packages/sklearn/compose/_column_transformer.py\", line 606, in _fit_transform\n",
      "    return Parallel(n_jobs=self.n_jobs)(\n",
      "  File \"/home/saivinil_pratap/miniconda3/envs/mle-dev/lib/python3.10/site-packages/joblib/parallel.py\", line 1046, in __call__\n",
      "    while self.dispatch_one_batch(iterator):\n",
      "  File \"/home/saivinil_pratap/miniconda3/envs/mle-dev/lib/python3.10/site-packages/joblib/parallel.py\", line 861, in dispatch_one_batch\n",
      "    self._dispatch(tasks)\n",
      "  File \"/home/saivinil_pratap/miniconda3/envs/mle-dev/lib/python3.10/site-packages/joblib/parallel.py\", line 779, in _dispatch\n",
      "    job = self._backend.apply_async(batch, callback=cb)\n",
      "  File \"/home/saivinil_pratap/miniconda3/envs/mle-dev/lib/python3.10/site-packages/joblib/_parallel_backends.py\", line 208, in apply_async\n",
      "    result = ImmediateResult(func)\n",
      "  File \"/home/saivinil_pratap/miniconda3/envs/mle-dev/lib/python3.10/site-packages/joblib/_parallel_backends.py\", line 572, in __init__\n",
      "    self.results = batch()\n",
      "  File \"/home/saivinil_pratap/miniconda3/envs/mle-dev/lib/python3.10/site-packages/joblib/parallel.py\", line 262, in __call__\n",
      "    return [func(*args, **kwargs)\n",
      "  File \"/home/saivinil_pratap/miniconda3/envs/mle-dev/lib/python3.10/site-packages/joblib/parallel.py\", line 262, in <listcomp>\n",
      "    return [func(*args, **kwargs)\n",
      "  File \"/home/saivinil_pratap/miniconda3/envs/mle-dev/lib/python3.10/site-packages/sklearn/utils/fixes.py\", line 211, in __call__\n",
      "    return self.function(*args, **kwargs)\n",
      "  File \"/home/saivinil_pratap/miniconda3/envs/mle-dev/lib/python3.10/site-packages/sklearn/pipeline.py\", line 876, in _transform_one\n",
      "    res = transformer.transform(X)\n",
      "  File \"/home/saivinil_pratap/miniconda3/envs/mle-dev/lib/python3.10/site-packages/sklearn/preprocessing/_encoders.py\", line 509, in transform\n",
      "    X_int, X_mask = self._transform(\n",
      "  File \"/home/saivinil_pratap/miniconda3/envs/mle-dev/lib/python3.10/site-packages/sklearn/preprocessing/_encoders.py\", line 142, in _transform\n",
      "    raise ValueError(msg)\n",
      "ValueError: Found unknown categories ['ISLAND'] in column 0 during transform\n",
      "\n",
      "  warnings.warn(\n"
     ]
    },
    {
     "name": "stdout",
     "output_type": "stream",
     "text": [
      "[CV] END feature_selection__k=4, preparation__num__imputer__strategy=mean; total time=   8.2s\n",
      "[CV] END feature_selection__k=4, preparation__num__imputer__strategy=mean; total time=  10.8s\n",
      "[CV] END feature_selection__k=4, preparation__num__imputer__strategy=mean; total time=  10.4s\n",
      "[CV] END feature_selection__k=4, preparation__num__imputer__strategy=mean; total time=  10.2s\n",
      "[CV] END feature_selection__k=4, preparation__num__imputer__strategy=mean; total time=  10.2s\n"
     ]
    },
    {
     "name": "stderr",
     "output_type": "stream",
     "text": [
      "/home/saivinil_pratap/miniconda3/envs/mle-dev/lib/python3.10/site-packages/sklearn/model_selection/_validation.py:771: UserWarning: Scoring failed. The score on this train-test partition for these parameters will be set to nan. Details: \n",
      "Traceback (most recent call last):\n",
      "  File \"/home/saivinil_pratap/miniconda3/envs/mle-dev/lib/python3.10/site-packages/sklearn/model_selection/_validation.py\", line 762, in _score\n",
      "    scores = scorer(estimator, X_test, y_test)\n",
      "  File \"/home/saivinil_pratap/miniconda3/envs/mle-dev/lib/python3.10/site-packages/sklearn/metrics/_scorer.py\", line 216, in __call__\n",
      "    return self._score(\n",
      "  File \"/home/saivinil_pratap/miniconda3/envs/mle-dev/lib/python3.10/site-packages/sklearn/metrics/_scorer.py\", line 258, in _score\n",
      "    y_pred = method_caller(estimator, \"predict\", X)\n",
      "  File \"/home/saivinil_pratap/miniconda3/envs/mle-dev/lib/python3.10/site-packages/sklearn/metrics/_scorer.py\", line 68, in _cached_call\n",
      "    return getattr(estimator, method)(*args, **kwargs)\n",
      "  File \"/home/saivinil_pratap/miniconda3/envs/mle-dev/lib/python3.10/site-packages/sklearn/utils/metaestimators.py\", line 113, in <lambda>\n",
      "    out = lambda *args, **kwargs: self.fn(obj, *args, **kwargs)  # noqa\n",
      "  File \"/home/saivinil_pratap/miniconda3/envs/mle-dev/lib/python3.10/site-packages/sklearn/pipeline.py\", line 469, in predict\n",
      "    Xt = transform.transform(Xt)\n",
      "  File \"/home/saivinil_pratap/miniconda3/envs/mle-dev/lib/python3.10/site-packages/sklearn/compose/_column_transformer.py\", line 748, in transform\n",
      "    Xs = self._fit_transform(\n",
      "  File \"/home/saivinil_pratap/miniconda3/envs/mle-dev/lib/python3.10/site-packages/sklearn/compose/_column_transformer.py\", line 606, in _fit_transform\n",
      "    return Parallel(n_jobs=self.n_jobs)(\n",
      "  File \"/home/saivinil_pratap/miniconda3/envs/mle-dev/lib/python3.10/site-packages/joblib/parallel.py\", line 1046, in __call__\n",
      "    while self.dispatch_one_batch(iterator):\n",
      "  File \"/home/saivinil_pratap/miniconda3/envs/mle-dev/lib/python3.10/site-packages/joblib/parallel.py\", line 861, in dispatch_one_batch\n",
      "    self._dispatch(tasks)\n",
      "  File \"/home/saivinil_pratap/miniconda3/envs/mle-dev/lib/python3.10/site-packages/joblib/parallel.py\", line 779, in _dispatch\n",
      "    job = self._backend.apply_async(batch, callback=cb)\n",
      "  File \"/home/saivinil_pratap/miniconda3/envs/mle-dev/lib/python3.10/site-packages/joblib/_parallel_backends.py\", line 208, in apply_async\n",
      "    result = ImmediateResult(func)\n",
      "  File \"/home/saivinil_pratap/miniconda3/envs/mle-dev/lib/python3.10/site-packages/joblib/_parallel_backends.py\", line 572, in __init__\n",
      "    self.results = batch()\n",
      "  File \"/home/saivinil_pratap/miniconda3/envs/mle-dev/lib/python3.10/site-packages/joblib/parallel.py\", line 262, in __call__\n",
      "    return [func(*args, **kwargs)\n",
      "  File \"/home/saivinil_pratap/miniconda3/envs/mle-dev/lib/python3.10/site-packages/joblib/parallel.py\", line 262, in <listcomp>\n",
      "    return [func(*args, **kwargs)\n",
      "  File \"/home/saivinil_pratap/miniconda3/envs/mle-dev/lib/python3.10/site-packages/sklearn/utils/fixes.py\", line 211, in __call__\n",
      "    return self.function(*args, **kwargs)\n",
      "  File \"/home/saivinil_pratap/miniconda3/envs/mle-dev/lib/python3.10/site-packages/sklearn/pipeline.py\", line 876, in _transform_one\n",
      "    res = transformer.transform(X)\n",
      "  File \"/home/saivinil_pratap/miniconda3/envs/mle-dev/lib/python3.10/site-packages/sklearn/preprocessing/_encoders.py\", line 509, in transform\n",
      "    X_int, X_mask = self._transform(\n",
      "  File \"/home/saivinil_pratap/miniconda3/envs/mle-dev/lib/python3.10/site-packages/sklearn/preprocessing/_encoders.py\", line 142, in _transform\n",
      "    raise ValueError(msg)\n",
      "ValueError: Found unknown categories ['ISLAND'] in column 0 during transform\n",
      "\n",
      "  warnings.warn(\n"
     ]
    },
    {
     "name": "stdout",
     "output_type": "stream",
     "text": [
      "[CV] END feature_selection__k=4, preparation__num__imputer__strategy=median; total time=   8.3s\n",
      "[CV] END feature_selection__k=4, preparation__num__imputer__strategy=median; total time=  10.2s\n",
      "[CV] END feature_selection__k=4, preparation__num__imputer__strategy=median; total time=  10.0s\n",
      "[CV] END feature_selection__k=4, preparation__num__imputer__strategy=median; total time=   9.8s\n",
      "[CV] END feature_selection__k=4, preparation__num__imputer__strategy=median; total time=   9.8s\n"
     ]
    },
    {
     "name": "stderr",
     "output_type": "stream",
     "text": [
      "/home/saivinil_pratap/miniconda3/envs/mle-dev/lib/python3.10/site-packages/sklearn/model_selection/_validation.py:771: UserWarning: Scoring failed. The score on this train-test partition for these parameters will be set to nan. Details: \n",
      "Traceback (most recent call last):\n",
      "  File \"/home/saivinil_pratap/miniconda3/envs/mle-dev/lib/python3.10/site-packages/sklearn/model_selection/_validation.py\", line 762, in _score\n",
      "    scores = scorer(estimator, X_test, y_test)\n",
      "  File \"/home/saivinil_pratap/miniconda3/envs/mle-dev/lib/python3.10/site-packages/sklearn/metrics/_scorer.py\", line 216, in __call__\n",
      "    return self._score(\n",
      "  File \"/home/saivinil_pratap/miniconda3/envs/mle-dev/lib/python3.10/site-packages/sklearn/metrics/_scorer.py\", line 258, in _score\n",
      "    y_pred = method_caller(estimator, \"predict\", X)\n",
      "  File \"/home/saivinil_pratap/miniconda3/envs/mle-dev/lib/python3.10/site-packages/sklearn/metrics/_scorer.py\", line 68, in _cached_call\n",
      "    return getattr(estimator, method)(*args, **kwargs)\n",
      "  File \"/home/saivinil_pratap/miniconda3/envs/mle-dev/lib/python3.10/site-packages/sklearn/utils/metaestimators.py\", line 113, in <lambda>\n",
      "    out = lambda *args, **kwargs: self.fn(obj, *args, **kwargs)  # noqa\n",
      "  File \"/home/saivinil_pratap/miniconda3/envs/mle-dev/lib/python3.10/site-packages/sklearn/pipeline.py\", line 469, in predict\n",
      "    Xt = transform.transform(Xt)\n",
      "  File \"/home/saivinil_pratap/miniconda3/envs/mle-dev/lib/python3.10/site-packages/sklearn/compose/_column_transformer.py\", line 748, in transform\n",
      "    Xs = self._fit_transform(\n",
      "  File \"/home/saivinil_pratap/miniconda3/envs/mle-dev/lib/python3.10/site-packages/sklearn/compose/_column_transformer.py\", line 606, in _fit_transform\n",
      "    return Parallel(n_jobs=self.n_jobs)(\n",
      "  File \"/home/saivinil_pratap/miniconda3/envs/mle-dev/lib/python3.10/site-packages/joblib/parallel.py\", line 1046, in __call__\n",
      "    while self.dispatch_one_batch(iterator):\n",
      "  File \"/home/saivinil_pratap/miniconda3/envs/mle-dev/lib/python3.10/site-packages/joblib/parallel.py\", line 861, in dispatch_one_batch\n",
      "    self._dispatch(tasks)\n",
      "  File \"/home/saivinil_pratap/miniconda3/envs/mle-dev/lib/python3.10/site-packages/joblib/parallel.py\", line 779, in _dispatch\n",
      "    job = self._backend.apply_async(batch, callback=cb)\n",
      "  File \"/home/saivinil_pratap/miniconda3/envs/mle-dev/lib/python3.10/site-packages/joblib/_parallel_backends.py\", line 208, in apply_async\n",
      "    result = ImmediateResult(func)\n",
      "  File \"/home/saivinil_pratap/miniconda3/envs/mle-dev/lib/python3.10/site-packages/joblib/_parallel_backends.py\", line 572, in __init__\n",
      "    self.results = batch()\n",
      "  File \"/home/saivinil_pratap/miniconda3/envs/mle-dev/lib/python3.10/site-packages/joblib/parallel.py\", line 262, in __call__\n",
      "    return [func(*args, **kwargs)\n",
      "  File \"/home/saivinil_pratap/miniconda3/envs/mle-dev/lib/python3.10/site-packages/joblib/parallel.py\", line 262, in <listcomp>\n",
      "    return [func(*args, **kwargs)\n",
      "  File \"/home/saivinil_pratap/miniconda3/envs/mle-dev/lib/python3.10/site-packages/sklearn/utils/fixes.py\", line 211, in __call__\n",
      "    return self.function(*args, **kwargs)\n",
      "  File \"/home/saivinil_pratap/miniconda3/envs/mle-dev/lib/python3.10/site-packages/sklearn/pipeline.py\", line 876, in _transform_one\n",
      "    res = transformer.transform(X)\n",
      "  File \"/home/saivinil_pratap/miniconda3/envs/mle-dev/lib/python3.10/site-packages/sklearn/preprocessing/_encoders.py\", line 509, in transform\n",
      "    X_int, X_mask = self._transform(\n",
      "  File \"/home/saivinil_pratap/miniconda3/envs/mle-dev/lib/python3.10/site-packages/sklearn/preprocessing/_encoders.py\", line 142, in _transform\n",
      "    raise ValueError(msg)\n",
      "ValueError: Found unknown categories ['ISLAND'] in column 0 during transform\n",
      "\n",
      "  warnings.warn(\n"
     ]
    },
    {
     "name": "stdout",
     "output_type": "stream",
     "text": [
      "[CV] END feature_selection__k=4, preparation__num__imputer__strategy=most_frequent; total time=   8.1s\n",
      "[CV] END feature_selection__k=4, preparation__num__imputer__strategy=most_frequent; total time=   9.9s\n",
      "[CV] END feature_selection__k=4, preparation__num__imputer__strategy=most_frequent; total time=   9.9s\n",
      "[CV] END feature_selection__k=4, preparation__num__imputer__strategy=most_frequent; total time=   9.9s\n",
      "[CV] END feature_selection__k=4, preparation__num__imputer__strategy=most_frequent; total time=   9.8s\n"
     ]
    },
    {
     "name": "stderr",
     "output_type": "stream",
     "text": [
      "/home/saivinil_pratap/miniconda3/envs/mle-dev/lib/python3.10/site-packages/sklearn/model_selection/_validation.py:771: UserWarning: Scoring failed. The score on this train-test partition for these parameters will be set to nan. Details: \n",
      "Traceback (most recent call last):\n",
      "  File \"/home/saivinil_pratap/miniconda3/envs/mle-dev/lib/python3.10/site-packages/sklearn/model_selection/_validation.py\", line 762, in _score\n",
      "    scores = scorer(estimator, X_test, y_test)\n",
      "  File \"/home/saivinil_pratap/miniconda3/envs/mle-dev/lib/python3.10/site-packages/sklearn/metrics/_scorer.py\", line 216, in __call__\n",
      "    return self._score(\n",
      "  File \"/home/saivinil_pratap/miniconda3/envs/mle-dev/lib/python3.10/site-packages/sklearn/metrics/_scorer.py\", line 258, in _score\n",
      "    y_pred = method_caller(estimator, \"predict\", X)\n",
      "  File \"/home/saivinil_pratap/miniconda3/envs/mle-dev/lib/python3.10/site-packages/sklearn/metrics/_scorer.py\", line 68, in _cached_call\n",
      "    return getattr(estimator, method)(*args, **kwargs)\n",
      "  File \"/home/saivinil_pratap/miniconda3/envs/mle-dev/lib/python3.10/site-packages/sklearn/utils/metaestimators.py\", line 113, in <lambda>\n",
      "    out = lambda *args, **kwargs: self.fn(obj, *args, **kwargs)  # noqa\n",
      "  File \"/home/saivinil_pratap/miniconda3/envs/mle-dev/lib/python3.10/site-packages/sklearn/pipeline.py\", line 469, in predict\n",
      "    Xt = transform.transform(Xt)\n",
      "  File \"/home/saivinil_pratap/miniconda3/envs/mle-dev/lib/python3.10/site-packages/sklearn/compose/_column_transformer.py\", line 748, in transform\n",
      "    Xs = self._fit_transform(\n",
      "  File \"/home/saivinil_pratap/miniconda3/envs/mle-dev/lib/python3.10/site-packages/sklearn/compose/_column_transformer.py\", line 606, in _fit_transform\n",
      "    return Parallel(n_jobs=self.n_jobs)(\n",
      "  File \"/home/saivinil_pratap/miniconda3/envs/mle-dev/lib/python3.10/site-packages/joblib/parallel.py\", line 1046, in __call__\n",
      "    while self.dispatch_one_batch(iterator):\n",
      "  File \"/home/saivinil_pratap/miniconda3/envs/mle-dev/lib/python3.10/site-packages/joblib/parallel.py\", line 861, in dispatch_one_batch\n",
      "    self._dispatch(tasks)\n",
      "  File \"/home/saivinil_pratap/miniconda3/envs/mle-dev/lib/python3.10/site-packages/joblib/parallel.py\", line 779, in _dispatch\n",
      "    job = self._backend.apply_async(batch, callback=cb)\n",
      "  File \"/home/saivinil_pratap/miniconda3/envs/mle-dev/lib/python3.10/site-packages/joblib/_parallel_backends.py\", line 208, in apply_async\n",
      "    result = ImmediateResult(func)\n",
      "  File \"/home/saivinil_pratap/miniconda3/envs/mle-dev/lib/python3.10/site-packages/joblib/_parallel_backends.py\", line 572, in __init__\n",
      "    self.results = batch()\n",
      "  File \"/home/saivinil_pratap/miniconda3/envs/mle-dev/lib/python3.10/site-packages/joblib/parallel.py\", line 262, in __call__\n",
      "    return [func(*args, **kwargs)\n",
      "  File \"/home/saivinil_pratap/miniconda3/envs/mle-dev/lib/python3.10/site-packages/joblib/parallel.py\", line 262, in <listcomp>\n",
      "    return [func(*args, **kwargs)\n",
      "  File \"/home/saivinil_pratap/miniconda3/envs/mle-dev/lib/python3.10/site-packages/sklearn/utils/fixes.py\", line 211, in __call__\n",
      "    return self.function(*args, **kwargs)\n",
      "  File \"/home/saivinil_pratap/miniconda3/envs/mle-dev/lib/python3.10/site-packages/sklearn/pipeline.py\", line 876, in _transform_one\n",
      "    res = transformer.transform(X)\n",
      "  File \"/home/saivinil_pratap/miniconda3/envs/mle-dev/lib/python3.10/site-packages/sklearn/preprocessing/_encoders.py\", line 509, in transform\n",
      "    X_int, X_mask = self._transform(\n",
      "  File \"/home/saivinil_pratap/miniconda3/envs/mle-dev/lib/python3.10/site-packages/sklearn/preprocessing/_encoders.py\", line 142, in _transform\n",
      "    raise ValueError(msg)\n",
      "ValueError: Found unknown categories ['ISLAND'] in column 0 during transform\n",
      "\n",
      "  warnings.warn(\n"
     ]
    },
    {
     "name": "stdout",
     "output_type": "stream",
     "text": [
      "[CV] END feature_selection__k=5, preparation__num__imputer__strategy=mean; total time=   8.1s\n",
      "[CV] END feature_selection__k=5, preparation__num__imputer__strategy=mean; total time=  10.0s\n",
      "[CV] END feature_selection__k=5, preparation__num__imputer__strategy=mean; total time=  10.0s\n",
      "[CV] END feature_selection__k=5, preparation__num__imputer__strategy=mean; total time=  10.1s\n",
      "[CV] END feature_selection__k=5, preparation__num__imputer__strategy=mean; total time=  10.0s\n"
     ]
    },
    {
     "name": "stderr",
     "output_type": "stream",
     "text": [
      "/home/saivinil_pratap/miniconda3/envs/mle-dev/lib/python3.10/site-packages/sklearn/model_selection/_validation.py:771: UserWarning: Scoring failed. The score on this train-test partition for these parameters will be set to nan. Details: \n",
      "Traceback (most recent call last):\n",
      "  File \"/home/saivinil_pratap/miniconda3/envs/mle-dev/lib/python3.10/site-packages/sklearn/model_selection/_validation.py\", line 762, in _score\n",
      "    scores = scorer(estimator, X_test, y_test)\n",
      "  File \"/home/saivinil_pratap/miniconda3/envs/mle-dev/lib/python3.10/site-packages/sklearn/metrics/_scorer.py\", line 216, in __call__\n",
      "    return self._score(\n",
      "  File \"/home/saivinil_pratap/miniconda3/envs/mle-dev/lib/python3.10/site-packages/sklearn/metrics/_scorer.py\", line 258, in _score\n",
      "    y_pred = method_caller(estimator, \"predict\", X)\n",
      "  File \"/home/saivinil_pratap/miniconda3/envs/mle-dev/lib/python3.10/site-packages/sklearn/metrics/_scorer.py\", line 68, in _cached_call\n",
      "    return getattr(estimator, method)(*args, **kwargs)\n",
      "  File \"/home/saivinil_pratap/miniconda3/envs/mle-dev/lib/python3.10/site-packages/sklearn/utils/metaestimators.py\", line 113, in <lambda>\n",
      "    out = lambda *args, **kwargs: self.fn(obj, *args, **kwargs)  # noqa\n",
      "  File \"/home/saivinil_pratap/miniconda3/envs/mle-dev/lib/python3.10/site-packages/sklearn/pipeline.py\", line 469, in predict\n",
      "    Xt = transform.transform(Xt)\n",
      "  File \"/home/saivinil_pratap/miniconda3/envs/mle-dev/lib/python3.10/site-packages/sklearn/compose/_column_transformer.py\", line 748, in transform\n",
      "    Xs = self._fit_transform(\n",
      "  File \"/home/saivinil_pratap/miniconda3/envs/mle-dev/lib/python3.10/site-packages/sklearn/compose/_column_transformer.py\", line 606, in _fit_transform\n",
      "    return Parallel(n_jobs=self.n_jobs)(\n",
      "  File \"/home/saivinil_pratap/miniconda3/envs/mle-dev/lib/python3.10/site-packages/joblib/parallel.py\", line 1046, in __call__\n",
      "    while self.dispatch_one_batch(iterator):\n",
      "  File \"/home/saivinil_pratap/miniconda3/envs/mle-dev/lib/python3.10/site-packages/joblib/parallel.py\", line 861, in dispatch_one_batch\n",
      "    self._dispatch(tasks)\n",
      "  File \"/home/saivinil_pratap/miniconda3/envs/mle-dev/lib/python3.10/site-packages/joblib/parallel.py\", line 779, in _dispatch\n",
      "    job = self._backend.apply_async(batch, callback=cb)\n",
      "  File \"/home/saivinil_pratap/miniconda3/envs/mle-dev/lib/python3.10/site-packages/joblib/_parallel_backends.py\", line 208, in apply_async\n",
      "    result = ImmediateResult(func)\n",
      "  File \"/home/saivinil_pratap/miniconda3/envs/mle-dev/lib/python3.10/site-packages/joblib/_parallel_backends.py\", line 572, in __init__\n",
      "    self.results = batch()\n",
      "  File \"/home/saivinil_pratap/miniconda3/envs/mle-dev/lib/python3.10/site-packages/joblib/parallel.py\", line 262, in __call__\n",
      "    return [func(*args, **kwargs)\n",
      "  File \"/home/saivinil_pratap/miniconda3/envs/mle-dev/lib/python3.10/site-packages/joblib/parallel.py\", line 262, in <listcomp>\n",
      "    return [func(*args, **kwargs)\n",
      "  File \"/home/saivinil_pratap/miniconda3/envs/mle-dev/lib/python3.10/site-packages/sklearn/utils/fixes.py\", line 211, in __call__\n",
      "    return self.function(*args, **kwargs)\n",
      "  File \"/home/saivinil_pratap/miniconda3/envs/mle-dev/lib/python3.10/site-packages/sklearn/pipeline.py\", line 876, in _transform_one\n",
      "    res = transformer.transform(X)\n",
      "  File \"/home/saivinil_pratap/miniconda3/envs/mle-dev/lib/python3.10/site-packages/sklearn/preprocessing/_encoders.py\", line 509, in transform\n",
      "    X_int, X_mask = self._transform(\n",
      "  File \"/home/saivinil_pratap/miniconda3/envs/mle-dev/lib/python3.10/site-packages/sklearn/preprocessing/_encoders.py\", line 142, in _transform\n",
      "    raise ValueError(msg)\n",
      "ValueError: Found unknown categories ['ISLAND'] in column 0 during transform\n",
      "\n",
      "  warnings.warn(\n"
     ]
    },
    {
     "name": "stdout",
     "output_type": "stream",
     "text": [
      "[CV] END feature_selection__k=5, preparation__num__imputer__strategy=median; total time=   8.1s\n",
      "[CV] END feature_selection__k=5, preparation__num__imputer__strategy=median; total time=   9.9s\n",
      "[CV] END feature_selection__k=5, preparation__num__imputer__strategy=median; total time=  10.0s\n",
      "[CV] END feature_selection__k=5, preparation__num__imputer__strategy=median; total time=   9.9s\n",
      "[CV] END feature_selection__k=5, preparation__num__imputer__strategy=median; total time=  10.0s\n"
     ]
    },
    {
     "name": "stderr",
     "output_type": "stream",
     "text": [
      "/home/saivinil_pratap/miniconda3/envs/mle-dev/lib/python3.10/site-packages/sklearn/model_selection/_validation.py:771: UserWarning: Scoring failed. The score on this train-test partition for these parameters will be set to nan. Details: \n",
      "Traceback (most recent call last):\n",
      "  File \"/home/saivinil_pratap/miniconda3/envs/mle-dev/lib/python3.10/site-packages/sklearn/model_selection/_validation.py\", line 762, in _score\n",
      "    scores = scorer(estimator, X_test, y_test)\n",
      "  File \"/home/saivinil_pratap/miniconda3/envs/mle-dev/lib/python3.10/site-packages/sklearn/metrics/_scorer.py\", line 216, in __call__\n",
      "    return self._score(\n",
      "  File \"/home/saivinil_pratap/miniconda3/envs/mle-dev/lib/python3.10/site-packages/sklearn/metrics/_scorer.py\", line 258, in _score\n",
      "    y_pred = method_caller(estimator, \"predict\", X)\n",
      "  File \"/home/saivinil_pratap/miniconda3/envs/mle-dev/lib/python3.10/site-packages/sklearn/metrics/_scorer.py\", line 68, in _cached_call\n",
      "    return getattr(estimator, method)(*args, **kwargs)\n",
      "  File \"/home/saivinil_pratap/miniconda3/envs/mle-dev/lib/python3.10/site-packages/sklearn/utils/metaestimators.py\", line 113, in <lambda>\n",
      "    out = lambda *args, **kwargs: self.fn(obj, *args, **kwargs)  # noqa\n",
      "  File \"/home/saivinil_pratap/miniconda3/envs/mle-dev/lib/python3.10/site-packages/sklearn/pipeline.py\", line 469, in predict\n",
      "    Xt = transform.transform(Xt)\n",
      "  File \"/home/saivinil_pratap/miniconda3/envs/mle-dev/lib/python3.10/site-packages/sklearn/compose/_column_transformer.py\", line 748, in transform\n",
      "    Xs = self._fit_transform(\n",
      "  File \"/home/saivinil_pratap/miniconda3/envs/mle-dev/lib/python3.10/site-packages/sklearn/compose/_column_transformer.py\", line 606, in _fit_transform\n",
      "    return Parallel(n_jobs=self.n_jobs)(\n",
      "  File \"/home/saivinil_pratap/miniconda3/envs/mle-dev/lib/python3.10/site-packages/joblib/parallel.py\", line 1046, in __call__\n",
      "    while self.dispatch_one_batch(iterator):\n",
      "  File \"/home/saivinil_pratap/miniconda3/envs/mle-dev/lib/python3.10/site-packages/joblib/parallel.py\", line 861, in dispatch_one_batch\n",
      "    self._dispatch(tasks)\n",
      "  File \"/home/saivinil_pratap/miniconda3/envs/mle-dev/lib/python3.10/site-packages/joblib/parallel.py\", line 779, in _dispatch\n",
      "    job = self._backend.apply_async(batch, callback=cb)\n",
      "  File \"/home/saivinil_pratap/miniconda3/envs/mle-dev/lib/python3.10/site-packages/joblib/_parallel_backends.py\", line 208, in apply_async\n",
      "    result = ImmediateResult(func)\n",
      "  File \"/home/saivinil_pratap/miniconda3/envs/mle-dev/lib/python3.10/site-packages/joblib/_parallel_backends.py\", line 572, in __init__\n",
      "    self.results = batch()\n",
      "  File \"/home/saivinil_pratap/miniconda3/envs/mle-dev/lib/python3.10/site-packages/joblib/parallel.py\", line 262, in __call__\n",
      "    return [func(*args, **kwargs)\n",
      "  File \"/home/saivinil_pratap/miniconda3/envs/mle-dev/lib/python3.10/site-packages/joblib/parallel.py\", line 262, in <listcomp>\n",
      "    return [func(*args, **kwargs)\n",
      "  File \"/home/saivinil_pratap/miniconda3/envs/mle-dev/lib/python3.10/site-packages/sklearn/utils/fixes.py\", line 211, in __call__\n",
      "    return self.function(*args, **kwargs)\n",
      "  File \"/home/saivinil_pratap/miniconda3/envs/mle-dev/lib/python3.10/site-packages/sklearn/pipeline.py\", line 876, in _transform_one\n",
      "    res = transformer.transform(X)\n",
      "  File \"/home/saivinil_pratap/miniconda3/envs/mle-dev/lib/python3.10/site-packages/sklearn/preprocessing/_encoders.py\", line 509, in transform\n",
      "    X_int, X_mask = self._transform(\n",
      "  File \"/home/saivinil_pratap/miniconda3/envs/mle-dev/lib/python3.10/site-packages/sklearn/preprocessing/_encoders.py\", line 142, in _transform\n",
      "    raise ValueError(msg)\n",
      "ValueError: Found unknown categories ['ISLAND'] in column 0 during transform\n",
      "\n",
      "  warnings.warn(\n"
     ]
    },
    {
     "name": "stdout",
     "output_type": "stream",
     "text": [
      "[CV] END feature_selection__k=5, preparation__num__imputer__strategy=most_frequent; total time=   8.1s\n",
      "[CV] END feature_selection__k=5, preparation__num__imputer__strategy=most_frequent; total time=   9.8s\n",
      "[CV] END feature_selection__k=5, preparation__num__imputer__strategy=most_frequent; total time=  10.1s\n",
      "[CV] END feature_selection__k=5, preparation__num__imputer__strategy=most_frequent; total time=   9.8s\n",
      "[CV] END feature_selection__k=5, preparation__num__imputer__strategy=most_frequent; total time=   9.8s\n"
     ]
    },
    {
     "name": "stderr",
     "output_type": "stream",
     "text": [
      "/home/saivinil_pratap/miniconda3/envs/mle-dev/lib/python3.10/site-packages/sklearn/model_selection/_validation.py:771: UserWarning: Scoring failed. The score on this train-test partition for these parameters will be set to nan. Details: \n",
      "Traceback (most recent call last):\n",
      "  File \"/home/saivinil_pratap/miniconda3/envs/mle-dev/lib/python3.10/site-packages/sklearn/model_selection/_validation.py\", line 762, in _score\n",
      "    scores = scorer(estimator, X_test, y_test)\n",
      "  File \"/home/saivinil_pratap/miniconda3/envs/mle-dev/lib/python3.10/site-packages/sklearn/metrics/_scorer.py\", line 216, in __call__\n",
      "    return self._score(\n",
      "  File \"/home/saivinil_pratap/miniconda3/envs/mle-dev/lib/python3.10/site-packages/sklearn/metrics/_scorer.py\", line 258, in _score\n",
      "    y_pred = method_caller(estimator, \"predict\", X)\n",
      "  File \"/home/saivinil_pratap/miniconda3/envs/mle-dev/lib/python3.10/site-packages/sklearn/metrics/_scorer.py\", line 68, in _cached_call\n",
      "    return getattr(estimator, method)(*args, **kwargs)\n",
      "  File \"/home/saivinil_pratap/miniconda3/envs/mle-dev/lib/python3.10/site-packages/sklearn/utils/metaestimators.py\", line 113, in <lambda>\n",
      "    out = lambda *args, **kwargs: self.fn(obj, *args, **kwargs)  # noqa\n",
      "  File \"/home/saivinil_pratap/miniconda3/envs/mle-dev/lib/python3.10/site-packages/sklearn/pipeline.py\", line 469, in predict\n",
      "    Xt = transform.transform(Xt)\n",
      "  File \"/home/saivinil_pratap/miniconda3/envs/mle-dev/lib/python3.10/site-packages/sklearn/compose/_column_transformer.py\", line 748, in transform\n",
      "    Xs = self._fit_transform(\n",
      "  File \"/home/saivinil_pratap/miniconda3/envs/mle-dev/lib/python3.10/site-packages/sklearn/compose/_column_transformer.py\", line 606, in _fit_transform\n",
      "    return Parallel(n_jobs=self.n_jobs)(\n",
      "  File \"/home/saivinil_pratap/miniconda3/envs/mle-dev/lib/python3.10/site-packages/joblib/parallel.py\", line 1046, in __call__\n",
      "    while self.dispatch_one_batch(iterator):\n",
      "  File \"/home/saivinil_pratap/miniconda3/envs/mle-dev/lib/python3.10/site-packages/joblib/parallel.py\", line 861, in dispatch_one_batch\n",
      "    self._dispatch(tasks)\n",
      "  File \"/home/saivinil_pratap/miniconda3/envs/mle-dev/lib/python3.10/site-packages/joblib/parallel.py\", line 779, in _dispatch\n",
      "    job = self._backend.apply_async(batch, callback=cb)\n",
      "  File \"/home/saivinil_pratap/miniconda3/envs/mle-dev/lib/python3.10/site-packages/joblib/_parallel_backends.py\", line 208, in apply_async\n",
      "    result = ImmediateResult(func)\n",
      "  File \"/home/saivinil_pratap/miniconda3/envs/mle-dev/lib/python3.10/site-packages/joblib/_parallel_backends.py\", line 572, in __init__\n",
      "    self.results = batch()\n",
      "  File \"/home/saivinil_pratap/miniconda3/envs/mle-dev/lib/python3.10/site-packages/joblib/parallel.py\", line 262, in __call__\n",
      "    return [func(*args, **kwargs)\n",
      "  File \"/home/saivinil_pratap/miniconda3/envs/mle-dev/lib/python3.10/site-packages/joblib/parallel.py\", line 262, in <listcomp>\n",
      "    return [func(*args, **kwargs)\n",
      "  File \"/home/saivinil_pratap/miniconda3/envs/mle-dev/lib/python3.10/site-packages/sklearn/utils/fixes.py\", line 211, in __call__\n",
      "    return self.function(*args, **kwargs)\n",
      "  File \"/home/saivinil_pratap/miniconda3/envs/mle-dev/lib/python3.10/site-packages/sklearn/pipeline.py\", line 876, in _transform_one\n",
      "    res = transformer.transform(X)\n",
      "  File \"/home/saivinil_pratap/miniconda3/envs/mle-dev/lib/python3.10/site-packages/sklearn/preprocessing/_encoders.py\", line 509, in transform\n",
      "    X_int, X_mask = self._transform(\n",
      "  File \"/home/saivinil_pratap/miniconda3/envs/mle-dev/lib/python3.10/site-packages/sklearn/preprocessing/_encoders.py\", line 142, in _transform\n",
      "    raise ValueError(msg)\n",
      "ValueError: Found unknown categories ['ISLAND'] in column 0 during transform\n",
      "\n",
      "  warnings.warn(\n"
     ]
    },
    {
     "name": "stdout",
     "output_type": "stream",
     "text": [
      "[CV] END feature_selection__k=6, preparation__num__imputer__strategy=mean; total time=   8.1s\n",
      "[CV] END feature_selection__k=6, preparation__num__imputer__strategy=mean; total time=  10.0s\n",
      "[CV] END feature_selection__k=6, preparation__num__imputer__strategy=mean; total time=  10.1s\n",
      "[CV] END feature_selection__k=6, preparation__num__imputer__strategy=mean; total time=   9.8s\n",
      "[CV] END feature_selection__k=6, preparation__num__imputer__strategy=mean; total time=  10.0s\n"
     ]
    },
    {
     "name": "stderr",
     "output_type": "stream",
     "text": [
      "/home/saivinil_pratap/miniconda3/envs/mle-dev/lib/python3.10/site-packages/sklearn/model_selection/_validation.py:771: UserWarning: Scoring failed. The score on this train-test partition for these parameters will be set to nan. Details: \n",
      "Traceback (most recent call last):\n",
      "  File \"/home/saivinil_pratap/miniconda3/envs/mle-dev/lib/python3.10/site-packages/sklearn/model_selection/_validation.py\", line 762, in _score\n",
      "    scores = scorer(estimator, X_test, y_test)\n",
      "  File \"/home/saivinil_pratap/miniconda3/envs/mle-dev/lib/python3.10/site-packages/sklearn/metrics/_scorer.py\", line 216, in __call__\n",
      "    return self._score(\n",
      "  File \"/home/saivinil_pratap/miniconda3/envs/mle-dev/lib/python3.10/site-packages/sklearn/metrics/_scorer.py\", line 258, in _score\n",
      "    y_pred = method_caller(estimator, \"predict\", X)\n",
      "  File \"/home/saivinil_pratap/miniconda3/envs/mle-dev/lib/python3.10/site-packages/sklearn/metrics/_scorer.py\", line 68, in _cached_call\n",
      "    return getattr(estimator, method)(*args, **kwargs)\n",
      "  File \"/home/saivinil_pratap/miniconda3/envs/mle-dev/lib/python3.10/site-packages/sklearn/utils/metaestimators.py\", line 113, in <lambda>\n",
      "    out = lambda *args, **kwargs: self.fn(obj, *args, **kwargs)  # noqa\n",
      "  File \"/home/saivinil_pratap/miniconda3/envs/mle-dev/lib/python3.10/site-packages/sklearn/pipeline.py\", line 469, in predict\n",
      "    Xt = transform.transform(Xt)\n",
      "  File \"/home/saivinil_pratap/miniconda3/envs/mle-dev/lib/python3.10/site-packages/sklearn/compose/_column_transformer.py\", line 748, in transform\n",
      "    Xs = self._fit_transform(\n",
      "  File \"/home/saivinil_pratap/miniconda3/envs/mle-dev/lib/python3.10/site-packages/sklearn/compose/_column_transformer.py\", line 606, in _fit_transform\n",
      "    return Parallel(n_jobs=self.n_jobs)(\n",
      "  File \"/home/saivinil_pratap/miniconda3/envs/mle-dev/lib/python3.10/site-packages/joblib/parallel.py\", line 1046, in __call__\n",
      "    while self.dispatch_one_batch(iterator):\n",
      "  File \"/home/saivinil_pratap/miniconda3/envs/mle-dev/lib/python3.10/site-packages/joblib/parallel.py\", line 861, in dispatch_one_batch\n",
      "    self._dispatch(tasks)\n",
      "  File \"/home/saivinil_pratap/miniconda3/envs/mle-dev/lib/python3.10/site-packages/joblib/parallel.py\", line 779, in _dispatch\n",
      "    job = self._backend.apply_async(batch, callback=cb)\n",
      "  File \"/home/saivinil_pratap/miniconda3/envs/mle-dev/lib/python3.10/site-packages/joblib/_parallel_backends.py\", line 208, in apply_async\n",
      "    result = ImmediateResult(func)\n",
      "  File \"/home/saivinil_pratap/miniconda3/envs/mle-dev/lib/python3.10/site-packages/joblib/_parallel_backends.py\", line 572, in __init__\n",
      "    self.results = batch()\n",
      "  File \"/home/saivinil_pratap/miniconda3/envs/mle-dev/lib/python3.10/site-packages/joblib/parallel.py\", line 262, in __call__\n",
      "    return [func(*args, **kwargs)\n",
      "  File \"/home/saivinil_pratap/miniconda3/envs/mle-dev/lib/python3.10/site-packages/joblib/parallel.py\", line 262, in <listcomp>\n",
      "    return [func(*args, **kwargs)\n",
      "  File \"/home/saivinil_pratap/miniconda3/envs/mle-dev/lib/python3.10/site-packages/sklearn/utils/fixes.py\", line 211, in __call__\n",
      "    return self.function(*args, **kwargs)\n",
      "  File \"/home/saivinil_pratap/miniconda3/envs/mle-dev/lib/python3.10/site-packages/sklearn/pipeline.py\", line 876, in _transform_one\n",
      "    res = transformer.transform(X)\n",
      "  File \"/home/saivinil_pratap/miniconda3/envs/mle-dev/lib/python3.10/site-packages/sklearn/preprocessing/_encoders.py\", line 509, in transform\n",
      "    X_int, X_mask = self._transform(\n",
      "  File \"/home/saivinil_pratap/miniconda3/envs/mle-dev/lib/python3.10/site-packages/sklearn/preprocessing/_encoders.py\", line 142, in _transform\n",
      "    raise ValueError(msg)\n",
      "ValueError: Found unknown categories ['ISLAND'] in column 0 during transform\n",
      "\n",
      "  warnings.warn(\n"
     ]
    },
    {
     "name": "stdout",
     "output_type": "stream",
     "text": [
      "[CV] END feature_selection__k=6, preparation__num__imputer__strategy=median; total time=   9.7s\n",
      "[CV] END feature_selection__k=6, preparation__num__imputer__strategy=median; total time=  10.1s\n",
      "[CV] END feature_selection__k=6, preparation__num__imputer__strategy=median; total time=  10.2s\n",
      "[CV] END feature_selection__k=6, preparation__num__imputer__strategy=median; total time=   9.9s\n",
      "[CV] END feature_selection__k=6, preparation__num__imputer__strategy=median; total time=  10.1s\n"
     ]
    },
    {
     "name": "stderr",
     "output_type": "stream",
     "text": [
      "/home/saivinil_pratap/miniconda3/envs/mle-dev/lib/python3.10/site-packages/sklearn/model_selection/_validation.py:771: UserWarning: Scoring failed. The score on this train-test partition for these parameters will be set to nan. Details: \n",
      "Traceback (most recent call last):\n",
      "  File \"/home/saivinil_pratap/miniconda3/envs/mle-dev/lib/python3.10/site-packages/sklearn/model_selection/_validation.py\", line 762, in _score\n",
      "    scores = scorer(estimator, X_test, y_test)\n",
      "  File \"/home/saivinil_pratap/miniconda3/envs/mle-dev/lib/python3.10/site-packages/sklearn/metrics/_scorer.py\", line 216, in __call__\n",
      "    return self._score(\n",
      "  File \"/home/saivinil_pratap/miniconda3/envs/mle-dev/lib/python3.10/site-packages/sklearn/metrics/_scorer.py\", line 258, in _score\n",
      "    y_pred = method_caller(estimator, \"predict\", X)\n",
      "  File \"/home/saivinil_pratap/miniconda3/envs/mle-dev/lib/python3.10/site-packages/sklearn/metrics/_scorer.py\", line 68, in _cached_call\n",
      "    return getattr(estimator, method)(*args, **kwargs)\n",
      "  File \"/home/saivinil_pratap/miniconda3/envs/mle-dev/lib/python3.10/site-packages/sklearn/utils/metaestimators.py\", line 113, in <lambda>\n",
      "    out = lambda *args, **kwargs: self.fn(obj, *args, **kwargs)  # noqa\n",
      "  File \"/home/saivinil_pratap/miniconda3/envs/mle-dev/lib/python3.10/site-packages/sklearn/pipeline.py\", line 469, in predict\n",
      "    Xt = transform.transform(Xt)\n",
      "  File \"/home/saivinil_pratap/miniconda3/envs/mle-dev/lib/python3.10/site-packages/sklearn/compose/_column_transformer.py\", line 748, in transform\n",
      "    Xs = self._fit_transform(\n",
      "  File \"/home/saivinil_pratap/miniconda3/envs/mle-dev/lib/python3.10/site-packages/sklearn/compose/_column_transformer.py\", line 606, in _fit_transform\n",
      "    return Parallel(n_jobs=self.n_jobs)(\n",
      "  File \"/home/saivinil_pratap/miniconda3/envs/mle-dev/lib/python3.10/site-packages/joblib/parallel.py\", line 1046, in __call__\n",
      "    while self.dispatch_one_batch(iterator):\n",
      "  File \"/home/saivinil_pratap/miniconda3/envs/mle-dev/lib/python3.10/site-packages/joblib/parallel.py\", line 861, in dispatch_one_batch\n",
      "    self._dispatch(tasks)\n",
      "  File \"/home/saivinil_pratap/miniconda3/envs/mle-dev/lib/python3.10/site-packages/joblib/parallel.py\", line 779, in _dispatch\n",
      "    job = self._backend.apply_async(batch, callback=cb)\n",
      "  File \"/home/saivinil_pratap/miniconda3/envs/mle-dev/lib/python3.10/site-packages/joblib/_parallel_backends.py\", line 208, in apply_async\n",
      "    result = ImmediateResult(func)\n",
      "  File \"/home/saivinil_pratap/miniconda3/envs/mle-dev/lib/python3.10/site-packages/joblib/_parallel_backends.py\", line 572, in __init__\n",
      "    self.results = batch()\n",
      "  File \"/home/saivinil_pratap/miniconda3/envs/mle-dev/lib/python3.10/site-packages/joblib/parallel.py\", line 262, in __call__\n",
      "    return [func(*args, **kwargs)\n",
      "  File \"/home/saivinil_pratap/miniconda3/envs/mle-dev/lib/python3.10/site-packages/joblib/parallel.py\", line 262, in <listcomp>\n",
      "    return [func(*args, **kwargs)\n",
      "  File \"/home/saivinil_pratap/miniconda3/envs/mle-dev/lib/python3.10/site-packages/sklearn/utils/fixes.py\", line 211, in __call__\n",
      "    return self.function(*args, **kwargs)\n",
      "  File \"/home/saivinil_pratap/miniconda3/envs/mle-dev/lib/python3.10/site-packages/sklearn/pipeline.py\", line 876, in _transform_one\n",
      "    res = transformer.transform(X)\n",
      "  File \"/home/saivinil_pratap/miniconda3/envs/mle-dev/lib/python3.10/site-packages/sklearn/preprocessing/_encoders.py\", line 509, in transform\n",
      "    X_int, X_mask = self._transform(\n",
      "  File \"/home/saivinil_pratap/miniconda3/envs/mle-dev/lib/python3.10/site-packages/sklearn/preprocessing/_encoders.py\", line 142, in _transform\n",
      "    raise ValueError(msg)\n",
      "ValueError: Found unknown categories ['ISLAND'] in column 0 during transform\n",
      "\n",
      "  warnings.warn(\n"
     ]
    },
    {
     "name": "stdout",
     "output_type": "stream",
     "text": [
      "[CV] END feature_selection__k=6, preparation__num__imputer__strategy=most_frequent; total time=   8.2s\n",
      "[CV] END feature_selection__k=6, preparation__num__imputer__strategy=most_frequent; total time=  10.4s\n",
      "[CV] END feature_selection__k=6, preparation__num__imputer__strategy=most_frequent; total time=  10.6s\n",
      "[CV] END feature_selection__k=6, preparation__num__imputer__strategy=most_frequent; total time=  10.5s\n",
      "[CV] END feature_selection__k=6, preparation__num__imputer__strategy=most_frequent; total time=  10.6s\n"
     ]
    },
    {
     "name": "stderr",
     "output_type": "stream",
     "text": [
      "/home/saivinil_pratap/miniconda3/envs/mle-dev/lib/python3.10/site-packages/sklearn/model_selection/_validation.py:771: UserWarning: Scoring failed. The score on this train-test partition for these parameters will be set to nan. Details: \n",
      "Traceback (most recent call last):\n",
      "  File \"/home/saivinil_pratap/miniconda3/envs/mle-dev/lib/python3.10/site-packages/sklearn/model_selection/_validation.py\", line 762, in _score\n",
      "    scores = scorer(estimator, X_test, y_test)\n",
      "  File \"/home/saivinil_pratap/miniconda3/envs/mle-dev/lib/python3.10/site-packages/sklearn/metrics/_scorer.py\", line 216, in __call__\n",
      "    return self._score(\n",
      "  File \"/home/saivinil_pratap/miniconda3/envs/mle-dev/lib/python3.10/site-packages/sklearn/metrics/_scorer.py\", line 258, in _score\n",
      "    y_pred = method_caller(estimator, \"predict\", X)\n",
      "  File \"/home/saivinil_pratap/miniconda3/envs/mle-dev/lib/python3.10/site-packages/sklearn/metrics/_scorer.py\", line 68, in _cached_call\n",
      "    return getattr(estimator, method)(*args, **kwargs)\n",
      "  File \"/home/saivinil_pratap/miniconda3/envs/mle-dev/lib/python3.10/site-packages/sklearn/utils/metaestimators.py\", line 113, in <lambda>\n",
      "    out = lambda *args, **kwargs: self.fn(obj, *args, **kwargs)  # noqa\n",
      "  File \"/home/saivinil_pratap/miniconda3/envs/mle-dev/lib/python3.10/site-packages/sklearn/pipeline.py\", line 469, in predict\n",
      "    Xt = transform.transform(Xt)\n",
      "  File \"/home/saivinil_pratap/miniconda3/envs/mle-dev/lib/python3.10/site-packages/sklearn/compose/_column_transformer.py\", line 748, in transform\n",
      "    Xs = self._fit_transform(\n",
      "  File \"/home/saivinil_pratap/miniconda3/envs/mle-dev/lib/python3.10/site-packages/sklearn/compose/_column_transformer.py\", line 606, in _fit_transform\n",
      "    return Parallel(n_jobs=self.n_jobs)(\n",
      "  File \"/home/saivinil_pratap/miniconda3/envs/mle-dev/lib/python3.10/site-packages/joblib/parallel.py\", line 1046, in __call__\n",
      "    while self.dispatch_one_batch(iterator):\n",
      "  File \"/home/saivinil_pratap/miniconda3/envs/mle-dev/lib/python3.10/site-packages/joblib/parallel.py\", line 861, in dispatch_one_batch\n",
      "    self._dispatch(tasks)\n",
      "  File \"/home/saivinil_pratap/miniconda3/envs/mle-dev/lib/python3.10/site-packages/joblib/parallel.py\", line 779, in _dispatch\n",
      "    job = self._backend.apply_async(batch, callback=cb)\n",
      "  File \"/home/saivinil_pratap/miniconda3/envs/mle-dev/lib/python3.10/site-packages/joblib/_parallel_backends.py\", line 208, in apply_async\n",
      "    result = ImmediateResult(func)\n",
      "  File \"/home/saivinil_pratap/miniconda3/envs/mle-dev/lib/python3.10/site-packages/joblib/_parallel_backends.py\", line 572, in __init__\n",
      "    self.results = batch()\n",
      "  File \"/home/saivinil_pratap/miniconda3/envs/mle-dev/lib/python3.10/site-packages/joblib/parallel.py\", line 262, in __call__\n",
      "    return [func(*args, **kwargs)\n",
      "  File \"/home/saivinil_pratap/miniconda3/envs/mle-dev/lib/python3.10/site-packages/joblib/parallel.py\", line 262, in <listcomp>\n",
      "    return [func(*args, **kwargs)\n",
      "  File \"/home/saivinil_pratap/miniconda3/envs/mle-dev/lib/python3.10/site-packages/sklearn/utils/fixes.py\", line 211, in __call__\n",
      "    return self.function(*args, **kwargs)\n",
      "  File \"/home/saivinil_pratap/miniconda3/envs/mle-dev/lib/python3.10/site-packages/sklearn/pipeline.py\", line 876, in _transform_one\n",
      "    res = transformer.transform(X)\n",
      "  File \"/home/saivinil_pratap/miniconda3/envs/mle-dev/lib/python3.10/site-packages/sklearn/preprocessing/_encoders.py\", line 509, in transform\n",
      "    X_int, X_mask = self._transform(\n",
      "  File \"/home/saivinil_pratap/miniconda3/envs/mle-dev/lib/python3.10/site-packages/sklearn/preprocessing/_encoders.py\", line 142, in _transform\n",
      "    raise ValueError(msg)\n",
      "ValueError: Found unknown categories ['ISLAND'] in column 0 during transform\n",
      "\n",
      "  warnings.warn(\n"
     ]
    },
    {
     "name": "stdout",
     "output_type": "stream",
     "text": [
      "[CV] END feature_selection__k=7, preparation__num__imputer__strategy=mean; total time=   8.6s\n",
      "[CV] END feature_selection__k=7, preparation__num__imputer__strategy=mean; total time=  10.8s\n",
      "[CV] END feature_selection__k=7, preparation__num__imputer__strategy=mean; total time=  10.9s\n",
      "[CV] END feature_selection__k=7, preparation__num__imputer__strategy=mean; total time=  10.8s\n",
      "[CV] END feature_selection__k=7, preparation__num__imputer__strategy=mean; total time=  11.6s\n"
     ]
    },
    {
     "name": "stderr",
     "output_type": "stream",
     "text": [
      "/home/saivinil_pratap/miniconda3/envs/mle-dev/lib/python3.10/site-packages/sklearn/model_selection/_validation.py:771: UserWarning: Scoring failed. The score on this train-test partition for these parameters will be set to nan. Details: \n",
      "Traceback (most recent call last):\n",
      "  File \"/home/saivinil_pratap/miniconda3/envs/mle-dev/lib/python3.10/site-packages/sklearn/model_selection/_validation.py\", line 762, in _score\n",
      "    scores = scorer(estimator, X_test, y_test)\n",
      "  File \"/home/saivinil_pratap/miniconda3/envs/mle-dev/lib/python3.10/site-packages/sklearn/metrics/_scorer.py\", line 216, in __call__\n",
      "    return self._score(\n",
      "  File \"/home/saivinil_pratap/miniconda3/envs/mle-dev/lib/python3.10/site-packages/sklearn/metrics/_scorer.py\", line 258, in _score\n",
      "    y_pred = method_caller(estimator, \"predict\", X)\n",
      "  File \"/home/saivinil_pratap/miniconda3/envs/mle-dev/lib/python3.10/site-packages/sklearn/metrics/_scorer.py\", line 68, in _cached_call\n",
      "    return getattr(estimator, method)(*args, **kwargs)\n",
      "  File \"/home/saivinil_pratap/miniconda3/envs/mle-dev/lib/python3.10/site-packages/sklearn/utils/metaestimators.py\", line 113, in <lambda>\n",
      "    out = lambda *args, **kwargs: self.fn(obj, *args, **kwargs)  # noqa\n",
      "  File \"/home/saivinil_pratap/miniconda3/envs/mle-dev/lib/python3.10/site-packages/sklearn/pipeline.py\", line 469, in predict\n",
      "    Xt = transform.transform(Xt)\n",
      "  File \"/home/saivinil_pratap/miniconda3/envs/mle-dev/lib/python3.10/site-packages/sklearn/compose/_column_transformer.py\", line 748, in transform\n",
      "    Xs = self._fit_transform(\n",
      "  File \"/home/saivinil_pratap/miniconda3/envs/mle-dev/lib/python3.10/site-packages/sklearn/compose/_column_transformer.py\", line 606, in _fit_transform\n",
      "    return Parallel(n_jobs=self.n_jobs)(\n",
      "  File \"/home/saivinil_pratap/miniconda3/envs/mle-dev/lib/python3.10/site-packages/joblib/parallel.py\", line 1046, in __call__\n",
      "    while self.dispatch_one_batch(iterator):\n",
      "  File \"/home/saivinil_pratap/miniconda3/envs/mle-dev/lib/python3.10/site-packages/joblib/parallel.py\", line 861, in dispatch_one_batch\n",
      "    self._dispatch(tasks)\n",
      "  File \"/home/saivinil_pratap/miniconda3/envs/mle-dev/lib/python3.10/site-packages/joblib/parallel.py\", line 779, in _dispatch\n",
      "    job = self._backend.apply_async(batch, callback=cb)\n",
      "  File \"/home/saivinil_pratap/miniconda3/envs/mle-dev/lib/python3.10/site-packages/joblib/_parallel_backends.py\", line 208, in apply_async\n",
      "    result = ImmediateResult(func)\n",
      "  File \"/home/saivinil_pratap/miniconda3/envs/mle-dev/lib/python3.10/site-packages/joblib/_parallel_backends.py\", line 572, in __init__\n",
      "    self.results = batch()\n",
      "  File \"/home/saivinil_pratap/miniconda3/envs/mle-dev/lib/python3.10/site-packages/joblib/parallel.py\", line 262, in __call__\n",
      "    return [func(*args, **kwargs)\n",
      "  File \"/home/saivinil_pratap/miniconda3/envs/mle-dev/lib/python3.10/site-packages/joblib/parallel.py\", line 262, in <listcomp>\n",
      "    return [func(*args, **kwargs)\n",
      "  File \"/home/saivinil_pratap/miniconda3/envs/mle-dev/lib/python3.10/site-packages/sklearn/utils/fixes.py\", line 211, in __call__\n",
      "    return self.function(*args, **kwargs)\n",
      "  File \"/home/saivinil_pratap/miniconda3/envs/mle-dev/lib/python3.10/site-packages/sklearn/pipeline.py\", line 876, in _transform_one\n",
      "    res = transformer.transform(X)\n",
      "  File \"/home/saivinil_pratap/miniconda3/envs/mle-dev/lib/python3.10/site-packages/sklearn/preprocessing/_encoders.py\", line 509, in transform\n",
      "    X_int, X_mask = self._transform(\n",
      "  File \"/home/saivinil_pratap/miniconda3/envs/mle-dev/lib/python3.10/site-packages/sklearn/preprocessing/_encoders.py\", line 142, in _transform\n",
      "    raise ValueError(msg)\n",
      "ValueError: Found unknown categories ['ISLAND'] in column 0 during transform\n",
      "\n",
      "  warnings.warn(\n"
     ]
    },
    {
     "name": "stdout",
     "output_type": "stream",
     "text": [
      "[CV] END feature_selection__k=7, preparation__num__imputer__strategy=median; total time=   8.6s\n",
      "[CV] END feature_selection__k=7, preparation__num__imputer__strategy=median; total time=  11.3s\n",
      "[CV] END feature_selection__k=7, preparation__num__imputer__strategy=median; total time=  11.0s\n",
      "[CV] END feature_selection__k=7, preparation__num__imputer__strategy=median; total time=  10.9s\n",
      "[CV] END feature_selection__k=7, preparation__num__imputer__strategy=median; total time=  11.0s\n"
     ]
    },
    {
     "name": "stderr",
     "output_type": "stream",
     "text": [
      "/home/saivinil_pratap/miniconda3/envs/mle-dev/lib/python3.10/site-packages/sklearn/model_selection/_validation.py:771: UserWarning: Scoring failed. The score on this train-test partition for these parameters will be set to nan. Details: \n",
      "Traceback (most recent call last):\n",
      "  File \"/home/saivinil_pratap/miniconda3/envs/mle-dev/lib/python3.10/site-packages/sklearn/model_selection/_validation.py\", line 762, in _score\n",
      "    scores = scorer(estimator, X_test, y_test)\n",
      "  File \"/home/saivinil_pratap/miniconda3/envs/mle-dev/lib/python3.10/site-packages/sklearn/metrics/_scorer.py\", line 216, in __call__\n",
      "    return self._score(\n",
      "  File \"/home/saivinil_pratap/miniconda3/envs/mle-dev/lib/python3.10/site-packages/sklearn/metrics/_scorer.py\", line 258, in _score\n",
      "    y_pred = method_caller(estimator, \"predict\", X)\n",
      "  File \"/home/saivinil_pratap/miniconda3/envs/mle-dev/lib/python3.10/site-packages/sklearn/metrics/_scorer.py\", line 68, in _cached_call\n",
      "    return getattr(estimator, method)(*args, **kwargs)\n",
      "  File \"/home/saivinil_pratap/miniconda3/envs/mle-dev/lib/python3.10/site-packages/sklearn/utils/metaestimators.py\", line 113, in <lambda>\n",
      "    out = lambda *args, **kwargs: self.fn(obj, *args, **kwargs)  # noqa\n",
      "  File \"/home/saivinil_pratap/miniconda3/envs/mle-dev/lib/python3.10/site-packages/sklearn/pipeline.py\", line 469, in predict\n",
      "    Xt = transform.transform(Xt)\n",
      "  File \"/home/saivinil_pratap/miniconda3/envs/mle-dev/lib/python3.10/site-packages/sklearn/compose/_column_transformer.py\", line 748, in transform\n",
      "    Xs = self._fit_transform(\n",
      "  File \"/home/saivinil_pratap/miniconda3/envs/mle-dev/lib/python3.10/site-packages/sklearn/compose/_column_transformer.py\", line 606, in _fit_transform\n",
      "    return Parallel(n_jobs=self.n_jobs)(\n",
      "  File \"/home/saivinil_pratap/miniconda3/envs/mle-dev/lib/python3.10/site-packages/joblib/parallel.py\", line 1046, in __call__\n",
      "    while self.dispatch_one_batch(iterator):\n",
      "  File \"/home/saivinil_pratap/miniconda3/envs/mle-dev/lib/python3.10/site-packages/joblib/parallel.py\", line 861, in dispatch_one_batch\n",
      "    self._dispatch(tasks)\n",
      "  File \"/home/saivinil_pratap/miniconda3/envs/mle-dev/lib/python3.10/site-packages/joblib/parallel.py\", line 779, in _dispatch\n",
      "    job = self._backend.apply_async(batch, callback=cb)\n",
      "  File \"/home/saivinil_pratap/miniconda3/envs/mle-dev/lib/python3.10/site-packages/joblib/_parallel_backends.py\", line 208, in apply_async\n",
      "    result = ImmediateResult(func)\n",
      "  File \"/home/saivinil_pratap/miniconda3/envs/mle-dev/lib/python3.10/site-packages/joblib/_parallel_backends.py\", line 572, in __init__\n",
      "    self.results = batch()\n",
      "  File \"/home/saivinil_pratap/miniconda3/envs/mle-dev/lib/python3.10/site-packages/joblib/parallel.py\", line 262, in __call__\n",
      "    return [func(*args, **kwargs)\n",
      "  File \"/home/saivinil_pratap/miniconda3/envs/mle-dev/lib/python3.10/site-packages/joblib/parallel.py\", line 262, in <listcomp>\n",
      "    return [func(*args, **kwargs)\n",
      "  File \"/home/saivinil_pratap/miniconda3/envs/mle-dev/lib/python3.10/site-packages/sklearn/utils/fixes.py\", line 211, in __call__\n",
      "    return self.function(*args, **kwargs)\n",
      "  File \"/home/saivinil_pratap/miniconda3/envs/mle-dev/lib/python3.10/site-packages/sklearn/pipeline.py\", line 876, in _transform_one\n",
      "    res = transformer.transform(X)\n",
      "  File \"/home/saivinil_pratap/miniconda3/envs/mle-dev/lib/python3.10/site-packages/sklearn/preprocessing/_encoders.py\", line 509, in transform\n",
      "    X_int, X_mask = self._transform(\n",
      "  File \"/home/saivinil_pratap/miniconda3/envs/mle-dev/lib/python3.10/site-packages/sklearn/preprocessing/_encoders.py\", line 142, in _transform\n",
      "    raise ValueError(msg)\n",
      "ValueError: Found unknown categories ['ISLAND'] in column 0 during transform\n",
      "\n",
      "  warnings.warn(\n"
     ]
    },
    {
     "name": "stdout",
     "output_type": "stream",
     "text": [
      "[CV] END feature_selection__k=7, preparation__num__imputer__strategy=most_frequent; total time=   9.3s\n",
      "[CV] END feature_selection__k=7, preparation__num__imputer__strategy=most_frequent; total time=  11.5s\n",
      "[CV] END feature_selection__k=7, preparation__num__imputer__strategy=most_frequent; total time=  10.3s\n",
      "[CV] END feature_selection__k=7, preparation__num__imputer__strategy=most_frequent; total time=  10.4s\n",
      "[CV] END feature_selection__k=7, preparation__num__imputer__strategy=most_frequent; total time=  10.8s\n"
     ]
    },
    {
     "name": "stderr",
     "output_type": "stream",
     "text": [
      "/home/saivinil_pratap/miniconda3/envs/mle-dev/lib/python3.10/site-packages/sklearn/model_selection/_validation.py:771: UserWarning: Scoring failed. The score on this train-test partition for these parameters will be set to nan. Details: \n",
      "Traceback (most recent call last):\n",
      "  File \"/home/saivinil_pratap/miniconda3/envs/mle-dev/lib/python3.10/site-packages/sklearn/model_selection/_validation.py\", line 762, in _score\n",
      "    scores = scorer(estimator, X_test, y_test)\n",
      "  File \"/home/saivinil_pratap/miniconda3/envs/mle-dev/lib/python3.10/site-packages/sklearn/metrics/_scorer.py\", line 216, in __call__\n",
      "    return self._score(\n",
      "  File \"/home/saivinil_pratap/miniconda3/envs/mle-dev/lib/python3.10/site-packages/sklearn/metrics/_scorer.py\", line 258, in _score\n",
      "    y_pred = method_caller(estimator, \"predict\", X)\n",
      "  File \"/home/saivinil_pratap/miniconda3/envs/mle-dev/lib/python3.10/site-packages/sklearn/metrics/_scorer.py\", line 68, in _cached_call\n",
      "    return getattr(estimator, method)(*args, **kwargs)\n",
      "  File \"/home/saivinil_pratap/miniconda3/envs/mle-dev/lib/python3.10/site-packages/sklearn/utils/metaestimators.py\", line 113, in <lambda>\n",
      "    out = lambda *args, **kwargs: self.fn(obj, *args, **kwargs)  # noqa\n",
      "  File \"/home/saivinil_pratap/miniconda3/envs/mle-dev/lib/python3.10/site-packages/sklearn/pipeline.py\", line 469, in predict\n",
      "    Xt = transform.transform(Xt)\n",
      "  File \"/home/saivinil_pratap/miniconda3/envs/mle-dev/lib/python3.10/site-packages/sklearn/compose/_column_transformer.py\", line 748, in transform\n",
      "    Xs = self._fit_transform(\n",
      "  File \"/home/saivinil_pratap/miniconda3/envs/mle-dev/lib/python3.10/site-packages/sklearn/compose/_column_transformer.py\", line 606, in _fit_transform\n",
      "    return Parallel(n_jobs=self.n_jobs)(\n",
      "  File \"/home/saivinil_pratap/miniconda3/envs/mle-dev/lib/python3.10/site-packages/joblib/parallel.py\", line 1046, in __call__\n",
      "    while self.dispatch_one_batch(iterator):\n",
      "  File \"/home/saivinil_pratap/miniconda3/envs/mle-dev/lib/python3.10/site-packages/joblib/parallel.py\", line 861, in dispatch_one_batch\n",
      "    self._dispatch(tasks)\n",
      "  File \"/home/saivinil_pratap/miniconda3/envs/mle-dev/lib/python3.10/site-packages/joblib/parallel.py\", line 779, in _dispatch\n",
      "    job = self._backend.apply_async(batch, callback=cb)\n",
      "  File \"/home/saivinil_pratap/miniconda3/envs/mle-dev/lib/python3.10/site-packages/joblib/_parallel_backends.py\", line 208, in apply_async\n",
      "    result = ImmediateResult(func)\n",
      "  File \"/home/saivinil_pratap/miniconda3/envs/mle-dev/lib/python3.10/site-packages/joblib/_parallel_backends.py\", line 572, in __init__\n",
      "    self.results = batch()\n",
      "  File \"/home/saivinil_pratap/miniconda3/envs/mle-dev/lib/python3.10/site-packages/joblib/parallel.py\", line 262, in __call__\n",
      "    return [func(*args, **kwargs)\n",
      "  File \"/home/saivinil_pratap/miniconda3/envs/mle-dev/lib/python3.10/site-packages/joblib/parallel.py\", line 262, in <listcomp>\n",
      "    return [func(*args, **kwargs)\n",
      "  File \"/home/saivinil_pratap/miniconda3/envs/mle-dev/lib/python3.10/site-packages/sklearn/utils/fixes.py\", line 211, in __call__\n",
      "    return self.function(*args, **kwargs)\n",
      "  File \"/home/saivinil_pratap/miniconda3/envs/mle-dev/lib/python3.10/site-packages/sklearn/pipeline.py\", line 876, in _transform_one\n",
      "    res = transformer.transform(X)\n",
      "  File \"/home/saivinil_pratap/miniconda3/envs/mle-dev/lib/python3.10/site-packages/sklearn/preprocessing/_encoders.py\", line 509, in transform\n",
      "    X_int, X_mask = self._transform(\n",
      "  File \"/home/saivinil_pratap/miniconda3/envs/mle-dev/lib/python3.10/site-packages/sklearn/preprocessing/_encoders.py\", line 142, in _transform\n",
      "    raise ValueError(msg)\n",
      "ValueError: Found unknown categories ['ISLAND'] in column 0 during transform\n",
      "\n",
      "  warnings.warn(\n"
     ]
    },
    {
     "name": "stdout",
     "output_type": "stream",
     "text": [
      "[CV] END feature_selection__k=8, preparation__num__imputer__strategy=mean; total time=  11.7s\n",
      "[CV] END feature_selection__k=8, preparation__num__imputer__strategy=mean; total time=  11.8s\n",
      "[CV] END feature_selection__k=8, preparation__num__imputer__strategy=mean; total time=  12.0s\n",
      "[CV] END feature_selection__k=8, preparation__num__imputer__strategy=mean; total time=  12.9s\n",
      "[CV] END feature_selection__k=8, preparation__num__imputer__strategy=mean; total time=  12.5s\n"
     ]
    },
    {
     "name": "stderr",
     "output_type": "stream",
     "text": [
      "/home/saivinil_pratap/miniconda3/envs/mle-dev/lib/python3.10/site-packages/sklearn/model_selection/_validation.py:771: UserWarning: Scoring failed. The score on this train-test partition for these parameters will be set to nan. Details: \n",
      "Traceback (most recent call last):\n",
      "  File \"/home/saivinil_pratap/miniconda3/envs/mle-dev/lib/python3.10/site-packages/sklearn/model_selection/_validation.py\", line 762, in _score\n",
      "    scores = scorer(estimator, X_test, y_test)\n",
      "  File \"/home/saivinil_pratap/miniconda3/envs/mle-dev/lib/python3.10/site-packages/sklearn/metrics/_scorer.py\", line 216, in __call__\n",
      "    return self._score(\n",
      "  File \"/home/saivinil_pratap/miniconda3/envs/mle-dev/lib/python3.10/site-packages/sklearn/metrics/_scorer.py\", line 258, in _score\n",
      "    y_pred = method_caller(estimator, \"predict\", X)\n",
      "  File \"/home/saivinil_pratap/miniconda3/envs/mle-dev/lib/python3.10/site-packages/sklearn/metrics/_scorer.py\", line 68, in _cached_call\n",
      "    return getattr(estimator, method)(*args, **kwargs)\n",
      "  File \"/home/saivinil_pratap/miniconda3/envs/mle-dev/lib/python3.10/site-packages/sklearn/utils/metaestimators.py\", line 113, in <lambda>\n",
      "    out = lambda *args, **kwargs: self.fn(obj, *args, **kwargs)  # noqa\n",
      "  File \"/home/saivinil_pratap/miniconda3/envs/mle-dev/lib/python3.10/site-packages/sklearn/pipeline.py\", line 469, in predict\n",
      "    Xt = transform.transform(Xt)\n",
      "  File \"/home/saivinil_pratap/miniconda3/envs/mle-dev/lib/python3.10/site-packages/sklearn/compose/_column_transformer.py\", line 748, in transform\n",
      "    Xs = self._fit_transform(\n",
      "  File \"/home/saivinil_pratap/miniconda3/envs/mle-dev/lib/python3.10/site-packages/sklearn/compose/_column_transformer.py\", line 606, in _fit_transform\n",
      "    return Parallel(n_jobs=self.n_jobs)(\n",
      "  File \"/home/saivinil_pratap/miniconda3/envs/mle-dev/lib/python3.10/site-packages/joblib/parallel.py\", line 1046, in __call__\n",
      "    while self.dispatch_one_batch(iterator):\n",
      "  File \"/home/saivinil_pratap/miniconda3/envs/mle-dev/lib/python3.10/site-packages/joblib/parallel.py\", line 861, in dispatch_one_batch\n",
      "    self._dispatch(tasks)\n",
      "  File \"/home/saivinil_pratap/miniconda3/envs/mle-dev/lib/python3.10/site-packages/joblib/parallel.py\", line 779, in _dispatch\n",
      "    job = self._backend.apply_async(batch, callback=cb)\n",
      "  File \"/home/saivinil_pratap/miniconda3/envs/mle-dev/lib/python3.10/site-packages/joblib/_parallel_backends.py\", line 208, in apply_async\n",
      "    result = ImmediateResult(func)\n",
      "  File \"/home/saivinil_pratap/miniconda3/envs/mle-dev/lib/python3.10/site-packages/joblib/_parallel_backends.py\", line 572, in __init__\n",
      "    self.results = batch()\n",
      "  File \"/home/saivinil_pratap/miniconda3/envs/mle-dev/lib/python3.10/site-packages/joblib/parallel.py\", line 262, in __call__\n",
      "    return [func(*args, **kwargs)\n",
      "  File \"/home/saivinil_pratap/miniconda3/envs/mle-dev/lib/python3.10/site-packages/joblib/parallel.py\", line 262, in <listcomp>\n",
      "    return [func(*args, **kwargs)\n",
      "  File \"/home/saivinil_pratap/miniconda3/envs/mle-dev/lib/python3.10/site-packages/sklearn/utils/fixes.py\", line 211, in __call__\n",
      "    return self.function(*args, **kwargs)\n",
      "  File \"/home/saivinil_pratap/miniconda3/envs/mle-dev/lib/python3.10/site-packages/sklearn/pipeline.py\", line 876, in _transform_one\n",
      "    res = transformer.transform(X)\n",
      "  File \"/home/saivinil_pratap/miniconda3/envs/mle-dev/lib/python3.10/site-packages/sklearn/preprocessing/_encoders.py\", line 509, in transform\n",
      "    X_int, X_mask = self._transform(\n",
      "  File \"/home/saivinil_pratap/miniconda3/envs/mle-dev/lib/python3.10/site-packages/sklearn/preprocessing/_encoders.py\", line 142, in _transform\n",
      "    raise ValueError(msg)\n",
      "ValueError: Found unknown categories ['ISLAND'] in column 0 during transform\n",
      "\n",
      "  warnings.warn(\n"
     ]
    },
    {
     "name": "stdout",
     "output_type": "stream",
     "text": [
      "[CV] END feature_selection__k=8, preparation__num__imputer__strategy=median; total time=  10.5s\n",
      "[CV] END feature_selection__k=8, preparation__num__imputer__strategy=median; total time=  11.4s\n",
      "[CV] END feature_selection__k=8, preparation__num__imputer__strategy=median; total time=  12.1s\n",
      "[CV] END feature_selection__k=8, preparation__num__imputer__strategy=median; total time=  12.1s\n",
      "[CV] END feature_selection__k=8, preparation__num__imputer__strategy=median; total time=  12.4s\n"
     ]
    },
    {
     "name": "stderr",
     "output_type": "stream",
     "text": [
      "/home/saivinil_pratap/miniconda3/envs/mle-dev/lib/python3.10/site-packages/sklearn/model_selection/_validation.py:771: UserWarning: Scoring failed. The score on this train-test partition for these parameters will be set to nan. Details: \n",
      "Traceback (most recent call last):\n",
      "  File \"/home/saivinil_pratap/miniconda3/envs/mle-dev/lib/python3.10/site-packages/sklearn/model_selection/_validation.py\", line 762, in _score\n",
      "    scores = scorer(estimator, X_test, y_test)\n",
      "  File \"/home/saivinil_pratap/miniconda3/envs/mle-dev/lib/python3.10/site-packages/sklearn/metrics/_scorer.py\", line 216, in __call__\n",
      "    return self._score(\n",
      "  File \"/home/saivinil_pratap/miniconda3/envs/mle-dev/lib/python3.10/site-packages/sklearn/metrics/_scorer.py\", line 258, in _score\n",
      "    y_pred = method_caller(estimator, \"predict\", X)\n",
      "  File \"/home/saivinil_pratap/miniconda3/envs/mle-dev/lib/python3.10/site-packages/sklearn/metrics/_scorer.py\", line 68, in _cached_call\n",
      "    return getattr(estimator, method)(*args, **kwargs)\n",
      "  File \"/home/saivinil_pratap/miniconda3/envs/mle-dev/lib/python3.10/site-packages/sklearn/utils/metaestimators.py\", line 113, in <lambda>\n",
      "    out = lambda *args, **kwargs: self.fn(obj, *args, **kwargs)  # noqa\n",
      "  File \"/home/saivinil_pratap/miniconda3/envs/mle-dev/lib/python3.10/site-packages/sklearn/pipeline.py\", line 469, in predict\n",
      "    Xt = transform.transform(Xt)\n",
      "  File \"/home/saivinil_pratap/miniconda3/envs/mle-dev/lib/python3.10/site-packages/sklearn/compose/_column_transformer.py\", line 748, in transform\n",
      "    Xs = self._fit_transform(\n",
      "  File \"/home/saivinil_pratap/miniconda3/envs/mle-dev/lib/python3.10/site-packages/sklearn/compose/_column_transformer.py\", line 606, in _fit_transform\n",
      "    return Parallel(n_jobs=self.n_jobs)(\n",
      "  File \"/home/saivinil_pratap/miniconda3/envs/mle-dev/lib/python3.10/site-packages/joblib/parallel.py\", line 1046, in __call__\n",
      "    while self.dispatch_one_batch(iterator):\n",
      "  File \"/home/saivinil_pratap/miniconda3/envs/mle-dev/lib/python3.10/site-packages/joblib/parallel.py\", line 861, in dispatch_one_batch\n",
      "    self._dispatch(tasks)\n",
      "  File \"/home/saivinil_pratap/miniconda3/envs/mle-dev/lib/python3.10/site-packages/joblib/parallel.py\", line 779, in _dispatch\n",
      "    job = self._backend.apply_async(batch, callback=cb)\n",
      "  File \"/home/saivinil_pratap/miniconda3/envs/mle-dev/lib/python3.10/site-packages/joblib/_parallel_backends.py\", line 208, in apply_async\n",
      "    result = ImmediateResult(func)\n",
      "  File \"/home/saivinil_pratap/miniconda3/envs/mle-dev/lib/python3.10/site-packages/joblib/_parallel_backends.py\", line 572, in __init__\n",
      "    self.results = batch()\n",
      "  File \"/home/saivinil_pratap/miniconda3/envs/mle-dev/lib/python3.10/site-packages/joblib/parallel.py\", line 262, in __call__\n",
      "    return [func(*args, **kwargs)\n",
      "  File \"/home/saivinil_pratap/miniconda3/envs/mle-dev/lib/python3.10/site-packages/joblib/parallel.py\", line 262, in <listcomp>\n",
      "    return [func(*args, **kwargs)\n",
      "  File \"/home/saivinil_pratap/miniconda3/envs/mle-dev/lib/python3.10/site-packages/sklearn/utils/fixes.py\", line 211, in __call__\n",
      "    return self.function(*args, **kwargs)\n",
      "  File \"/home/saivinil_pratap/miniconda3/envs/mle-dev/lib/python3.10/site-packages/sklearn/pipeline.py\", line 876, in _transform_one\n",
      "    res = transformer.transform(X)\n",
      "  File \"/home/saivinil_pratap/miniconda3/envs/mle-dev/lib/python3.10/site-packages/sklearn/preprocessing/_encoders.py\", line 509, in transform\n",
      "    X_int, X_mask = self._transform(\n",
      "  File \"/home/saivinil_pratap/miniconda3/envs/mle-dev/lib/python3.10/site-packages/sklearn/preprocessing/_encoders.py\", line 142, in _transform\n",
      "    raise ValueError(msg)\n",
      "ValueError: Found unknown categories ['ISLAND'] in column 0 during transform\n",
      "\n",
      "  warnings.warn(\n"
     ]
    },
    {
     "name": "stdout",
     "output_type": "stream",
     "text": [
      "[CV] END feature_selection__k=8, preparation__num__imputer__strategy=most_frequent; total time=   9.9s\n",
      "[CV] END feature_selection__k=8, preparation__num__imputer__strategy=most_frequent; total time=  12.1s\n",
      "[CV] END feature_selection__k=8, preparation__num__imputer__strategy=most_frequent; total time=  11.9s\n",
      "[CV] END feature_selection__k=8, preparation__num__imputer__strategy=most_frequent; total time=  13.1s\n",
      "[CV] END feature_selection__k=8, preparation__num__imputer__strategy=most_frequent; total time=  12.2s\n"
     ]
    },
    {
     "name": "stderr",
     "output_type": "stream",
     "text": [
      "/home/saivinil_pratap/miniconda3/envs/mle-dev/lib/python3.10/site-packages/sklearn/model_selection/_validation.py:771: UserWarning: Scoring failed. The score on this train-test partition for these parameters will be set to nan. Details: \n",
      "Traceback (most recent call last):\n",
      "  File \"/home/saivinil_pratap/miniconda3/envs/mle-dev/lib/python3.10/site-packages/sklearn/model_selection/_validation.py\", line 762, in _score\n",
      "    scores = scorer(estimator, X_test, y_test)\n",
      "  File \"/home/saivinil_pratap/miniconda3/envs/mle-dev/lib/python3.10/site-packages/sklearn/metrics/_scorer.py\", line 216, in __call__\n",
      "    return self._score(\n",
      "  File \"/home/saivinil_pratap/miniconda3/envs/mle-dev/lib/python3.10/site-packages/sklearn/metrics/_scorer.py\", line 258, in _score\n",
      "    y_pred = method_caller(estimator, \"predict\", X)\n",
      "  File \"/home/saivinil_pratap/miniconda3/envs/mle-dev/lib/python3.10/site-packages/sklearn/metrics/_scorer.py\", line 68, in _cached_call\n",
      "    return getattr(estimator, method)(*args, **kwargs)\n",
      "  File \"/home/saivinil_pratap/miniconda3/envs/mle-dev/lib/python3.10/site-packages/sklearn/utils/metaestimators.py\", line 113, in <lambda>\n",
      "    out = lambda *args, **kwargs: self.fn(obj, *args, **kwargs)  # noqa\n",
      "  File \"/home/saivinil_pratap/miniconda3/envs/mle-dev/lib/python3.10/site-packages/sklearn/pipeline.py\", line 469, in predict\n",
      "    Xt = transform.transform(Xt)\n",
      "  File \"/home/saivinil_pratap/miniconda3/envs/mle-dev/lib/python3.10/site-packages/sklearn/compose/_column_transformer.py\", line 748, in transform\n",
      "    Xs = self._fit_transform(\n",
      "  File \"/home/saivinil_pratap/miniconda3/envs/mle-dev/lib/python3.10/site-packages/sklearn/compose/_column_transformer.py\", line 606, in _fit_transform\n",
      "    return Parallel(n_jobs=self.n_jobs)(\n",
      "  File \"/home/saivinil_pratap/miniconda3/envs/mle-dev/lib/python3.10/site-packages/joblib/parallel.py\", line 1046, in __call__\n",
      "    while self.dispatch_one_batch(iterator):\n",
      "  File \"/home/saivinil_pratap/miniconda3/envs/mle-dev/lib/python3.10/site-packages/joblib/parallel.py\", line 861, in dispatch_one_batch\n",
      "    self._dispatch(tasks)\n",
      "  File \"/home/saivinil_pratap/miniconda3/envs/mle-dev/lib/python3.10/site-packages/joblib/parallel.py\", line 779, in _dispatch\n",
      "    job = self._backend.apply_async(batch, callback=cb)\n",
      "  File \"/home/saivinil_pratap/miniconda3/envs/mle-dev/lib/python3.10/site-packages/joblib/_parallel_backends.py\", line 208, in apply_async\n",
      "    result = ImmediateResult(func)\n",
      "  File \"/home/saivinil_pratap/miniconda3/envs/mle-dev/lib/python3.10/site-packages/joblib/_parallel_backends.py\", line 572, in __init__\n",
      "    self.results = batch()\n",
      "  File \"/home/saivinil_pratap/miniconda3/envs/mle-dev/lib/python3.10/site-packages/joblib/parallel.py\", line 262, in __call__\n",
      "    return [func(*args, **kwargs)\n",
      "  File \"/home/saivinil_pratap/miniconda3/envs/mle-dev/lib/python3.10/site-packages/joblib/parallel.py\", line 262, in <listcomp>\n",
      "    return [func(*args, **kwargs)\n",
      "  File \"/home/saivinil_pratap/miniconda3/envs/mle-dev/lib/python3.10/site-packages/sklearn/utils/fixes.py\", line 211, in __call__\n",
      "    return self.function(*args, **kwargs)\n",
      "  File \"/home/saivinil_pratap/miniconda3/envs/mle-dev/lib/python3.10/site-packages/sklearn/pipeline.py\", line 876, in _transform_one\n",
      "    res = transformer.transform(X)\n",
      "  File \"/home/saivinil_pratap/miniconda3/envs/mle-dev/lib/python3.10/site-packages/sklearn/preprocessing/_encoders.py\", line 509, in transform\n",
      "    X_int, X_mask = self._transform(\n",
      "  File \"/home/saivinil_pratap/miniconda3/envs/mle-dev/lib/python3.10/site-packages/sklearn/preprocessing/_encoders.py\", line 142, in _transform\n",
      "    raise ValueError(msg)\n",
      "ValueError: Found unknown categories ['ISLAND'] in column 0 during transform\n",
      "\n",
      "  warnings.warn(\n"
     ]
    },
    {
     "name": "stdout",
     "output_type": "stream",
     "text": [
      "[CV] END feature_selection__k=9, preparation__num__imputer__strategy=mean; total time=  13.8s\n",
      "[CV] END feature_selection__k=9, preparation__num__imputer__strategy=mean; total time=  15.7s\n",
      "[CV] END feature_selection__k=9, preparation__num__imputer__strategy=mean; total time=  13.8s\n",
      "[CV] END feature_selection__k=9, preparation__num__imputer__strategy=mean; total time=  14.4s\n",
      "[CV] END feature_selection__k=9, preparation__num__imputer__strategy=mean; total time=  15.9s\n"
     ]
    },
    {
     "name": "stderr",
     "output_type": "stream",
     "text": [
      "/home/saivinil_pratap/miniconda3/envs/mle-dev/lib/python3.10/site-packages/sklearn/model_selection/_validation.py:771: UserWarning: Scoring failed. The score on this train-test partition for these parameters will be set to nan. Details: \n",
      "Traceback (most recent call last):\n",
      "  File \"/home/saivinil_pratap/miniconda3/envs/mle-dev/lib/python3.10/site-packages/sklearn/model_selection/_validation.py\", line 762, in _score\n",
      "    scores = scorer(estimator, X_test, y_test)\n",
      "  File \"/home/saivinil_pratap/miniconda3/envs/mle-dev/lib/python3.10/site-packages/sklearn/metrics/_scorer.py\", line 216, in __call__\n",
      "    return self._score(\n",
      "  File \"/home/saivinil_pratap/miniconda3/envs/mle-dev/lib/python3.10/site-packages/sklearn/metrics/_scorer.py\", line 258, in _score\n",
      "    y_pred = method_caller(estimator, \"predict\", X)\n",
      "  File \"/home/saivinil_pratap/miniconda3/envs/mle-dev/lib/python3.10/site-packages/sklearn/metrics/_scorer.py\", line 68, in _cached_call\n",
      "    return getattr(estimator, method)(*args, **kwargs)\n",
      "  File \"/home/saivinil_pratap/miniconda3/envs/mle-dev/lib/python3.10/site-packages/sklearn/utils/metaestimators.py\", line 113, in <lambda>\n",
      "    out = lambda *args, **kwargs: self.fn(obj, *args, **kwargs)  # noqa\n",
      "  File \"/home/saivinil_pratap/miniconda3/envs/mle-dev/lib/python3.10/site-packages/sklearn/pipeline.py\", line 469, in predict\n",
      "    Xt = transform.transform(Xt)\n",
      "  File \"/home/saivinil_pratap/miniconda3/envs/mle-dev/lib/python3.10/site-packages/sklearn/compose/_column_transformer.py\", line 748, in transform\n",
      "    Xs = self._fit_transform(\n",
      "  File \"/home/saivinil_pratap/miniconda3/envs/mle-dev/lib/python3.10/site-packages/sklearn/compose/_column_transformer.py\", line 606, in _fit_transform\n",
      "    return Parallel(n_jobs=self.n_jobs)(\n",
      "  File \"/home/saivinil_pratap/miniconda3/envs/mle-dev/lib/python3.10/site-packages/joblib/parallel.py\", line 1046, in __call__\n",
      "    while self.dispatch_one_batch(iterator):\n",
      "  File \"/home/saivinil_pratap/miniconda3/envs/mle-dev/lib/python3.10/site-packages/joblib/parallel.py\", line 861, in dispatch_one_batch\n",
      "    self._dispatch(tasks)\n",
      "  File \"/home/saivinil_pratap/miniconda3/envs/mle-dev/lib/python3.10/site-packages/joblib/parallel.py\", line 779, in _dispatch\n",
      "    job = self._backend.apply_async(batch, callback=cb)\n",
      "  File \"/home/saivinil_pratap/miniconda3/envs/mle-dev/lib/python3.10/site-packages/joblib/_parallel_backends.py\", line 208, in apply_async\n",
      "    result = ImmediateResult(func)\n",
      "  File \"/home/saivinil_pratap/miniconda3/envs/mle-dev/lib/python3.10/site-packages/joblib/_parallel_backends.py\", line 572, in __init__\n",
      "    self.results = batch()\n",
      "  File \"/home/saivinil_pratap/miniconda3/envs/mle-dev/lib/python3.10/site-packages/joblib/parallel.py\", line 262, in __call__\n",
      "    return [func(*args, **kwargs)\n",
      "  File \"/home/saivinil_pratap/miniconda3/envs/mle-dev/lib/python3.10/site-packages/joblib/parallel.py\", line 262, in <listcomp>\n",
      "    return [func(*args, **kwargs)\n",
      "  File \"/home/saivinil_pratap/miniconda3/envs/mle-dev/lib/python3.10/site-packages/sklearn/utils/fixes.py\", line 211, in __call__\n",
      "    return self.function(*args, **kwargs)\n",
      "  File \"/home/saivinil_pratap/miniconda3/envs/mle-dev/lib/python3.10/site-packages/sklearn/pipeline.py\", line 876, in _transform_one\n",
      "    res = transformer.transform(X)\n",
      "  File \"/home/saivinil_pratap/miniconda3/envs/mle-dev/lib/python3.10/site-packages/sklearn/preprocessing/_encoders.py\", line 509, in transform\n",
      "    X_int, X_mask = self._transform(\n",
      "  File \"/home/saivinil_pratap/miniconda3/envs/mle-dev/lib/python3.10/site-packages/sklearn/preprocessing/_encoders.py\", line 142, in _transform\n",
      "    raise ValueError(msg)\n",
      "ValueError: Found unknown categories ['ISLAND'] in column 0 during transform\n",
      "\n",
      "  warnings.warn(\n"
     ]
    },
    {
     "name": "stdout",
     "output_type": "stream",
     "text": [
      "[CV] END feature_selection__k=9, preparation__num__imputer__strategy=median; total time=  12.2s\n",
      "[CV] END feature_selection__k=9, preparation__num__imputer__strategy=median; total time=  17.3s\n",
      "[CV] END feature_selection__k=9, preparation__num__imputer__strategy=median; total time=  15.0s\n",
      "[CV] END feature_selection__k=9, preparation__num__imputer__strategy=median; total time=  16.3s\n",
      "[CV] END feature_selection__k=9, preparation__num__imputer__strategy=median; total time=  17.7s\n"
     ]
    },
    {
     "name": "stderr",
     "output_type": "stream",
     "text": [
      "/home/saivinil_pratap/miniconda3/envs/mle-dev/lib/python3.10/site-packages/sklearn/model_selection/_validation.py:771: UserWarning: Scoring failed. The score on this train-test partition for these parameters will be set to nan. Details: \n",
      "Traceback (most recent call last):\n",
      "  File \"/home/saivinil_pratap/miniconda3/envs/mle-dev/lib/python3.10/site-packages/sklearn/model_selection/_validation.py\", line 762, in _score\n",
      "    scores = scorer(estimator, X_test, y_test)\n",
      "  File \"/home/saivinil_pratap/miniconda3/envs/mle-dev/lib/python3.10/site-packages/sklearn/metrics/_scorer.py\", line 216, in __call__\n",
      "    return self._score(\n",
      "  File \"/home/saivinil_pratap/miniconda3/envs/mle-dev/lib/python3.10/site-packages/sklearn/metrics/_scorer.py\", line 258, in _score\n",
      "    y_pred = method_caller(estimator, \"predict\", X)\n",
      "  File \"/home/saivinil_pratap/miniconda3/envs/mle-dev/lib/python3.10/site-packages/sklearn/metrics/_scorer.py\", line 68, in _cached_call\n",
      "    return getattr(estimator, method)(*args, **kwargs)\n",
      "  File \"/home/saivinil_pratap/miniconda3/envs/mle-dev/lib/python3.10/site-packages/sklearn/utils/metaestimators.py\", line 113, in <lambda>\n",
      "    out = lambda *args, **kwargs: self.fn(obj, *args, **kwargs)  # noqa\n",
      "  File \"/home/saivinil_pratap/miniconda3/envs/mle-dev/lib/python3.10/site-packages/sklearn/pipeline.py\", line 469, in predict\n",
      "    Xt = transform.transform(Xt)\n",
      "  File \"/home/saivinil_pratap/miniconda3/envs/mle-dev/lib/python3.10/site-packages/sklearn/compose/_column_transformer.py\", line 748, in transform\n",
      "    Xs = self._fit_transform(\n",
      "  File \"/home/saivinil_pratap/miniconda3/envs/mle-dev/lib/python3.10/site-packages/sklearn/compose/_column_transformer.py\", line 606, in _fit_transform\n",
      "    return Parallel(n_jobs=self.n_jobs)(\n",
      "  File \"/home/saivinil_pratap/miniconda3/envs/mle-dev/lib/python3.10/site-packages/joblib/parallel.py\", line 1046, in __call__\n",
      "    while self.dispatch_one_batch(iterator):\n",
      "  File \"/home/saivinil_pratap/miniconda3/envs/mle-dev/lib/python3.10/site-packages/joblib/parallel.py\", line 861, in dispatch_one_batch\n",
      "    self._dispatch(tasks)\n",
      "  File \"/home/saivinil_pratap/miniconda3/envs/mle-dev/lib/python3.10/site-packages/joblib/parallel.py\", line 779, in _dispatch\n",
      "    job = self._backend.apply_async(batch, callback=cb)\n",
      "  File \"/home/saivinil_pratap/miniconda3/envs/mle-dev/lib/python3.10/site-packages/joblib/_parallel_backends.py\", line 208, in apply_async\n",
      "    result = ImmediateResult(func)\n",
      "  File \"/home/saivinil_pratap/miniconda3/envs/mle-dev/lib/python3.10/site-packages/joblib/_parallel_backends.py\", line 572, in __init__\n",
      "    self.results = batch()\n",
      "  File \"/home/saivinil_pratap/miniconda3/envs/mle-dev/lib/python3.10/site-packages/joblib/parallel.py\", line 262, in __call__\n",
      "    return [func(*args, **kwargs)\n",
      "  File \"/home/saivinil_pratap/miniconda3/envs/mle-dev/lib/python3.10/site-packages/joblib/parallel.py\", line 262, in <listcomp>\n",
      "    return [func(*args, **kwargs)\n",
      "  File \"/home/saivinil_pratap/miniconda3/envs/mle-dev/lib/python3.10/site-packages/sklearn/utils/fixes.py\", line 211, in __call__\n",
      "    return self.function(*args, **kwargs)\n",
      "  File \"/home/saivinil_pratap/miniconda3/envs/mle-dev/lib/python3.10/site-packages/sklearn/pipeline.py\", line 876, in _transform_one\n",
      "    res = transformer.transform(X)\n",
      "  File \"/home/saivinil_pratap/miniconda3/envs/mle-dev/lib/python3.10/site-packages/sklearn/preprocessing/_encoders.py\", line 509, in transform\n",
      "    X_int, X_mask = self._transform(\n",
      "  File \"/home/saivinil_pratap/miniconda3/envs/mle-dev/lib/python3.10/site-packages/sklearn/preprocessing/_encoders.py\", line 142, in _transform\n",
      "    raise ValueError(msg)\n",
      "ValueError: Found unknown categories ['ISLAND'] in column 0 during transform\n",
      "\n",
      "  warnings.warn(\n"
     ]
    },
    {
     "name": "stdout",
     "output_type": "stream",
     "text": [
      "[CV] END feature_selection__k=9, preparation__num__imputer__strategy=most_frequent; total time=  14.0s\n",
      "[CV] END feature_selection__k=9, preparation__num__imputer__strategy=most_frequent; total time=  17.2s\n",
      "[CV] END feature_selection__k=9, preparation__num__imputer__strategy=most_frequent; total time=  16.2s\n",
      "[CV] END feature_selection__k=9, preparation__num__imputer__strategy=most_frequent; total time=  14.8s\n",
      "[CV] END feature_selection__k=9, preparation__num__imputer__strategy=most_frequent; total time=  16.5s\n"
     ]
    },
    {
     "name": "stderr",
     "output_type": "stream",
     "text": [
      "/home/saivinil_pratap/miniconda3/envs/mle-dev/lib/python3.10/site-packages/sklearn/model_selection/_validation.py:771: UserWarning: Scoring failed. The score on this train-test partition for these parameters will be set to nan. Details: \n",
      "Traceback (most recent call last):\n",
      "  File \"/home/saivinil_pratap/miniconda3/envs/mle-dev/lib/python3.10/site-packages/sklearn/model_selection/_validation.py\", line 762, in _score\n",
      "    scores = scorer(estimator, X_test, y_test)\n",
      "  File \"/home/saivinil_pratap/miniconda3/envs/mle-dev/lib/python3.10/site-packages/sklearn/metrics/_scorer.py\", line 216, in __call__\n",
      "    return self._score(\n",
      "  File \"/home/saivinil_pratap/miniconda3/envs/mle-dev/lib/python3.10/site-packages/sklearn/metrics/_scorer.py\", line 258, in _score\n",
      "    y_pred = method_caller(estimator, \"predict\", X)\n",
      "  File \"/home/saivinil_pratap/miniconda3/envs/mle-dev/lib/python3.10/site-packages/sklearn/metrics/_scorer.py\", line 68, in _cached_call\n",
      "    return getattr(estimator, method)(*args, **kwargs)\n",
      "  File \"/home/saivinil_pratap/miniconda3/envs/mle-dev/lib/python3.10/site-packages/sklearn/utils/metaestimators.py\", line 113, in <lambda>\n",
      "    out = lambda *args, **kwargs: self.fn(obj, *args, **kwargs)  # noqa\n",
      "  File \"/home/saivinil_pratap/miniconda3/envs/mle-dev/lib/python3.10/site-packages/sklearn/pipeline.py\", line 469, in predict\n",
      "    Xt = transform.transform(Xt)\n",
      "  File \"/home/saivinil_pratap/miniconda3/envs/mle-dev/lib/python3.10/site-packages/sklearn/compose/_column_transformer.py\", line 748, in transform\n",
      "    Xs = self._fit_transform(\n",
      "  File \"/home/saivinil_pratap/miniconda3/envs/mle-dev/lib/python3.10/site-packages/sklearn/compose/_column_transformer.py\", line 606, in _fit_transform\n",
      "    return Parallel(n_jobs=self.n_jobs)(\n",
      "  File \"/home/saivinil_pratap/miniconda3/envs/mle-dev/lib/python3.10/site-packages/joblib/parallel.py\", line 1046, in __call__\n",
      "    while self.dispatch_one_batch(iterator):\n",
      "  File \"/home/saivinil_pratap/miniconda3/envs/mle-dev/lib/python3.10/site-packages/joblib/parallel.py\", line 861, in dispatch_one_batch\n",
      "    self._dispatch(tasks)\n",
      "  File \"/home/saivinil_pratap/miniconda3/envs/mle-dev/lib/python3.10/site-packages/joblib/parallel.py\", line 779, in _dispatch\n",
      "    job = self._backend.apply_async(batch, callback=cb)\n",
      "  File \"/home/saivinil_pratap/miniconda3/envs/mle-dev/lib/python3.10/site-packages/joblib/_parallel_backends.py\", line 208, in apply_async\n",
      "    result = ImmediateResult(func)\n",
      "  File \"/home/saivinil_pratap/miniconda3/envs/mle-dev/lib/python3.10/site-packages/joblib/_parallel_backends.py\", line 572, in __init__\n",
      "    self.results = batch()\n",
      "  File \"/home/saivinil_pratap/miniconda3/envs/mle-dev/lib/python3.10/site-packages/joblib/parallel.py\", line 262, in __call__\n",
      "    return [func(*args, **kwargs)\n",
      "  File \"/home/saivinil_pratap/miniconda3/envs/mle-dev/lib/python3.10/site-packages/joblib/parallel.py\", line 262, in <listcomp>\n",
      "    return [func(*args, **kwargs)\n",
      "  File \"/home/saivinil_pratap/miniconda3/envs/mle-dev/lib/python3.10/site-packages/sklearn/utils/fixes.py\", line 211, in __call__\n",
      "    return self.function(*args, **kwargs)\n",
      "  File \"/home/saivinil_pratap/miniconda3/envs/mle-dev/lib/python3.10/site-packages/sklearn/pipeline.py\", line 876, in _transform_one\n",
      "    res = transformer.transform(X)\n",
      "  File \"/home/saivinil_pratap/miniconda3/envs/mle-dev/lib/python3.10/site-packages/sklearn/preprocessing/_encoders.py\", line 509, in transform\n",
      "    X_int, X_mask = self._transform(\n",
      "  File \"/home/saivinil_pratap/miniconda3/envs/mle-dev/lib/python3.10/site-packages/sklearn/preprocessing/_encoders.py\", line 142, in _transform\n",
      "    raise ValueError(msg)\n",
      "ValueError: Found unknown categories ['ISLAND'] in column 0 during transform\n",
      "\n",
      "  warnings.warn(\n"
     ]
    },
    {
     "name": "stdout",
     "output_type": "stream",
     "text": [
      "[CV] END feature_selection__k=10, preparation__num__imputer__strategy=mean; total time=  14.2s\n",
      "[CV] END feature_selection__k=10, preparation__num__imputer__strategy=mean; total time=  14.9s\n",
      "[CV] END feature_selection__k=10, preparation__num__imputer__strategy=mean; total time=  13.1s\n",
      "[CV] END feature_selection__k=10, preparation__num__imputer__strategy=mean; total time=  14.4s\n",
      "[CV] END feature_selection__k=10, preparation__num__imputer__strategy=mean; total time=10.3min\n"
     ]
    },
    {
     "name": "stderr",
     "output_type": "stream",
     "text": [
      "/home/saivinil_pratap/miniconda3/envs/mle-dev/lib/python3.10/site-packages/sklearn/model_selection/_validation.py:771: UserWarning: Scoring failed. The score on this train-test partition for these parameters will be set to nan. Details: \n",
      "Traceback (most recent call last):\n",
      "  File \"/home/saivinil_pratap/miniconda3/envs/mle-dev/lib/python3.10/site-packages/sklearn/model_selection/_validation.py\", line 762, in _score\n",
      "    scores = scorer(estimator, X_test, y_test)\n",
      "  File \"/home/saivinil_pratap/miniconda3/envs/mle-dev/lib/python3.10/site-packages/sklearn/metrics/_scorer.py\", line 216, in __call__\n",
      "    return self._score(\n",
      "  File \"/home/saivinil_pratap/miniconda3/envs/mle-dev/lib/python3.10/site-packages/sklearn/metrics/_scorer.py\", line 258, in _score\n",
      "    y_pred = method_caller(estimator, \"predict\", X)\n",
      "  File \"/home/saivinil_pratap/miniconda3/envs/mle-dev/lib/python3.10/site-packages/sklearn/metrics/_scorer.py\", line 68, in _cached_call\n",
      "    return getattr(estimator, method)(*args, **kwargs)\n",
      "  File \"/home/saivinil_pratap/miniconda3/envs/mle-dev/lib/python3.10/site-packages/sklearn/utils/metaestimators.py\", line 113, in <lambda>\n",
      "    out = lambda *args, **kwargs: self.fn(obj, *args, **kwargs)  # noqa\n",
      "  File \"/home/saivinil_pratap/miniconda3/envs/mle-dev/lib/python3.10/site-packages/sklearn/pipeline.py\", line 469, in predict\n",
      "    Xt = transform.transform(Xt)\n",
      "  File \"/home/saivinil_pratap/miniconda3/envs/mle-dev/lib/python3.10/site-packages/sklearn/compose/_column_transformer.py\", line 748, in transform\n",
      "    Xs = self._fit_transform(\n",
      "  File \"/home/saivinil_pratap/miniconda3/envs/mle-dev/lib/python3.10/site-packages/sklearn/compose/_column_transformer.py\", line 606, in _fit_transform\n",
      "    return Parallel(n_jobs=self.n_jobs)(\n",
      "  File \"/home/saivinil_pratap/miniconda3/envs/mle-dev/lib/python3.10/site-packages/joblib/parallel.py\", line 1046, in __call__\n",
      "    while self.dispatch_one_batch(iterator):\n",
      "  File \"/home/saivinil_pratap/miniconda3/envs/mle-dev/lib/python3.10/site-packages/joblib/parallel.py\", line 861, in dispatch_one_batch\n",
      "    self._dispatch(tasks)\n",
      "  File \"/home/saivinil_pratap/miniconda3/envs/mle-dev/lib/python3.10/site-packages/joblib/parallel.py\", line 779, in _dispatch\n",
      "    job = self._backend.apply_async(batch, callback=cb)\n",
      "  File \"/home/saivinil_pratap/miniconda3/envs/mle-dev/lib/python3.10/site-packages/joblib/_parallel_backends.py\", line 208, in apply_async\n",
      "    result = ImmediateResult(func)\n",
      "  File \"/home/saivinil_pratap/miniconda3/envs/mle-dev/lib/python3.10/site-packages/joblib/_parallel_backends.py\", line 572, in __init__\n",
      "    self.results = batch()\n",
      "  File \"/home/saivinil_pratap/miniconda3/envs/mle-dev/lib/python3.10/site-packages/joblib/parallel.py\", line 262, in __call__\n",
      "    return [func(*args, **kwargs)\n",
      "  File \"/home/saivinil_pratap/miniconda3/envs/mle-dev/lib/python3.10/site-packages/joblib/parallel.py\", line 262, in <listcomp>\n",
      "    return [func(*args, **kwargs)\n",
      "  File \"/home/saivinil_pratap/miniconda3/envs/mle-dev/lib/python3.10/site-packages/sklearn/utils/fixes.py\", line 211, in __call__\n",
      "    return self.function(*args, **kwargs)\n",
      "  File \"/home/saivinil_pratap/miniconda3/envs/mle-dev/lib/python3.10/site-packages/sklearn/pipeline.py\", line 876, in _transform_one\n",
      "    res = transformer.transform(X)\n",
      "  File \"/home/saivinil_pratap/miniconda3/envs/mle-dev/lib/python3.10/site-packages/sklearn/preprocessing/_encoders.py\", line 509, in transform\n",
      "    X_int, X_mask = self._transform(\n",
      "  File \"/home/saivinil_pratap/miniconda3/envs/mle-dev/lib/python3.10/site-packages/sklearn/preprocessing/_encoders.py\", line 142, in _transform\n",
      "    raise ValueError(msg)\n",
      "ValueError: Found unknown categories ['ISLAND'] in column 0 during transform\n",
      "\n",
      "  warnings.warn(\n"
     ]
    },
    {
     "name": "stdout",
     "output_type": "stream",
     "text": [
      "[CV] END feature_selection__k=10, preparation__num__imputer__strategy=median; total time=  15.5s\n",
      "[CV] END feature_selection__k=10, preparation__num__imputer__strategy=median; total time=  16.3s\n",
      "[CV] END feature_selection__k=10, preparation__num__imputer__strategy=median; total time=  14.7s\n",
      "[CV] END feature_selection__k=10, preparation__num__imputer__strategy=median; total time=  16.9s\n",
      "[CV] END feature_selection__k=10, preparation__num__imputer__strategy=median; total time=  15.1s\n"
     ]
    },
    {
     "name": "stderr",
     "output_type": "stream",
     "text": [
      "/home/saivinil_pratap/miniconda3/envs/mle-dev/lib/python3.10/site-packages/sklearn/model_selection/_validation.py:771: UserWarning: Scoring failed. The score on this train-test partition for these parameters will be set to nan. Details: \n",
      "Traceback (most recent call last):\n",
      "  File \"/home/saivinil_pratap/miniconda3/envs/mle-dev/lib/python3.10/site-packages/sklearn/model_selection/_validation.py\", line 762, in _score\n",
      "    scores = scorer(estimator, X_test, y_test)\n",
      "  File \"/home/saivinil_pratap/miniconda3/envs/mle-dev/lib/python3.10/site-packages/sklearn/metrics/_scorer.py\", line 216, in __call__\n",
      "    return self._score(\n",
      "  File \"/home/saivinil_pratap/miniconda3/envs/mle-dev/lib/python3.10/site-packages/sklearn/metrics/_scorer.py\", line 258, in _score\n",
      "    y_pred = method_caller(estimator, \"predict\", X)\n",
      "  File \"/home/saivinil_pratap/miniconda3/envs/mle-dev/lib/python3.10/site-packages/sklearn/metrics/_scorer.py\", line 68, in _cached_call\n",
      "    return getattr(estimator, method)(*args, **kwargs)\n",
      "  File \"/home/saivinil_pratap/miniconda3/envs/mle-dev/lib/python3.10/site-packages/sklearn/utils/metaestimators.py\", line 113, in <lambda>\n",
      "    out = lambda *args, **kwargs: self.fn(obj, *args, **kwargs)  # noqa\n",
      "  File \"/home/saivinil_pratap/miniconda3/envs/mle-dev/lib/python3.10/site-packages/sklearn/pipeline.py\", line 469, in predict\n",
      "    Xt = transform.transform(Xt)\n",
      "  File \"/home/saivinil_pratap/miniconda3/envs/mle-dev/lib/python3.10/site-packages/sklearn/compose/_column_transformer.py\", line 748, in transform\n",
      "    Xs = self._fit_transform(\n",
      "  File \"/home/saivinil_pratap/miniconda3/envs/mle-dev/lib/python3.10/site-packages/sklearn/compose/_column_transformer.py\", line 606, in _fit_transform\n",
      "    return Parallel(n_jobs=self.n_jobs)(\n",
      "  File \"/home/saivinil_pratap/miniconda3/envs/mle-dev/lib/python3.10/site-packages/joblib/parallel.py\", line 1046, in __call__\n",
      "    while self.dispatch_one_batch(iterator):\n",
      "  File \"/home/saivinil_pratap/miniconda3/envs/mle-dev/lib/python3.10/site-packages/joblib/parallel.py\", line 861, in dispatch_one_batch\n",
      "    self._dispatch(tasks)\n",
      "  File \"/home/saivinil_pratap/miniconda3/envs/mle-dev/lib/python3.10/site-packages/joblib/parallel.py\", line 779, in _dispatch\n",
      "    job = self._backend.apply_async(batch, callback=cb)\n",
      "  File \"/home/saivinil_pratap/miniconda3/envs/mle-dev/lib/python3.10/site-packages/joblib/_parallel_backends.py\", line 208, in apply_async\n",
      "    result = ImmediateResult(func)\n",
      "  File \"/home/saivinil_pratap/miniconda3/envs/mle-dev/lib/python3.10/site-packages/joblib/_parallel_backends.py\", line 572, in __init__\n",
      "    self.results = batch()\n",
      "  File \"/home/saivinil_pratap/miniconda3/envs/mle-dev/lib/python3.10/site-packages/joblib/parallel.py\", line 262, in __call__\n",
      "    return [func(*args, **kwargs)\n",
      "  File \"/home/saivinil_pratap/miniconda3/envs/mle-dev/lib/python3.10/site-packages/joblib/parallel.py\", line 262, in <listcomp>\n",
      "    return [func(*args, **kwargs)\n",
      "  File \"/home/saivinil_pratap/miniconda3/envs/mle-dev/lib/python3.10/site-packages/sklearn/utils/fixes.py\", line 211, in __call__\n",
      "    return self.function(*args, **kwargs)\n",
      "  File \"/home/saivinil_pratap/miniconda3/envs/mle-dev/lib/python3.10/site-packages/sklearn/pipeline.py\", line 876, in _transform_one\n",
      "    res = transformer.transform(X)\n",
      "  File \"/home/saivinil_pratap/miniconda3/envs/mle-dev/lib/python3.10/site-packages/sklearn/preprocessing/_encoders.py\", line 509, in transform\n",
      "    X_int, X_mask = self._transform(\n",
      "  File \"/home/saivinil_pratap/miniconda3/envs/mle-dev/lib/python3.10/site-packages/sklearn/preprocessing/_encoders.py\", line 142, in _transform\n",
      "    raise ValueError(msg)\n",
      "ValueError: Found unknown categories ['ISLAND'] in column 0 during transform\n",
      "\n",
      "  warnings.warn(\n"
     ]
    },
    {
     "name": "stdout",
     "output_type": "stream",
     "text": [
      "[CV] END feature_selection__k=10, preparation__num__imputer__strategy=most_frequent; total time=  16.2s\n",
      "[CV] END feature_selection__k=10, preparation__num__imputer__strategy=most_frequent; total time=  16.8s\n",
      "[CV] END feature_selection__k=10, preparation__num__imputer__strategy=most_frequent; total time=  15.5s\n",
      "[CV] END feature_selection__k=10, preparation__num__imputer__strategy=most_frequent; total time=  16.5s\n",
      "[CV] END feature_selection__k=10, preparation__num__imputer__strategy=most_frequent; total time=  17.2s\n"
     ]
    },
    {
     "name": "stderr",
     "output_type": "stream",
     "text": [
      "/home/saivinil_pratap/miniconda3/envs/mle-dev/lib/python3.10/site-packages/sklearn/model_selection/_validation.py:771: UserWarning: Scoring failed. The score on this train-test partition for these parameters will be set to nan. Details: \n",
      "Traceback (most recent call last):\n",
      "  File \"/home/saivinil_pratap/miniconda3/envs/mle-dev/lib/python3.10/site-packages/sklearn/model_selection/_validation.py\", line 762, in _score\n",
      "    scores = scorer(estimator, X_test, y_test)\n",
      "  File \"/home/saivinil_pratap/miniconda3/envs/mle-dev/lib/python3.10/site-packages/sklearn/metrics/_scorer.py\", line 216, in __call__\n",
      "    return self._score(\n",
      "  File \"/home/saivinil_pratap/miniconda3/envs/mle-dev/lib/python3.10/site-packages/sklearn/metrics/_scorer.py\", line 258, in _score\n",
      "    y_pred = method_caller(estimator, \"predict\", X)\n",
      "  File \"/home/saivinil_pratap/miniconda3/envs/mle-dev/lib/python3.10/site-packages/sklearn/metrics/_scorer.py\", line 68, in _cached_call\n",
      "    return getattr(estimator, method)(*args, **kwargs)\n",
      "  File \"/home/saivinil_pratap/miniconda3/envs/mle-dev/lib/python3.10/site-packages/sklearn/utils/metaestimators.py\", line 113, in <lambda>\n",
      "    out = lambda *args, **kwargs: self.fn(obj, *args, **kwargs)  # noqa\n",
      "  File \"/home/saivinil_pratap/miniconda3/envs/mle-dev/lib/python3.10/site-packages/sklearn/pipeline.py\", line 469, in predict\n",
      "    Xt = transform.transform(Xt)\n",
      "  File \"/home/saivinil_pratap/miniconda3/envs/mle-dev/lib/python3.10/site-packages/sklearn/compose/_column_transformer.py\", line 748, in transform\n",
      "    Xs = self._fit_transform(\n",
      "  File \"/home/saivinil_pratap/miniconda3/envs/mle-dev/lib/python3.10/site-packages/sklearn/compose/_column_transformer.py\", line 606, in _fit_transform\n",
      "    return Parallel(n_jobs=self.n_jobs)(\n",
      "  File \"/home/saivinil_pratap/miniconda3/envs/mle-dev/lib/python3.10/site-packages/joblib/parallel.py\", line 1046, in __call__\n",
      "    while self.dispatch_one_batch(iterator):\n",
      "  File \"/home/saivinil_pratap/miniconda3/envs/mle-dev/lib/python3.10/site-packages/joblib/parallel.py\", line 861, in dispatch_one_batch\n",
      "    self._dispatch(tasks)\n",
      "  File \"/home/saivinil_pratap/miniconda3/envs/mle-dev/lib/python3.10/site-packages/joblib/parallel.py\", line 779, in _dispatch\n",
      "    job = self._backend.apply_async(batch, callback=cb)\n",
      "  File \"/home/saivinil_pratap/miniconda3/envs/mle-dev/lib/python3.10/site-packages/joblib/_parallel_backends.py\", line 208, in apply_async\n",
      "    result = ImmediateResult(func)\n",
      "  File \"/home/saivinil_pratap/miniconda3/envs/mle-dev/lib/python3.10/site-packages/joblib/_parallel_backends.py\", line 572, in __init__\n",
      "    self.results = batch()\n",
      "  File \"/home/saivinil_pratap/miniconda3/envs/mle-dev/lib/python3.10/site-packages/joblib/parallel.py\", line 262, in __call__\n",
      "    return [func(*args, **kwargs)\n",
      "  File \"/home/saivinil_pratap/miniconda3/envs/mle-dev/lib/python3.10/site-packages/joblib/parallel.py\", line 262, in <listcomp>\n",
      "    return [func(*args, **kwargs)\n",
      "  File \"/home/saivinil_pratap/miniconda3/envs/mle-dev/lib/python3.10/site-packages/sklearn/utils/fixes.py\", line 211, in __call__\n",
      "    return self.function(*args, **kwargs)\n",
      "  File \"/home/saivinil_pratap/miniconda3/envs/mle-dev/lib/python3.10/site-packages/sklearn/pipeline.py\", line 876, in _transform_one\n",
      "    res = transformer.transform(X)\n",
      "  File \"/home/saivinil_pratap/miniconda3/envs/mle-dev/lib/python3.10/site-packages/sklearn/preprocessing/_encoders.py\", line 509, in transform\n",
      "    X_int, X_mask = self._transform(\n",
      "  File \"/home/saivinil_pratap/miniconda3/envs/mle-dev/lib/python3.10/site-packages/sklearn/preprocessing/_encoders.py\", line 142, in _transform\n",
      "    raise ValueError(msg)\n",
      "ValueError: Found unknown categories ['ISLAND'] in column 0 during transform\n",
      "\n",
      "  warnings.warn(\n"
     ]
    },
    {
     "name": "stdout",
     "output_type": "stream",
     "text": [
      "[CV] END feature_selection__k=11, preparation__num__imputer__strategy=mean; total time=  13.1s\n",
      "[CV] END feature_selection__k=11, preparation__num__imputer__strategy=mean; total time=  17.5s\n",
      "[CV] END feature_selection__k=11, preparation__num__imputer__strategy=mean; total time=  18.9s\n",
      "[CV] END feature_selection__k=11, preparation__num__imputer__strategy=mean; total time=  19.3s\n",
      "[CV] END feature_selection__k=11, preparation__num__imputer__strategy=mean; total time=  16.1s\n"
     ]
    },
    {
     "name": "stderr",
     "output_type": "stream",
     "text": [
      "/home/saivinil_pratap/miniconda3/envs/mle-dev/lib/python3.10/site-packages/sklearn/model_selection/_validation.py:771: UserWarning: Scoring failed. The score on this train-test partition for these parameters will be set to nan. Details: \n",
      "Traceback (most recent call last):\n",
      "  File \"/home/saivinil_pratap/miniconda3/envs/mle-dev/lib/python3.10/site-packages/sklearn/model_selection/_validation.py\", line 762, in _score\n",
      "    scores = scorer(estimator, X_test, y_test)\n",
      "  File \"/home/saivinil_pratap/miniconda3/envs/mle-dev/lib/python3.10/site-packages/sklearn/metrics/_scorer.py\", line 216, in __call__\n",
      "    return self._score(\n",
      "  File \"/home/saivinil_pratap/miniconda3/envs/mle-dev/lib/python3.10/site-packages/sklearn/metrics/_scorer.py\", line 258, in _score\n",
      "    y_pred = method_caller(estimator, \"predict\", X)\n",
      "  File \"/home/saivinil_pratap/miniconda3/envs/mle-dev/lib/python3.10/site-packages/sklearn/metrics/_scorer.py\", line 68, in _cached_call\n",
      "    return getattr(estimator, method)(*args, **kwargs)\n",
      "  File \"/home/saivinil_pratap/miniconda3/envs/mle-dev/lib/python3.10/site-packages/sklearn/utils/metaestimators.py\", line 113, in <lambda>\n",
      "    out = lambda *args, **kwargs: self.fn(obj, *args, **kwargs)  # noqa\n",
      "  File \"/home/saivinil_pratap/miniconda3/envs/mle-dev/lib/python3.10/site-packages/sklearn/pipeline.py\", line 469, in predict\n",
      "    Xt = transform.transform(Xt)\n",
      "  File \"/home/saivinil_pratap/miniconda3/envs/mle-dev/lib/python3.10/site-packages/sklearn/compose/_column_transformer.py\", line 748, in transform\n",
      "    Xs = self._fit_transform(\n",
      "  File \"/home/saivinil_pratap/miniconda3/envs/mle-dev/lib/python3.10/site-packages/sklearn/compose/_column_transformer.py\", line 606, in _fit_transform\n",
      "    return Parallel(n_jobs=self.n_jobs)(\n",
      "  File \"/home/saivinil_pratap/miniconda3/envs/mle-dev/lib/python3.10/site-packages/joblib/parallel.py\", line 1046, in __call__\n",
      "    while self.dispatch_one_batch(iterator):\n",
      "  File \"/home/saivinil_pratap/miniconda3/envs/mle-dev/lib/python3.10/site-packages/joblib/parallel.py\", line 861, in dispatch_one_batch\n",
      "    self._dispatch(tasks)\n",
      "  File \"/home/saivinil_pratap/miniconda3/envs/mle-dev/lib/python3.10/site-packages/joblib/parallel.py\", line 779, in _dispatch\n",
      "    job = self._backend.apply_async(batch, callback=cb)\n",
      "  File \"/home/saivinil_pratap/miniconda3/envs/mle-dev/lib/python3.10/site-packages/joblib/_parallel_backends.py\", line 208, in apply_async\n",
      "    result = ImmediateResult(func)\n",
      "  File \"/home/saivinil_pratap/miniconda3/envs/mle-dev/lib/python3.10/site-packages/joblib/_parallel_backends.py\", line 572, in __init__\n",
      "    self.results = batch()\n",
      "  File \"/home/saivinil_pratap/miniconda3/envs/mle-dev/lib/python3.10/site-packages/joblib/parallel.py\", line 262, in __call__\n",
      "    return [func(*args, **kwargs)\n",
      "  File \"/home/saivinil_pratap/miniconda3/envs/mle-dev/lib/python3.10/site-packages/joblib/parallel.py\", line 262, in <listcomp>\n",
      "    return [func(*args, **kwargs)\n",
      "  File \"/home/saivinil_pratap/miniconda3/envs/mle-dev/lib/python3.10/site-packages/sklearn/utils/fixes.py\", line 211, in __call__\n",
      "    return self.function(*args, **kwargs)\n",
      "  File \"/home/saivinil_pratap/miniconda3/envs/mle-dev/lib/python3.10/site-packages/sklearn/pipeline.py\", line 876, in _transform_one\n",
      "    res = transformer.transform(X)\n",
      "  File \"/home/saivinil_pratap/miniconda3/envs/mle-dev/lib/python3.10/site-packages/sklearn/preprocessing/_encoders.py\", line 509, in transform\n",
      "    X_int, X_mask = self._transform(\n",
      "  File \"/home/saivinil_pratap/miniconda3/envs/mle-dev/lib/python3.10/site-packages/sklearn/preprocessing/_encoders.py\", line 142, in _transform\n",
      "    raise ValueError(msg)\n",
      "ValueError: Found unknown categories ['ISLAND'] in column 0 during transform\n",
      "\n",
      "  warnings.warn(\n"
     ]
    },
    {
     "name": "stdout",
     "output_type": "stream",
     "text": [
      "[CV] END feature_selection__k=11, preparation__num__imputer__strategy=median; total time=  13.2s\n",
      "[CV] END feature_selection__k=11, preparation__num__imputer__strategy=median; total time=  16.0s\n",
      "[CV] END feature_selection__k=11, preparation__num__imputer__strategy=median; total time=  15.4s\n",
      "[CV] END feature_selection__k=11, preparation__num__imputer__strategy=median; total time=  19.4s\n",
      "[CV] END feature_selection__k=11, preparation__num__imputer__strategy=median; total time=  17.6s\n"
     ]
    },
    {
     "name": "stderr",
     "output_type": "stream",
     "text": [
      "/home/saivinil_pratap/miniconda3/envs/mle-dev/lib/python3.10/site-packages/sklearn/model_selection/_validation.py:771: UserWarning: Scoring failed. The score on this train-test partition for these parameters will be set to nan. Details: \n",
      "Traceback (most recent call last):\n",
      "  File \"/home/saivinil_pratap/miniconda3/envs/mle-dev/lib/python3.10/site-packages/sklearn/model_selection/_validation.py\", line 762, in _score\n",
      "    scores = scorer(estimator, X_test, y_test)\n",
      "  File \"/home/saivinil_pratap/miniconda3/envs/mle-dev/lib/python3.10/site-packages/sklearn/metrics/_scorer.py\", line 216, in __call__\n",
      "    return self._score(\n",
      "  File \"/home/saivinil_pratap/miniconda3/envs/mle-dev/lib/python3.10/site-packages/sklearn/metrics/_scorer.py\", line 258, in _score\n",
      "    y_pred = method_caller(estimator, \"predict\", X)\n",
      "  File \"/home/saivinil_pratap/miniconda3/envs/mle-dev/lib/python3.10/site-packages/sklearn/metrics/_scorer.py\", line 68, in _cached_call\n",
      "    return getattr(estimator, method)(*args, **kwargs)\n",
      "  File \"/home/saivinil_pratap/miniconda3/envs/mle-dev/lib/python3.10/site-packages/sklearn/utils/metaestimators.py\", line 113, in <lambda>\n",
      "    out = lambda *args, **kwargs: self.fn(obj, *args, **kwargs)  # noqa\n",
      "  File \"/home/saivinil_pratap/miniconda3/envs/mle-dev/lib/python3.10/site-packages/sklearn/pipeline.py\", line 469, in predict\n",
      "    Xt = transform.transform(Xt)\n",
      "  File \"/home/saivinil_pratap/miniconda3/envs/mle-dev/lib/python3.10/site-packages/sklearn/compose/_column_transformer.py\", line 748, in transform\n",
      "    Xs = self._fit_transform(\n",
      "  File \"/home/saivinil_pratap/miniconda3/envs/mle-dev/lib/python3.10/site-packages/sklearn/compose/_column_transformer.py\", line 606, in _fit_transform\n",
      "    return Parallel(n_jobs=self.n_jobs)(\n",
      "  File \"/home/saivinil_pratap/miniconda3/envs/mle-dev/lib/python3.10/site-packages/joblib/parallel.py\", line 1046, in __call__\n",
      "    while self.dispatch_one_batch(iterator):\n",
      "  File \"/home/saivinil_pratap/miniconda3/envs/mle-dev/lib/python3.10/site-packages/joblib/parallel.py\", line 861, in dispatch_one_batch\n",
      "    self._dispatch(tasks)\n",
      "  File \"/home/saivinil_pratap/miniconda3/envs/mle-dev/lib/python3.10/site-packages/joblib/parallel.py\", line 779, in _dispatch\n",
      "    job = self._backend.apply_async(batch, callback=cb)\n",
      "  File \"/home/saivinil_pratap/miniconda3/envs/mle-dev/lib/python3.10/site-packages/joblib/_parallel_backends.py\", line 208, in apply_async\n",
      "    result = ImmediateResult(func)\n",
      "  File \"/home/saivinil_pratap/miniconda3/envs/mle-dev/lib/python3.10/site-packages/joblib/_parallel_backends.py\", line 572, in __init__\n",
      "    self.results = batch()\n",
      "  File \"/home/saivinil_pratap/miniconda3/envs/mle-dev/lib/python3.10/site-packages/joblib/parallel.py\", line 262, in __call__\n",
      "    return [func(*args, **kwargs)\n",
      "  File \"/home/saivinil_pratap/miniconda3/envs/mle-dev/lib/python3.10/site-packages/joblib/parallel.py\", line 262, in <listcomp>\n",
      "    return [func(*args, **kwargs)\n",
      "  File \"/home/saivinil_pratap/miniconda3/envs/mle-dev/lib/python3.10/site-packages/sklearn/utils/fixes.py\", line 211, in __call__\n",
      "    return self.function(*args, **kwargs)\n",
      "  File \"/home/saivinil_pratap/miniconda3/envs/mle-dev/lib/python3.10/site-packages/sklearn/pipeline.py\", line 876, in _transform_one\n",
      "    res = transformer.transform(X)\n",
      "  File \"/home/saivinil_pratap/miniconda3/envs/mle-dev/lib/python3.10/site-packages/sklearn/preprocessing/_encoders.py\", line 509, in transform\n",
      "    X_int, X_mask = self._transform(\n",
      "  File \"/home/saivinil_pratap/miniconda3/envs/mle-dev/lib/python3.10/site-packages/sklearn/preprocessing/_encoders.py\", line 142, in _transform\n",
      "    raise ValueError(msg)\n",
      "ValueError: Found unknown categories ['ISLAND'] in column 0 during transform\n",
      "\n",
      "  warnings.warn(\n"
     ]
    },
    {
     "name": "stdout",
     "output_type": "stream",
     "text": [
      "[CV] END feature_selection__k=11, preparation__num__imputer__strategy=most_frequent; total time=  21.5s\n",
      "[CV] END feature_selection__k=11, preparation__num__imputer__strategy=most_frequent; total time=  20.4s\n",
      "[CV] END feature_selection__k=11, preparation__num__imputer__strategy=most_frequent; total time=  19.7s\n",
      "[CV] END feature_selection__k=11, preparation__num__imputer__strategy=most_frequent; total time=  19.2s\n",
      "[CV] END feature_selection__k=11, preparation__num__imputer__strategy=most_frequent; total time=  17.3s\n"
     ]
    },
    {
     "name": "stderr",
     "output_type": "stream",
     "text": [
      "/home/saivinil_pratap/miniconda3/envs/mle-dev/lib/python3.10/site-packages/sklearn/model_selection/_validation.py:771: UserWarning: Scoring failed. The score on this train-test partition for these parameters will be set to nan. Details: \n",
      "Traceback (most recent call last):\n",
      "  File \"/home/saivinil_pratap/miniconda3/envs/mle-dev/lib/python3.10/site-packages/sklearn/model_selection/_validation.py\", line 762, in _score\n",
      "    scores = scorer(estimator, X_test, y_test)\n",
      "  File \"/home/saivinil_pratap/miniconda3/envs/mle-dev/lib/python3.10/site-packages/sklearn/metrics/_scorer.py\", line 216, in __call__\n",
      "    return self._score(\n",
      "  File \"/home/saivinil_pratap/miniconda3/envs/mle-dev/lib/python3.10/site-packages/sklearn/metrics/_scorer.py\", line 258, in _score\n",
      "    y_pred = method_caller(estimator, \"predict\", X)\n",
      "  File \"/home/saivinil_pratap/miniconda3/envs/mle-dev/lib/python3.10/site-packages/sklearn/metrics/_scorer.py\", line 68, in _cached_call\n",
      "    return getattr(estimator, method)(*args, **kwargs)\n",
      "  File \"/home/saivinil_pratap/miniconda3/envs/mle-dev/lib/python3.10/site-packages/sklearn/utils/metaestimators.py\", line 113, in <lambda>\n",
      "    out = lambda *args, **kwargs: self.fn(obj, *args, **kwargs)  # noqa\n",
      "  File \"/home/saivinil_pratap/miniconda3/envs/mle-dev/lib/python3.10/site-packages/sklearn/pipeline.py\", line 469, in predict\n",
      "    Xt = transform.transform(Xt)\n",
      "  File \"/home/saivinil_pratap/miniconda3/envs/mle-dev/lib/python3.10/site-packages/sklearn/compose/_column_transformer.py\", line 748, in transform\n",
      "    Xs = self._fit_transform(\n",
      "  File \"/home/saivinil_pratap/miniconda3/envs/mle-dev/lib/python3.10/site-packages/sklearn/compose/_column_transformer.py\", line 606, in _fit_transform\n",
      "    return Parallel(n_jobs=self.n_jobs)(\n",
      "  File \"/home/saivinil_pratap/miniconda3/envs/mle-dev/lib/python3.10/site-packages/joblib/parallel.py\", line 1046, in __call__\n",
      "    while self.dispatch_one_batch(iterator):\n",
      "  File \"/home/saivinil_pratap/miniconda3/envs/mle-dev/lib/python3.10/site-packages/joblib/parallel.py\", line 861, in dispatch_one_batch\n",
      "    self._dispatch(tasks)\n",
      "  File \"/home/saivinil_pratap/miniconda3/envs/mle-dev/lib/python3.10/site-packages/joblib/parallel.py\", line 779, in _dispatch\n",
      "    job = self._backend.apply_async(batch, callback=cb)\n",
      "  File \"/home/saivinil_pratap/miniconda3/envs/mle-dev/lib/python3.10/site-packages/joblib/_parallel_backends.py\", line 208, in apply_async\n",
      "    result = ImmediateResult(func)\n",
      "  File \"/home/saivinil_pratap/miniconda3/envs/mle-dev/lib/python3.10/site-packages/joblib/_parallel_backends.py\", line 572, in __init__\n",
      "    self.results = batch()\n",
      "  File \"/home/saivinil_pratap/miniconda3/envs/mle-dev/lib/python3.10/site-packages/joblib/parallel.py\", line 262, in __call__\n",
      "    return [func(*args, **kwargs)\n",
      "  File \"/home/saivinil_pratap/miniconda3/envs/mle-dev/lib/python3.10/site-packages/joblib/parallel.py\", line 262, in <listcomp>\n",
      "    return [func(*args, **kwargs)\n",
      "  File \"/home/saivinil_pratap/miniconda3/envs/mle-dev/lib/python3.10/site-packages/sklearn/utils/fixes.py\", line 211, in __call__\n",
      "    return self.function(*args, **kwargs)\n",
      "  File \"/home/saivinil_pratap/miniconda3/envs/mle-dev/lib/python3.10/site-packages/sklearn/pipeline.py\", line 876, in _transform_one\n",
      "    res = transformer.transform(X)\n",
      "  File \"/home/saivinil_pratap/miniconda3/envs/mle-dev/lib/python3.10/site-packages/sklearn/preprocessing/_encoders.py\", line 509, in transform\n",
      "    X_int, X_mask = self._transform(\n",
      "  File \"/home/saivinil_pratap/miniconda3/envs/mle-dev/lib/python3.10/site-packages/sklearn/preprocessing/_encoders.py\", line 142, in _transform\n",
      "    raise ValueError(msg)\n",
      "ValueError: Found unknown categories ['ISLAND'] in column 0 during transform\n",
      "\n",
      "  warnings.warn(\n"
     ]
    },
    {
     "name": "stdout",
     "output_type": "stream",
     "text": [
      "[CV] END feature_selection__k=12, preparation__num__imputer__strategy=mean; total time=  13.0s\n",
      "[CV] END feature_selection__k=12, preparation__num__imputer__strategy=mean; total time=  19.7s\n",
      "[CV] END feature_selection__k=12, preparation__num__imputer__strategy=mean; total time=  18.0s\n",
      "[CV] END feature_selection__k=12, preparation__num__imputer__strategy=mean; total time=  18.6s\n",
      "[CV] END feature_selection__k=12, preparation__num__imputer__strategy=mean; total time=  17.0s\n"
     ]
    },
    {
     "name": "stderr",
     "output_type": "stream",
     "text": [
      "/home/saivinil_pratap/miniconda3/envs/mle-dev/lib/python3.10/site-packages/sklearn/model_selection/_validation.py:771: UserWarning: Scoring failed. The score on this train-test partition for these parameters will be set to nan. Details: \n",
      "Traceback (most recent call last):\n",
      "  File \"/home/saivinil_pratap/miniconda3/envs/mle-dev/lib/python3.10/site-packages/sklearn/model_selection/_validation.py\", line 762, in _score\n",
      "    scores = scorer(estimator, X_test, y_test)\n",
      "  File \"/home/saivinil_pratap/miniconda3/envs/mle-dev/lib/python3.10/site-packages/sklearn/metrics/_scorer.py\", line 216, in __call__\n",
      "    return self._score(\n",
      "  File \"/home/saivinil_pratap/miniconda3/envs/mle-dev/lib/python3.10/site-packages/sklearn/metrics/_scorer.py\", line 258, in _score\n",
      "    y_pred = method_caller(estimator, \"predict\", X)\n",
      "  File \"/home/saivinil_pratap/miniconda3/envs/mle-dev/lib/python3.10/site-packages/sklearn/metrics/_scorer.py\", line 68, in _cached_call\n",
      "    return getattr(estimator, method)(*args, **kwargs)\n",
      "  File \"/home/saivinil_pratap/miniconda3/envs/mle-dev/lib/python3.10/site-packages/sklearn/utils/metaestimators.py\", line 113, in <lambda>\n",
      "    out = lambda *args, **kwargs: self.fn(obj, *args, **kwargs)  # noqa\n",
      "  File \"/home/saivinil_pratap/miniconda3/envs/mle-dev/lib/python3.10/site-packages/sklearn/pipeline.py\", line 469, in predict\n",
      "    Xt = transform.transform(Xt)\n",
      "  File \"/home/saivinil_pratap/miniconda3/envs/mle-dev/lib/python3.10/site-packages/sklearn/compose/_column_transformer.py\", line 748, in transform\n",
      "    Xs = self._fit_transform(\n",
      "  File \"/home/saivinil_pratap/miniconda3/envs/mle-dev/lib/python3.10/site-packages/sklearn/compose/_column_transformer.py\", line 606, in _fit_transform\n",
      "    return Parallel(n_jobs=self.n_jobs)(\n",
      "  File \"/home/saivinil_pratap/miniconda3/envs/mle-dev/lib/python3.10/site-packages/joblib/parallel.py\", line 1046, in __call__\n",
      "    while self.dispatch_one_batch(iterator):\n",
      "  File \"/home/saivinil_pratap/miniconda3/envs/mle-dev/lib/python3.10/site-packages/joblib/parallel.py\", line 861, in dispatch_one_batch\n",
      "    self._dispatch(tasks)\n",
      "  File \"/home/saivinil_pratap/miniconda3/envs/mle-dev/lib/python3.10/site-packages/joblib/parallel.py\", line 779, in _dispatch\n",
      "    job = self._backend.apply_async(batch, callback=cb)\n",
      "  File \"/home/saivinil_pratap/miniconda3/envs/mle-dev/lib/python3.10/site-packages/joblib/_parallel_backends.py\", line 208, in apply_async\n",
      "    result = ImmediateResult(func)\n",
      "  File \"/home/saivinil_pratap/miniconda3/envs/mle-dev/lib/python3.10/site-packages/joblib/_parallel_backends.py\", line 572, in __init__\n",
      "    self.results = batch()\n",
      "  File \"/home/saivinil_pratap/miniconda3/envs/mle-dev/lib/python3.10/site-packages/joblib/parallel.py\", line 262, in __call__\n",
      "    return [func(*args, **kwargs)\n",
      "  File \"/home/saivinil_pratap/miniconda3/envs/mle-dev/lib/python3.10/site-packages/joblib/parallel.py\", line 262, in <listcomp>\n",
      "    return [func(*args, **kwargs)\n",
      "  File \"/home/saivinil_pratap/miniconda3/envs/mle-dev/lib/python3.10/site-packages/sklearn/utils/fixes.py\", line 211, in __call__\n",
      "    return self.function(*args, **kwargs)\n",
      "  File \"/home/saivinil_pratap/miniconda3/envs/mle-dev/lib/python3.10/site-packages/sklearn/pipeline.py\", line 876, in _transform_one\n",
      "    res = transformer.transform(X)\n",
      "  File \"/home/saivinil_pratap/miniconda3/envs/mle-dev/lib/python3.10/site-packages/sklearn/preprocessing/_encoders.py\", line 509, in transform\n",
      "    X_int, X_mask = self._transform(\n",
      "  File \"/home/saivinil_pratap/miniconda3/envs/mle-dev/lib/python3.10/site-packages/sklearn/preprocessing/_encoders.py\", line 142, in _transform\n",
      "    raise ValueError(msg)\n",
      "ValueError: Found unknown categories ['ISLAND'] in column 0 during transform\n",
      "\n",
      "  warnings.warn(\n"
     ]
    },
    {
     "name": "stdout",
     "output_type": "stream",
     "text": [
      "[CV] END feature_selection__k=12, preparation__num__imputer__strategy=median; total time=  16.7s\n",
      "[CV] END feature_selection__k=12, preparation__num__imputer__strategy=median; total time=  18.2s\n",
      "[CV] END feature_selection__k=12, preparation__num__imputer__strategy=median; total time=  15.7s\n",
      "[CV] END feature_selection__k=12, preparation__num__imputer__strategy=median; total time=  14.5s\n",
      "[CV] END feature_selection__k=12, preparation__num__imputer__strategy=median; total time=  18.8s\n"
     ]
    },
    {
     "name": "stderr",
     "output_type": "stream",
     "text": [
      "/home/saivinil_pratap/miniconda3/envs/mle-dev/lib/python3.10/site-packages/sklearn/model_selection/_validation.py:771: UserWarning: Scoring failed. The score on this train-test partition for these parameters will be set to nan. Details: \n",
      "Traceback (most recent call last):\n",
      "  File \"/home/saivinil_pratap/miniconda3/envs/mle-dev/lib/python3.10/site-packages/sklearn/model_selection/_validation.py\", line 762, in _score\n",
      "    scores = scorer(estimator, X_test, y_test)\n",
      "  File \"/home/saivinil_pratap/miniconda3/envs/mle-dev/lib/python3.10/site-packages/sklearn/metrics/_scorer.py\", line 216, in __call__\n",
      "    return self._score(\n",
      "  File \"/home/saivinil_pratap/miniconda3/envs/mle-dev/lib/python3.10/site-packages/sklearn/metrics/_scorer.py\", line 258, in _score\n",
      "    y_pred = method_caller(estimator, \"predict\", X)\n",
      "  File \"/home/saivinil_pratap/miniconda3/envs/mle-dev/lib/python3.10/site-packages/sklearn/metrics/_scorer.py\", line 68, in _cached_call\n",
      "    return getattr(estimator, method)(*args, **kwargs)\n",
      "  File \"/home/saivinil_pratap/miniconda3/envs/mle-dev/lib/python3.10/site-packages/sklearn/utils/metaestimators.py\", line 113, in <lambda>\n",
      "    out = lambda *args, **kwargs: self.fn(obj, *args, **kwargs)  # noqa\n",
      "  File \"/home/saivinil_pratap/miniconda3/envs/mle-dev/lib/python3.10/site-packages/sklearn/pipeline.py\", line 469, in predict\n",
      "    Xt = transform.transform(Xt)\n",
      "  File \"/home/saivinil_pratap/miniconda3/envs/mle-dev/lib/python3.10/site-packages/sklearn/compose/_column_transformer.py\", line 748, in transform\n",
      "    Xs = self._fit_transform(\n",
      "  File \"/home/saivinil_pratap/miniconda3/envs/mle-dev/lib/python3.10/site-packages/sklearn/compose/_column_transformer.py\", line 606, in _fit_transform\n",
      "    return Parallel(n_jobs=self.n_jobs)(\n",
      "  File \"/home/saivinil_pratap/miniconda3/envs/mle-dev/lib/python3.10/site-packages/joblib/parallel.py\", line 1046, in __call__\n",
      "    while self.dispatch_one_batch(iterator):\n",
      "  File \"/home/saivinil_pratap/miniconda3/envs/mle-dev/lib/python3.10/site-packages/joblib/parallel.py\", line 861, in dispatch_one_batch\n",
      "    self._dispatch(tasks)\n",
      "  File \"/home/saivinil_pratap/miniconda3/envs/mle-dev/lib/python3.10/site-packages/joblib/parallel.py\", line 779, in _dispatch\n",
      "    job = self._backend.apply_async(batch, callback=cb)\n",
      "  File \"/home/saivinil_pratap/miniconda3/envs/mle-dev/lib/python3.10/site-packages/joblib/_parallel_backends.py\", line 208, in apply_async\n",
      "    result = ImmediateResult(func)\n",
      "  File \"/home/saivinil_pratap/miniconda3/envs/mle-dev/lib/python3.10/site-packages/joblib/_parallel_backends.py\", line 572, in __init__\n",
      "    self.results = batch()\n",
      "  File \"/home/saivinil_pratap/miniconda3/envs/mle-dev/lib/python3.10/site-packages/joblib/parallel.py\", line 262, in __call__\n",
      "    return [func(*args, **kwargs)\n",
      "  File \"/home/saivinil_pratap/miniconda3/envs/mle-dev/lib/python3.10/site-packages/joblib/parallel.py\", line 262, in <listcomp>\n",
      "    return [func(*args, **kwargs)\n",
      "  File \"/home/saivinil_pratap/miniconda3/envs/mle-dev/lib/python3.10/site-packages/sklearn/utils/fixes.py\", line 211, in __call__\n",
      "    return self.function(*args, **kwargs)\n",
      "  File \"/home/saivinil_pratap/miniconda3/envs/mle-dev/lib/python3.10/site-packages/sklearn/pipeline.py\", line 876, in _transform_one\n",
      "    res = transformer.transform(X)\n",
      "  File \"/home/saivinil_pratap/miniconda3/envs/mle-dev/lib/python3.10/site-packages/sklearn/preprocessing/_encoders.py\", line 509, in transform\n",
      "    X_int, X_mask = self._transform(\n",
      "  File \"/home/saivinil_pratap/miniconda3/envs/mle-dev/lib/python3.10/site-packages/sklearn/preprocessing/_encoders.py\", line 142, in _transform\n",
      "    raise ValueError(msg)\n",
      "ValueError: Found unknown categories ['ISLAND'] in column 0 during transform\n",
      "\n",
      "  warnings.warn(\n"
     ]
    },
    {
     "name": "stdout",
     "output_type": "stream",
     "text": [
      "[CV] END feature_selection__k=12, preparation__num__imputer__strategy=most_frequent; total time=  18.5s\n",
      "[CV] END feature_selection__k=12, preparation__num__imputer__strategy=most_frequent; total time=  19.2s\n",
      "[CV] END feature_selection__k=12, preparation__num__imputer__strategy=most_frequent; total time=  21.1s\n",
      "[CV] END feature_selection__k=12, preparation__num__imputer__strategy=most_frequent; total time=  20.3s\n",
      "[CV] END feature_selection__k=12, preparation__num__imputer__strategy=most_frequent; total time=  19.8s\n"
     ]
    },
    {
     "name": "stderr",
     "output_type": "stream",
     "text": [
      "/home/saivinil_pratap/miniconda3/envs/mle-dev/lib/python3.10/site-packages/sklearn/model_selection/_validation.py:771: UserWarning: Scoring failed. The score on this train-test partition for these parameters will be set to nan. Details: \n",
      "Traceback (most recent call last):\n",
      "  File \"/home/saivinil_pratap/miniconda3/envs/mle-dev/lib/python3.10/site-packages/sklearn/model_selection/_validation.py\", line 762, in _score\n",
      "    scores = scorer(estimator, X_test, y_test)\n",
      "  File \"/home/saivinil_pratap/miniconda3/envs/mle-dev/lib/python3.10/site-packages/sklearn/metrics/_scorer.py\", line 216, in __call__\n",
      "    return self._score(\n",
      "  File \"/home/saivinil_pratap/miniconda3/envs/mle-dev/lib/python3.10/site-packages/sklearn/metrics/_scorer.py\", line 258, in _score\n",
      "    y_pred = method_caller(estimator, \"predict\", X)\n",
      "  File \"/home/saivinil_pratap/miniconda3/envs/mle-dev/lib/python3.10/site-packages/sklearn/metrics/_scorer.py\", line 68, in _cached_call\n",
      "    return getattr(estimator, method)(*args, **kwargs)\n",
      "  File \"/home/saivinil_pratap/miniconda3/envs/mle-dev/lib/python3.10/site-packages/sklearn/utils/metaestimators.py\", line 113, in <lambda>\n",
      "    out = lambda *args, **kwargs: self.fn(obj, *args, **kwargs)  # noqa\n",
      "  File \"/home/saivinil_pratap/miniconda3/envs/mle-dev/lib/python3.10/site-packages/sklearn/pipeline.py\", line 469, in predict\n",
      "    Xt = transform.transform(Xt)\n",
      "  File \"/home/saivinil_pratap/miniconda3/envs/mle-dev/lib/python3.10/site-packages/sklearn/compose/_column_transformer.py\", line 748, in transform\n",
      "    Xs = self._fit_transform(\n",
      "  File \"/home/saivinil_pratap/miniconda3/envs/mle-dev/lib/python3.10/site-packages/sklearn/compose/_column_transformer.py\", line 606, in _fit_transform\n",
      "    return Parallel(n_jobs=self.n_jobs)(\n",
      "  File \"/home/saivinil_pratap/miniconda3/envs/mle-dev/lib/python3.10/site-packages/joblib/parallel.py\", line 1046, in __call__\n",
      "    while self.dispatch_one_batch(iterator):\n",
      "  File \"/home/saivinil_pratap/miniconda3/envs/mle-dev/lib/python3.10/site-packages/joblib/parallel.py\", line 861, in dispatch_one_batch\n",
      "    self._dispatch(tasks)\n",
      "  File \"/home/saivinil_pratap/miniconda3/envs/mle-dev/lib/python3.10/site-packages/joblib/parallel.py\", line 779, in _dispatch\n",
      "    job = self._backend.apply_async(batch, callback=cb)\n",
      "  File \"/home/saivinil_pratap/miniconda3/envs/mle-dev/lib/python3.10/site-packages/joblib/_parallel_backends.py\", line 208, in apply_async\n",
      "    result = ImmediateResult(func)\n",
      "  File \"/home/saivinil_pratap/miniconda3/envs/mle-dev/lib/python3.10/site-packages/joblib/_parallel_backends.py\", line 572, in __init__\n",
      "    self.results = batch()\n",
      "  File \"/home/saivinil_pratap/miniconda3/envs/mle-dev/lib/python3.10/site-packages/joblib/parallel.py\", line 262, in __call__\n",
      "    return [func(*args, **kwargs)\n",
      "  File \"/home/saivinil_pratap/miniconda3/envs/mle-dev/lib/python3.10/site-packages/joblib/parallel.py\", line 262, in <listcomp>\n",
      "    return [func(*args, **kwargs)\n",
      "  File \"/home/saivinil_pratap/miniconda3/envs/mle-dev/lib/python3.10/site-packages/sklearn/utils/fixes.py\", line 211, in __call__\n",
      "    return self.function(*args, **kwargs)\n",
      "  File \"/home/saivinil_pratap/miniconda3/envs/mle-dev/lib/python3.10/site-packages/sklearn/pipeline.py\", line 876, in _transform_one\n",
      "    res = transformer.transform(X)\n",
      "  File \"/home/saivinil_pratap/miniconda3/envs/mle-dev/lib/python3.10/site-packages/sklearn/preprocessing/_encoders.py\", line 509, in transform\n",
      "    X_int, X_mask = self._transform(\n",
      "  File \"/home/saivinil_pratap/miniconda3/envs/mle-dev/lib/python3.10/site-packages/sklearn/preprocessing/_encoders.py\", line 142, in _transform\n",
      "    raise ValueError(msg)\n",
      "ValueError: Found unknown categories ['ISLAND'] in column 0 during transform\n",
      "\n",
      "  warnings.warn(\n"
     ]
    },
    {
     "name": "stdout",
     "output_type": "stream",
     "text": [
      "[CV] END feature_selection__k=13, preparation__num__imputer__strategy=mean; total time=  18.6s\n",
      "[CV] END feature_selection__k=13, preparation__num__imputer__strategy=mean; total time=  18.6s\n",
      "[CV] END feature_selection__k=13, preparation__num__imputer__strategy=mean; total time=  21.6s\n",
      "[CV] END feature_selection__k=13, preparation__num__imputer__strategy=mean; total time=  24.6s\n",
      "[CV] END feature_selection__k=13, preparation__num__imputer__strategy=mean; total time=  18.0s\n"
     ]
    },
    {
     "name": "stderr",
     "output_type": "stream",
     "text": [
      "/home/saivinil_pratap/miniconda3/envs/mle-dev/lib/python3.10/site-packages/sklearn/model_selection/_validation.py:771: UserWarning: Scoring failed. The score on this train-test partition for these parameters will be set to nan. Details: \n",
      "Traceback (most recent call last):\n",
      "  File \"/home/saivinil_pratap/miniconda3/envs/mle-dev/lib/python3.10/site-packages/sklearn/model_selection/_validation.py\", line 762, in _score\n",
      "    scores = scorer(estimator, X_test, y_test)\n",
      "  File \"/home/saivinil_pratap/miniconda3/envs/mle-dev/lib/python3.10/site-packages/sklearn/metrics/_scorer.py\", line 216, in __call__\n",
      "    return self._score(\n",
      "  File \"/home/saivinil_pratap/miniconda3/envs/mle-dev/lib/python3.10/site-packages/sklearn/metrics/_scorer.py\", line 258, in _score\n",
      "    y_pred = method_caller(estimator, \"predict\", X)\n",
      "  File \"/home/saivinil_pratap/miniconda3/envs/mle-dev/lib/python3.10/site-packages/sklearn/metrics/_scorer.py\", line 68, in _cached_call\n",
      "    return getattr(estimator, method)(*args, **kwargs)\n",
      "  File \"/home/saivinil_pratap/miniconda3/envs/mle-dev/lib/python3.10/site-packages/sklearn/utils/metaestimators.py\", line 113, in <lambda>\n",
      "    out = lambda *args, **kwargs: self.fn(obj, *args, **kwargs)  # noqa\n",
      "  File \"/home/saivinil_pratap/miniconda3/envs/mle-dev/lib/python3.10/site-packages/sklearn/pipeline.py\", line 469, in predict\n",
      "    Xt = transform.transform(Xt)\n",
      "  File \"/home/saivinil_pratap/miniconda3/envs/mle-dev/lib/python3.10/site-packages/sklearn/compose/_column_transformer.py\", line 748, in transform\n",
      "    Xs = self._fit_transform(\n",
      "  File \"/home/saivinil_pratap/miniconda3/envs/mle-dev/lib/python3.10/site-packages/sklearn/compose/_column_transformer.py\", line 606, in _fit_transform\n",
      "    return Parallel(n_jobs=self.n_jobs)(\n",
      "  File \"/home/saivinil_pratap/miniconda3/envs/mle-dev/lib/python3.10/site-packages/joblib/parallel.py\", line 1046, in __call__\n",
      "    while self.dispatch_one_batch(iterator):\n",
      "  File \"/home/saivinil_pratap/miniconda3/envs/mle-dev/lib/python3.10/site-packages/joblib/parallel.py\", line 861, in dispatch_one_batch\n",
      "    self._dispatch(tasks)\n",
      "  File \"/home/saivinil_pratap/miniconda3/envs/mle-dev/lib/python3.10/site-packages/joblib/parallel.py\", line 779, in _dispatch\n",
      "    job = self._backend.apply_async(batch, callback=cb)\n",
      "  File \"/home/saivinil_pratap/miniconda3/envs/mle-dev/lib/python3.10/site-packages/joblib/_parallel_backends.py\", line 208, in apply_async\n",
      "    result = ImmediateResult(func)\n",
      "  File \"/home/saivinil_pratap/miniconda3/envs/mle-dev/lib/python3.10/site-packages/joblib/_parallel_backends.py\", line 572, in __init__\n",
      "    self.results = batch()\n",
      "  File \"/home/saivinil_pratap/miniconda3/envs/mle-dev/lib/python3.10/site-packages/joblib/parallel.py\", line 262, in __call__\n",
      "    return [func(*args, **kwargs)\n",
      "  File \"/home/saivinil_pratap/miniconda3/envs/mle-dev/lib/python3.10/site-packages/joblib/parallel.py\", line 262, in <listcomp>\n",
      "    return [func(*args, **kwargs)\n",
      "  File \"/home/saivinil_pratap/miniconda3/envs/mle-dev/lib/python3.10/site-packages/sklearn/utils/fixes.py\", line 211, in __call__\n",
      "    return self.function(*args, **kwargs)\n",
      "  File \"/home/saivinil_pratap/miniconda3/envs/mle-dev/lib/python3.10/site-packages/sklearn/pipeline.py\", line 876, in _transform_one\n",
      "    res = transformer.transform(X)\n",
      "  File \"/home/saivinil_pratap/miniconda3/envs/mle-dev/lib/python3.10/site-packages/sklearn/preprocessing/_encoders.py\", line 509, in transform\n",
      "    X_int, X_mask = self._transform(\n",
      "  File \"/home/saivinil_pratap/miniconda3/envs/mle-dev/lib/python3.10/site-packages/sklearn/preprocessing/_encoders.py\", line 142, in _transform\n",
      "    raise ValueError(msg)\n",
      "ValueError: Found unknown categories ['ISLAND'] in column 0 during transform\n",
      "\n",
      "  warnings.warn(\n"
     ]
    },
    {
     "name": "stdout",
     "output_type": "stream",
     "text": [
      "[CV] END feature_selection__k=13, preparation__num__imputer__strategy=median; total time=  17.6s\n",
      "[CV] END feature_selection__k=13, preparation__num__imputer__strategy=median; total time=  21.9s\n",
      "[CV] END feature_selection__k=13, preparation__num__imputer__strategy=median; total time=  17.0s\n",
      "[CV] END feature_selection__k=13, preparation__num__imputer__strategy=median; total time=  19.6s\n",
      "[CV] END feature_selection__k=13, preparation__num__imputer__strategy=median; total time=  19.0s\n"
     ]
    },
    {
     "name": "stderr",
     "output_type": "stream",
     "text": [
      "/home/saivinil_pratap/miniconda3/envs/mle-dev/lib/python3.10/site-packages/sklearn/model_selection/_validation.py:771: UserWarning: Scoring failed. The score on this train-test partition for these parameters will be set to nan. Details: \n",
      "Traceback (most recent call last):\n",
      "  File \"/home/saivinil_pratap/miniconda3/envs/mle-dev/lib/python3.10/site-packages/sklearn/model_selection/_validation.py\", line 762, in _score\n",
      "    scores = scorer(estimator, X_test, y_test)\n",
      "  File \"/home/saivinil_pratap/miniconda3/envs/mle-dev/lib/python3.10/site-packages/sklearn/metrics/_scorer.py\", line 216, in __call__\n",
      "    return self._score(\n",
      "  File \"/home/saivinil_pratap/miniconda3/envs/mle-dev/lib/python3.10/site-packages/sklearn/metrics/_scorer.py\", line 258, in _score\n",
      "    y_pred = method_caller(estimator, \"predict\", X)\n",
      "  File \"/home/saivinil_pratap/miniconda3/envs/mle-dev/lib/python3.10/site-packages/sklearn/metrics/_scorer.py\", line 68, in _cached_call\n",
      "    return getattr(estimator, method)(*args, **kwargs)\n",
      "  File \"/home/saivinil_pratap/miniconda3/envs/mle-dev/lib/python3.10/site-packages/sklearn/utils/metaestimators.py\", line 113, in <lambda>\n",
      "    out = lambda *args, **kwargs: self.fn(obj, *args, **kwargs)  # noqa\n",
      "  File \"/home/saivinil_pratap/miniconda3/envs/mle-dev/lib/python3.10/site-packages/sklearn/pipeline.py\", line 469, in predict\n",
      "    Xt = transform.transform(Xt)\n",
      "  File \"/home/saivinil_pratap/miniconda3/envs/mle-dev/lib/python3.10/site-packages/sklearn/compose/_column_transformer.py\", line 748, in transform\n",
      "    Xs = self._fit_transform(\n",
      "  File \"/home/saivinil_pratap/miniconda3/envs/mle-dev/lib/python3.10/site-packages/sklearn/compose/_column_transformer.py\", line 606, in _fit_transform\n",
      "    return Parallel(n_jobs=self.n_jobs)(\n",
      "  File \"/home/saivinil_pratap/miniconda3/envs/mle-dev/lib/python3.10/site-packages/joblib/parallel.py\", line 1046, in __call__\n",
      "    while self.dispatch_one_batch(iterator):\n",
      "  File \"/home/saivinil_pratap/miniconda3/envs/mle-dev/lib/python3.10/site-packages/joblib/parallel.py\", line 861, in dispatch_one_batch\n",
      "    self._dispatch(tasks)\n",
      "  File \"/home/saivinil_pratap/miniconda3/envs/mle-dev/lib/python3.10/site-packages/joblib/parallel.py\", line 779, in _dispatch\n",
      "    job = self._backend.apply_async(batch, callback=cb)\n",
      "  File \"/home/saivinil_pratap/miniconda3/envs/mle-dev/lib/python3.10/site-packages/joblib/_parallel_backends.py\", line 208, in apply_async\n",
      "    result = ImmediateResult(func)\n",
      "  File \"/home/saivinil_pratap/miniconda3/envs/mle-dev/lib/python3.10/site-packages/joblib/_parallel_backends.py\", line 572, in __init__\n",
      "    self.results = batch()\n",
      "  File \"/home/saivinil_pratap/miniconda3/envs/mle-dev/lib/python3.10/site-packages/joblib/parallel.py\", line 262, in __call__\n",
      "    return [func(*args, **kwargs)\n",
      "  File \"/home/saivinil_pratap/miniconda3/envs/mle-dev/lib/python3.10/site-packages/joblib/parallel.py\", line 262, in <listcomp>\n",
      "    return [func(*args, **kwargs)\n",
      "  File \"/home/saivinil_pratap/miniconda3/envs/mle-dev/lib/python3.10/site-packages/sklearn/utils/fixes.py\", line 211, in __call__\n",
      "    return self.function(*args, **kwargs)\n",
      "  File \"/home/saivinil_pratap/miniconda3/envs/mle-dev/lib/python3.10/site-packages/sklearn/pipeline.py\", line 876, in _transform_one\n",
      "    res = transformer.transform(X)\n",
      "  File \"/home/saivinil_pratap/miniconda3/envs/mle-dev/lib/python3.10/site-packages/sklearn/preprocessing/_encoders.py\", line 509, in transform\n",
      "    X_int, X_mask = self._transform(\n",
      "  File \"/home/saivinil_pratap/miniconda3/envs/mle-dev/lib/python3.10/site-packages/sklearn/preprocessing/_encoders.py\", line 142, in _transform\n",
      "    raise ValueError(msg)\n",
      "ValueError: Found unknown categories ['ISLAND'] in column 0 during transform\n",
      "\n",
      "  warnings.warn(\n"
     ]
    },
    {
     "name": "stdout",
     "output_type": "stream",
     "text": [
      "[CV] END feature_selection__k=13, preparation__num__imputer__strategy=most_frequent; total time=  17.9s\n",
      "[CV] END feature_selection__k=13, preparation__num__imputer__strategy=most_frequent; total time=  15.6s\n",
      "[CV] END feature_selection__k=13, preparation__num__imputer__strategy=most_frequent; total time=  19.6s\n",
      "[CV] END feature_selection__k=13, preparation__num__imputer__strategy=most_frequent; total time=  16.5s\n",
      "[CV] END feature_selection__k=13, preparation__num__imputer__strategy=most_frequent; total time=  15.3s\n"
     ]
    },
    {
     "name": "stderr",
     "output_type": "stream",
     "text": [
      "/home/saivinil_pratap/miniconda3/envs/mle-dev/lib/python3.10/site-packages/sklearn/model_selection/_validation.py:771: UserWarning: Scoring failed. The score on this train-test partition for these parameters will be set to nan. Details: \n",
      "Traceback (most recent call last):\n",
      "  File \"/home/saivinil_pratap/miniconda3/envs/mle-dev/lib/python3.10/site-packages/sklearn/model_selection/_validation.py\", line 762, in _score\n",
      "    scores = scorer(estimator, X_test, y_test)\n",
      "  File \"/home/saivinil_pratap/miniconda3/envs/mle-dev/lib/python3.10/site-packages/sklearn/metrics/_scorer.py\", line 216, in __call__\n",
      "    return self._score(\n",
      "  File \"/home/saivinil_pratap/miniconda3/envs/mle-dev/lib/python3.10/site-packages/sklearn/metrics/_scorer.py\", line 258, in _score\n",
      "    y_pred = method_caller(estimator, \"predict\", X)\n",
      "  File \"/home/saivinil_pratap/miniconda3/envs/mle-dev/lib/python3.10/site-packages/sklearn/metrics/_scorer.py\", line 68, in _cached_call\n",
      "    return getattr(estimator, method)(*args, **kwargs)\n",
      "  File \"/home/saivinil_pratap/miniconda3/envs/mle-dev/lib/python3.10/site-packages/sklearn/utils/metaestimators.py\", line 113, in <lambda>\n",
      "    out = lambda *args, **kwargs: self.fn(obj, *args, **kwargs)  # noqa\n",
      "  File \"/home/saivinil_pratap/miniconda3/envs/mle-dev/lib/python3.10/site-packages/sklearn/pipeline.py\", line 469, in predict\n",
      "    Xt = transform.transform(Xt)\n",
      "  File \"/home/saivinil_pratap/miniconda3/envs/mle-dev/lib/python3.10/site-packages/sklearn/compose/_column_transformer.py\", line 748, in transform\n",
      "    Xs = self._fit_transform(\n",
      "  File \"/home/saivinil_pratap/miniconda3/envs/mle-dev/lib/python3.10/site-packages/sklearn/compose/_column_transformer.py\", line 606, in _fit_transform\n",
      "    return Parallel(n_jobs=self.n_jobs)(\n",
      "  File \"/home/saivinil_pratap/miniconda3/envs/mle-dev/lib/python3.10/site-packages/joblib/parallel.py\", line 1046, in __call__\n",
      "    while self.dispatch_one_batch(iterator):\n",
      "  File \"/home/saivinil_pratap/miniconda3/envs/mle-dev/lib/python3.10/site-packages/joblib/parallel.py\", line 861, in dispatch_one_batch\n",
      "    self._dispatch(tasks)\n",
      "  File \"/home/saivinil_pratap/miniconda3/envs/mle-dev/lib/python3.10/site-packages/joblib/parallel.py\", line 779, in _dispatch\n",
      "    job = self._backend.apply_async(batch, callback=cb)\n",
      "  File \"/home/saivinil_pratap/miniconda3/envs/mle-dev/lib/python3.10/site-packages/joblib/_parallel_backends.py\", line 208, in apply_async\n",
      "    result = ImmediateResult(func)\n",
      "  File \"/home/saivinil_pratap/miniconda3/envs/mle-dev/lib/python3.10/site-packages/joblib/_parallel_backends.py\", line 572, in __init__\n",
      "    self.results = batch()\n",
      "  File \"/home/saivinil_pratap/miniconda3/envs/mle-dev/lib/python3.10/site-packages/joblib/parallel.py\", line 262, in __call__\n",
      "    return [func(*args, **kwargs)\n",
      "  File \"/home/saivinil_pratap/miniconda3/envs/mle-dev/lib/python3.10/site-packages/joblib/parallel.py\", line 262, in <listcomp>\n",
      "    return [func(*args, **kwargs)\n",
      "  File \"/home/saivinil_pratap/miniconda3/envs/mle-dev/lib/python3.10/site-packages/sklearn/utils/fixes.py\", line 211, in __call__\n",
      "    return self.function(*args, **kwargs)\n",
      "  File \"/home/saivinil_pratap/miniconda3/envs/mle-dev/lib/python3.10/site-packages/sklearn/pipeline.py\", line 876, in _transform_one\n",
      "    res = transformer.transform(X)\n",
      "  File \"/home/saivinil_pratap/miniconda3/envs/mle-dev/lib/python3.10/site-packages/sklearn/preprocessing/_encoders.py\", line 509, in transform\n",
      "    X_int, X_mask = self._transform(\n",
      "  File \"/home/saivinil_pratap/miniconda3/envs/mle-dev/lib/python3.10/site-packages/sklearn/preprocessing/_encoders.py\", line 142, in _transform\n",
      "    raise ValueError(msg)\n",
      "ValueError: Found unknown categories ['ISLAND'] in column 0 during transform\n",
      "\n",
      "  warnings.warn(\n"
     ]
    },
    {
     "name": "stdout",
     "output_type": "stream",
     "text": [
      "[CV] END feature_selection__k=14, preparation__num__imputer__strategy=mean; total time=  15.3s\n",
      "[CV] END feature_selection__k=14, preparation__num__imputer__strategy=mean; total time=  18.1s\n",
      "[CV] END feature_selection__k=14, preparation__num__imputer__strategy=mean; total time=  15.8s\n",
      "[CV] END feature_selection__k=14, preparation__num__imputer__strategy=mean; total time=  16.6s\n",
      "[CV] END feature_selection__k=14, preparation__num__imputer__strategy=mean; total time=  16.9s\n"
     ]
    },
    {
     "name": "stderr",
     "output_type": "stream",
     "text": [
      "/home/saivinil_pratap/miniconda3/envs/mle-dev/lib/python3.10/site-packages/sklearn/model_selection/_validation.py:771: UserWarning: Scoring failed. The score on this train-test partition for these parameters will be set to nan. Details: \n",
      "Traceback (most recent call last):\n",
      "  File \"/home/saivinil_pratap/miniconda3/envs/mle-dev/lib/python3.10/site-packages/sklearn/model_selection/_validation.py\", line 762, in _score\n",
      "    scores = scorer(estimator, X_test, y_test)\n",
      "  File \"/home/saivinil_pratap/miniconda3/envs/mle-dev/lib/python3.10/site-packages/sklearn/metrics/_scorer.py\", line 216, in __call__\n",
      "    return self._score(\n",
      "  File \"/home/saivinil_pratap/miniconda3/envs/mle-dev/lib/python3.10/site-packages/sklearn/metrics/_scorer.py\", line 258, in _score\n",
      "    y_pred = method_caller(estimator, \"predict\", X)\n",
      "  File \"/home/saivinil_pratap/miniconda3/envs/mle-dev/lib/python3.10/site-packages/sklearn/metrics/_scorer.py\", line 68, in _cached_call\n",
      "    return getattr(estimator, method)(*args, **kwargs)\n",
      "  File \"/home/saivinil_pratap/miniconda3/envs/mle-dev/lib/python3.10/site-packages/sklearn/utils/metaestimators.py\", line 113, in <lambda>\n",
      "    out = lambda *args, **kwargs: self.fn(obj, *args, **kwargs)  # noqa\n",
      "  File \"/home/saivinil_pratap/miniconda3/envs/mle-dev/lib/python3.10/site-packages/sklearn/pipeline.py\", line 469, in predict\n",
      "    Xt = transform.transform(Xt)\n",
      "  File \"/home/saivinil_pratap/miniconda3/envs/mle-dev/lib/python3.10/site-packages/sklearn/compose/_column_transformer.py\", line 748, in transform\n",
      "    Xs = self._fit_transform(\n",
      "  File \"/home/saivinil_pratap/miniconda3/envs/mle-dev/lib/python3.10/site-packages/sklearn/compose/_column_transformer.py\", line 606, in _fit_transform\n",
      "    return Parallel(n_jobs=self.n_jobs)(\n",
      "  File \"/home/saivinil_pratap/miniconda3/envs/mle-dev/lib/python3.10/site-packages/joblib/parallel.py\", line 1046, in __call__\n",
      "    while self.dispatch_one_batch(iterator):\n",
      "  File \"/home/saivinil_pratap/miniconda3/envs/mle-dev/lib/python3.10/site-packages/joblib/parallel.py\", line 861, in dispatch_one_batch\n",
      "    self._dispatch(tasks)\n",
      "  File \"/home/saivinil_pratap/miniconda3/envs/mle-dev/lib/python3.10/site-packages/joblib/parallel.py\", line 779, in _dispatch\n",
      "    job = self._backend.apply_async(batch, callback=cb)\n",
      "  File \"/home/saivinil_pratap/miniconda3/envs/mle-dev/lib/python3.10/site-packages/joblib/_parallel_backends.py\", line 208, in apply_async\n",
      "    result = ImmediateResult(func)\n",
      "  File \"/home/saivinil_pratap/miniconda3/envs/mle-dev/lib/python3.10/site-packages/joblib/_parallel_backends.py\", line 572, in __init__\n",
      "    self.results = batch()\n",
      "  File \"/home/saivinil_pratap/miniconda3/envs/mle-dev/lib/python3.10/site-packages/joblib/parallel.py\", line 262, in __call__\n",
      "    return [func(*args, **kwargs)\n",
      "  File \"/home/saivinil_pratap/miniconda3/envs/mle-dev/lib/python3.10/site-packages/joblib/parallel.py\", line 262, in <listcomp>\n",
      "    return [func(*args, **kwargs)\n",
      "  File \"/home/saivinil_pratap/miniconda3/envs/mle-dev/lib/python3.10/site-packages/sklearn/utils/fixes.py\", line 211, in __call__\n",
      "    return self.function(*args, **kwargs)\n",
      "  File \"/home/saivinil_pratap/miniconda3/envs/mle-dev/lib/python3.10/site-packages/sklearn/pipeline.py\", line 876, in _transform_one\n",
      "    res = transformer.transform(X)\n",
      "  File \"/home/saivinil_pratap/miniconda3/envs/mle-dev/lib/python3.10/site-packages/sklearn/preprocessing/_encoders.py\", line 509, in transform\n",
      "    X_int, X_mask = self._transform(\n",
      "  File \"/home/saivinil_pratap/miniconda3/envs/mle-dev/lib/python3.10/site-packages/sklearn/preprocessing/_encoders.py\", line 142, in _transform\n",
      "    raise ValueError(msg)\n",
      "ValueError: Found unknown categories ['ISLAND'] in column 0 during transform\n",
      "\n",
      "  warnings.warn(\n"
     ]
    },
    {
     "name": "stdout",
     "output_type": "stream",
     "text": [
      "[CV] END feature_selection__k=14, preparation__num__imputer__strategy=median; total time=  15.1s\n",
      "[CV] END feature_selection__k=14, preparation__num__imputer__strategy=median; total time=  16.3s\n",
      "[CV] END feature_selection__k=14, preparation__num__imputer__strategy=median; total time=  15.6s\n",
      "[CV] END feature_selection__k=14, preparation__num__imputer__strategy=median; total time=  16.5s\n",
      "[CV] END feature_selection__k=14, preparation__num__imputer__strategy=median; total time=  16.6s\n"
     ]
    },
    {
     "name": "stderr",
     "output_type": "stream",
     "text": [
      "/home/saivinil_pratap/miniconda3/envs/mle-dev/lib/python3.10/site-packages/sklearn/model_selection/_validation.py:771: UserWarning: Scoring failed. The score on this train-test partition for these parameters will be set to nan. Details: \n",
      "Traceback (most recent call last):\n",
      "  File \"/home/saivinil_pratap/miniconda3/envs/mle-dev/lib/python3.10/site-packages/sklearn/model_selection/_validation.py\", line 762, in _score\n",
      "    scores = scorer(estimator, X_test, y_test)\n",
      "  File \"/home/saivinil_pratap/miniconda3/envs/mle-dev/lib/python3.10/site-packages/sklearn/metrics/_scorer.py\", line 216, in __call__\n",
      "    return self._score(\n",
      "  File \"/home/saivinil_pratap/miniconda3/envs/mle-dev/lib/python3.10/site-packages/sklearn/metrics/_scorer.py\", line 258, in _score\n",
      "    y_pred = method_caller(estimator, \"predict\", X)\n",
      "  File \"/home/saivinil_pratap/miniconda3/envs/mle-dev/lib/python3.10/site-packages/sklearn/metrics/_scorer.py\", line 68, in _cached_call\n",
      "    return getattr(estimator, method)(*args, **kwargs)\n",
      "  File \"/home/saivinil_pratap/miniconda3/envs/mle-dev/lib/python3.10/site-packages/sklearn/utils/metaestimators.py\", line 113, in <lambda>\n",
      "    out = lambda *args, **kwargs: self.fn(obj, *args, **kwargs)  # noqa\n",
      "  File \"/home/saivinil_pratap/miniconda3/envs/mle-dev/lib/python3.10/site-packages/sklearn/pipeline.py\", line 469, in predict\n",
      "    Xt = transform.transform(Xt)\n",
      "  File \"/home/saivinil_pratap/miniconda3/envs/mle-dev/lib/python3.10/site-packages/sklearn/compose/_column_transformer.py\", line 748, in transform\n",
      "    Xs = self._fit_transform(\n",
      "  File \"/home/saivinil_pratap/miniconda3/envs/mle-dev/lib/python3.10/site-packages/sklearn/compose/_column_transformer.py\", line 606, in _fit_transform\n",
      "    return Parallel(n_jobs=self.n_jobs)(\n",
      "  File \"/home/saivinil_pratap/miniconda3/envs/mle-dev/lib/python3.10/site-packages/joblib/parallel.py\", line 1046, in __call__\n",
      "    while self.dispatch_one_batch(iterator):\n",
      "  File \"/home/saivinil_pratap/miniconda3/envs/mle-dev/lib/python3.10/site-packages/joblib/parallel.py\", line 861, in dispatch_one_batch\n",
      "    self._dispatch(tasks)\n",
      "  File \"/home/saivinil_pratap/miniconda3/envs/mle-dev/lib/python3.10/site-packages/joblib/parallel.py\", line 779, in _dispatch\n",
      "    job = self._backend.apply_async(batch, callback=cb)\n",
      "  File \"/home/saivinil_pratap/miniconda3/envs/mle-dev/lib/python3.10/site-packages/joblib/_parallel_backends.py\", line 208, in apply_async\n",
      "    result = ImmediateResult(func)\n",
      "  File \"/home/saivinil_pratap/miniconda3/envs/mle-dev/lib/python3.10/site-packages/joblib/_parallel_backends.py\", line 572, in __init__\n",
      "    self.results = batch()\n",
      "  File \"/home/saivinil_pratap/miniconda3/envs/mle-dev/lib/python3.10/site-packages/joblib/parallel.py\", line 262, in __call__\n",
      "    return [func(*args, **kwargs)\n",
      "  File \"/home/saivinil_pratap/miniconda3/envs/mle-dev/lib/python3.10/site-packages/joblib/parallel.py\", line 262, in <listcomp>\n",
      "    return [func(*args, **kwargs)\n",
      "  File \"/home/saivinil_pratap/miniconda3/envs/mle-dev/lib/python3.10/site-packages/sklearn/utils/fixes.py\", line 211, in __call__\n",
      "    return self.function(*args, **kwargs)\n",
      "  File \"/home/saivinil_pratap/miniconda3/envs/mle-dev/lib/python3.10/site-packages/sklearn/pipeline.py\", line 876, in _transform_one\n",
      "    res = transformer.transform(X)\n",
      "  File \"/home/saivinil_pratap/miniconda3/envs/mle-dev/lib/python3.10/site-packages/sklearn/preprocessing/_encoders.py\", line 509, in transform\n",
      "    X_int, X_mask = self._transform(\n",
      "  File \"/home/saivinil_pratap/miniconda3/envs/mle-dev/lib/python3.10/site-packages/sklearn/preprocessing/_encoders.py\", line 142, in _transform\n",
      "    raise ValueError(msg)\n",
      "ValueError: Found unknown categories ['ISLAND'] in column 0 during transform\n",
      "\n",
      "  warnings.warn(\n"
     ]
    },
    {
     "name": "stdout",
     "output_type": "stream",
     "text": [
      "[CV] END feature_selection__k=14, preparation__num__imputer__strategy=most_frequent; total time=  13.6s\n",
      "[CV] END feature_selection__k=14, preparation__num__imputer__strategy=most_frequent; total time=  17.4s\n",
      "[CV] END feature_selection__k=14, preparation__num__imputer__strategy=most_frequent; total time=  15.1s\n",
      "[CV] END feature_selection__k=14, preparation__num__imputer__strategy=most_frequent; total time=  14.3s\n",
      "[CV] END feature_selection__k=14, preparation__num__imputer__strategy=most_frequent; total time=  16.4s\n",
      "[CV] END feature_selection__k=15, preparation__num__imputer__strategy=mean; total time=   0.0s\n",
      "[CV] END feature_selection__k=15, preparation__num__imputer__strategy=mean; total time=  15.6s\n",
      "[CV] END feature_selection__k=15, preparation__num__imputer__strategy=mean; total time=  16.1s\n",
      "[CV] END feature_selection__k=15, preparation__num__imputer__strategy=mean; total time=  15.5s\n",
      "[CV] END feature_selection__k=15, preparation__num__imputer__strategy=mean; total time=  15.8s\n",
      "[CV] END feature_selection__k=15, preparation__num__imputer__strategy=median; total time=   0.0s\n",
      "[CV] END feature_selection__k=15, preparation__num__imputer__strategy=median; total time=  15.9s\n",
      "[CV] END feature_selection__k=15, preparation__num__imputer__strategy=median; total time=  18.1s\n",
      "[CV] END feature_selection__k=15, preparation__num__imputer__strategy=median; total time=  17.2s\n",
      "[CV] END feature_selection__k=15, preparation__num__imputer__strategy=median; total time=  18.3s\n",
      "[CV] END feature_selection__k=15, preparation__num__imputer__strategy=most_frequent; total time=   0.0s\n",
      "[CV] END feature_selection__k=15, preparation__num__imputer__strategy=most_frequent; total time=  18.7s\n",
      "[CV] END feature_selection__k=15, preparation__num__imputer__strategy=most_frequent; total time=  19.0s\n",
      "[CV] END feature_selection__k=15, preparation__num__imputer__strategy=most_frequent; total time=  17.4s\n",
      "[CV] END feature_selection__k=15, preparation__num__imputer__strategy=most_frequent; total time=  17.0s\n",
      "[CV] END feature_selection__k=16, preparation__num__imputer__strategy=mean; total time=   0.0s\n",
      "[CV] END feature_selection__k=16, preparation__num__imputer__strategy=mean; total time=  17.7s\n",
      "[CV] END feature_selection__k=16, preparation__num__imputer__strategy=mean; total time=  17.2s\n",
      "[CV] END feature_selection__k=16, preparation__num__imputer__strategy=mean; total time=  19.3s\n",
      "[CV] END feature_selection__k=16, preparation__num__imputer__strategy=mean; total time=  20.2s\n",
      "[CV] END feature_selection__k=16, preparation__num__imputer__strategy=median; total time=   0.0s\n",
      "[CV] END feature_selection__k=16, preparation__num__imputer__strategy=median; total time=  18.3s\n",
      "[CV] END feature_selection__k=16, preparation__num__imputer__strategy=median; total time=  17.1s\n",
      "[CV] END feature_selection__k=16, preparation__num__imputer__strategy=median; total time=  20.5s\n",
      "[CV] END feature_selection__k=16, preparation__num__imputer__strategy=median; total time=  17.2s\n",
      "[CV] END feature_selection__k=16, preparation__num__imputer__strategy=most_frequent; total time=   0.0s\n",
      "[CV] END feature_selection__k=16, preparation__num__imputer__strategy=most_frequent; total time=  20.2s\n",
      "[CV] END feature_selection__k=16, preparation__num__imputer__strategy=most_frequent; total time=  20.5s\n",
      "[CV] END feature_selection__k=16, preparation__num__imputer__strategy=most_frequent; total time=  20.6s\n",
      "[CV] END feature_selection__k=16, preparation__num__imputer__strategy=most_frequent; total time=  18.0s\n"
     ]
    },
    {
     "name": "stderr",
     "output_type": "stream",
     "text": [
      "/home/saivinil_pratap/miniconda3/envs/mle-dev/lib/python3.10/site-packages/sklearn/model_selection/_validation.py:372: FitFailedWarning: \n",
      "6 fits failed out of a total of 240.\n",
      "The score on these train-test partitions for these parameters will be set to nan.\n",
      "If these failures are not expected, you can try to debug them by setting error_score='raise'.\n",
      "\n",
      "Below are more details about the failures:\n",
      "--------------------------------------------------------------------------------\n",
      "6 fits failed with the following error:\n",
      "Traceback (most recent call last):\n",
      "  File \"/home/saivinil_pratap/miniconda3/envs/mle-dev/lib/python3.10/site-packages/sklearn/model_selection/_validation.py\", line 681, in _fit_and_score\n",
      "    estimator.fit(X_train, y_train, **fit_params)\n",
      "  File \"/home/saivinil_pratap/miniconda3/envs/mle-dev/lib/python3.10/site-packages/sklearn/pipeline.py\", line 390, in fit\n",
      "    Xt = self._fit(X, y, **fit_params_steps)\n",
      "  File \"/home/saivinil_pratap/miniconda3/envs/mle-dev/lib/python3.10/site-packages/sklearn/pipeline.py\", line 348, in _fit\n",
      "    X, fitted_transformer = fit_transform_one_cached(\n",
      "  File \"/home/saivinil_pratap/miniconda3/envs/mle-dev/lib/python3.10/site-packages/joblib/memory.py\", line 349, in __call__\n",
      "    return self.func(*args, **kwargs)\n",
      "  File \"/home/saivinil_pratap/miniconda3/envs/mle-dev/lib/python3.10/site-packages/sklearn/pipeline.py\", line 893, in _fit_transform_one\n",
      "    res = transformer.fit_transform(X, y, **fit_params)\n",
      "  File \"/home/saivinil_pratap/miniconda3/envs/mle-dev/lib/python3.10/site-packages/sklearn/base.py\", line 850, in fit_transform\n",
      "    return self.fit(X, y, **fit_params).transform(X)\n",
      "  File \"/tmp/ipykernel_274/2088711179.py\", line 14, in transform\n",
      "    return X[:, self.feature_indices_]\n",
      "IndexError: index 15 is out of bounds for axis 1 with size 15\n",
      "\n",
      "  warnings.warn(some_fits_failed_message, FitFailedWarning)\n",
      "/home/saivinil_pratap/miniconda3/envs/mle-dev/lib/python3.10/site-packages/sklearn/model_selection/_search.py:969: UserWarning: One or more of the test scores are non-finite: [nan nan nan nan nan nan nan nan nan nan nan nan nan nan nan nan nan nan\n",
      " nan nan nan nan nan nan nan nan nan nan nan nan nan nan nan nan nan nan\n",
      " nan nan nan nan nan nan nan nan nan nan nan nan]\n",
      "  warnings.warn(\n"
     ]
    },
    {
     "data": {
      "text/plain": [
       "GridSearchCV(cv=5,\n",
       "             estimator=Pipeline(steps=[('preparation',\n",
       "                                        ColumnTransformer(transformers=[('num',\n",
       "                                                                         Pipeline(steps=[('imputer',\n",
       "                                                                                          SimpleImputer(strategy='median')),\n",
       "                                                                                         ('attribs_adder',\n",
       "                                                                                          CombinedAttributesAdder()),\n",
       "                                                                                         ('std_scaler',\n",
       "                                                                                          StandardScaler())]),\n",
       "                                                                         ['longitude',\n",
       "                                                                          'latitude',\n",
       "                                                                          'housing_median_age',\n",
       "                                                                          'total_rooms',\n",
       "                                                                          'total_bedrooms',\n",
       "                                                                          'population',\n",
       "                                                                          'households',\n",
       "                                                                          'median_inc...\n",
       "       6.72685306e-02, 1.08150756e-01, 7.55836410e-02, 1.23804811e-02,\n",
       "       1.44649421e-01, 7.09976174e-05, 8.56119602e-03, 7.94748174e-03]),\n",
       "                                                           k=5)),\n",
       "                                       ('svm_reg',\n",
       "                                        SVR(C=157055.10989448498,\n",
       "                                            gamma=0.26497040005002437))]),\n",
       "             param_grid=[{'feature_selection__k': [1, 2, 3, 4, 5, 6, 7, 8, 9,\n",
       "                                                   10, 11, 12, 13, 14, 15, 16],\n",
       "                          'preparation__num__imputer__strategy': ['mean',\n",
       "                                                                  'median',\n",
       "                                                                  'most_frequent']}],\n",
       "             scoring='neg_mean_squared_error', verbose=2)"
      ]
     },
     "execution_count": 94,
     "metadata": {},
     "output_type": "execute_result"
    }
   ],
   "source": [
    "full_pipeline.named_transformers_[\"cat\"].handle_unknown = 'ignore'\n",
    "\n",
    "param_grid = [{\n",
    "    'preparation__num__imputer__strategy': ['mean', 'median', 'most_frequent'],\n",
    "    'feature_selection__k': list(range(1, len(feature_importances) + 1))\n",
    "}]\n",
    "\n",
    "grid_search_prep = GridSearchCV(prepare_select_and_predict_pipeline, param_grid, cv=5,\n",
    "                                scoring='neg_mean_squared_error', verbose=2)\n",
    "grid_search_prep.fit(housing, housing_labels)"
   ]
  },
  {
   "cell_type": "code",
   "execution_count": null,
   "metadata": {},
   "outputs": [],
   "source": []
  },
  {
   "cell_type": "code",
   "execution_count": null,
   "metadata": {},
   "outputs": [],
   "source": []
  }
 ],
 "metadata": {
  "interpreter": {
   "hash": "d36062831919c6f3daeffbe5641f5fa64991ac4cf8118df12391063d0a49f731"
  },
  "kernelspec": {
   "display_name": "Python 3 (ipykernel)",
   "language": "python",
   "name": "python3"
  },
  "language_info": {
   "codemirror_mode": {
    "name": "ipython",
    "version": 3
   },
   "file_extension": ".py",
   "mimetype": "text/x-python",
   "name": "python",
   "nbconvert_exporter": "python",
   "pygments_lexer": "ipython3",
   "version": "3.9.7"
  }
 },
 "nbformat": 4,
 "nbformat_minor": 2
}
